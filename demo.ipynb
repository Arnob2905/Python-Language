{
 "cells": [
  {
   "cell_type": "code",
   "execution_count": 68,
   "id": "e4ffc073",
   "metadata": {},
   "outputs": [
    {
     "name": "stdout",
     "output_type": "stream",
     "text": [
      "hello\n"
     ]
    }
   ],
   "source": [
    "print('hello')"
   ]
  },
  {
   "cell_type": "code",
   "execution_count": 1,
   "id": "064de010",
   "metadata": {},
   "outputs": [
    {
     "data": {
      "text/plain": [
       "6000"
      ]
     },
     "execution_count": 1,
     "metadata": {},
     "output_type": "execute_result"
    }
   ],
   "source": [
    "a=10\n",
    "b=20\n",
    "c=a+b\n",
    "a*b*c"
   ]
  },
  {
   "cell_type": "code",
   "execution_count": 2,
   "id": "5aac5011",
   "metadata": {},
   "outputs": [
    {
     "name": "stdout",
     "output_type": "stream",
     "text": [
      "Help on list object:\n",
      "\n",
      "class list(object)\n",
      " |  list(iterable=(), /)\n",
      " |\n",
      " |  Built-in mutable sequence.\n",
      " |\n",
      " |  If no argument is given, the constructor creates a new empty list.\n",
      " |  The argument must be an iterable if specified.\n",
      " |\n",
      " |  Methods defined here:\n",
      " |\n",
      " |  __add__(self, value, /)\n",
      " |      Return self+value.\n",
      " |\n",
      " |  __contains__(self, key, /)\n",
      " |      Return bool(key in self).\n",
      " |\n",
      " |  __delitem__(self, key, /)\n",
      " |      Delete self[key].\n",
      " |\n",
      " |  __eq__(self, value, /)\n",
      " |      Return self==value.\n",
      " |\n",
      " |  __ge__(self, value, /)\n",
      " |      Return self>=value.\n",
      " |\n",
      " |  __getattribute__(self, name, /)\n",
      " |      Return getattr(self, name).\n",
      " |\n",
      " |  __getitem__(self, index, /)\n",
      " |      Return self[index].\n",
      " |\n",
      " |  __gt__(self, value, /)\n",
      " |      Return self>value.\n",
      " |\n",
      " |  __iadd__(self, value, /)\n",
      " |      Implement self+=value.\n",
      " |\n",
      " |  __imul__(self, value, /)\n",
      " |      Implement self*=value.\n",
      " |\n",
      " |  __init__(self, /, *args, **kwargs)\n",
      " |      Initialize self.  See help(type(self)) for accurate signature.\n",
      " |\n",
      " |  __iter__(self, /)\n",
      " |      Implement iter(self).\n",
      " |\n",
      " |  __le__(self, value, /)\n",
      " |      Return self<=value.\n",
      " |\n",
      " |  __len__(self, /)\n",
      " |      Return len(self).\n",
      " |\n",
      " |  __lt__(self, value, /)\n",
      " |      Return self<value.\n",
      " |\n",
      " |  __mul__(self, value, /)\n",
      " |      Return self*value.\n",
      " |\n",
      " |  __ne__(self, value, /)\n",
      " |      Return self!=value.\n",
      " |\n",
      " |  __repr__(self, /)\n",
      " |      Return repr(self).\n",
      " |\n",
      " |  __reversed__(self, /)\n",
      " |      Return a reverse iterator over the list.\n",
      " |\n",
      " |  __rmul__(self, value, /)\n",
      " |      Return value*self.\n",
      " |\n",
      " |  __setitem__(self, key, value, /)\n",
      " |      Set self[key] to value.\n",
      " |\n",
      " |  __sizeof__(self, /)\n",
      " |      Return the size of the list in memory, in bytes.\n",
      " |\n",
      " |  append(self, object, /)\n",
      " |      Append object to the end of the list.\n",
      " |\n",
      " |  clear(self, /)\n",
      " |      Remove all items from list.\n",
      " |\n",
      " |  copy(self, /)\n",
      " |      Return a shallow copy of the list.\n",
      " |\n",
      " |  count(self, value, /)\n",
      " |      Return number of occurrences of value.\n",
      " |\n",
      " |  extend(self, iterable, /)\n",
      " |      Extend list by appending elements from the iterable.\n",
      " |\n",
      " |  index(self, value, start=0, stop=9223372036854775807, /)\n",
      " |      Return first index of value.\n",
      " |\n",
      " |      Raises ValueError if the value is not present.\n",
      " |\n",
      " |  insert(self, index, object, /)\n",
      " |      Insert object before index.\n",
      " |\n",
      " |  pop(self, index=-1, /)\n",
      " |      Remove and return item at index (default last).\n",
      " |\n",
      " |      Raises IndexError if list is empty or index is out of range.\n",
      " |\n",
      " |  remove(self, value, /)\n",
      " |      Remove first occurrence of value.\n",
      " |\n",
      " |      Raises ValueError if the value is not present.\n",
      " |\n",
      " |  reverse(self, /)\n",
      " |      Reverse *IN PLACE*.\n",
      " |\n",
      " |  sort(self, /, *, key=None, reverse=False)\n",
      " |      Sort the list in ascending order and return None.\n",
      " |\n",
      " |      The sort is in-place (i.e. the list itself is modified) and stable (i.e. the\n",
      " |      order of two equal elements is maintained).\n",
      " |\n",
      " |      If a key function is given, apply it once to each list item and sort them,\n",
      " |      ascending or descending, according to their function values.\n",
      " |\n",
      " |      The reverse flag can be set to sort in descending order.\n",
      " |\n",
      " |  ----------------------------------------------------------------------\n",
      " |  Class methods defined here:\n",
      " |\n",
      " |  __class_getitem__(...)\n",
      " |      See PEP 585\n",
      " |\n",
      " |  ----------------------------------------------------------------------\n",
      " |  Static methods defined here:\n",
      " |\n",
      " |  __new__(*args, **kwargs)\n",
      " |      Create and return a new object.  See help(type) for accurate signature.\n",
      " |\n",
      " |  ----------------------------------------------------------------------\n",
      " |  Data and other attributes defined here:\n",
      " |\n",
      " |  __hash__ = None\n",
      "\n"
     ]
    }
   ],
   "source": [
    "help(list())"
   ]
  },
  {
   "cell_type": "code",
   "execution_count": 3,
   "id": "4ea51513",
   "metadata": {},
   "outputs": [
    {
     "data": {
      "text/plain": [
       "8"
      ]
     },
     "execution_count": 3,
     "metadata": {},
     "output_type": "execute_result"
    }
   ],
   "source": [
    "pow(2,3)"
   ]
  },
  {
   "cell_type": "code",
   "execution_count": 10,
   "id": "7444fe78",
   "metadata": {},
   "outputs": [
    {
     "data": {
      "text/plain": [
       "['__add__',\n",
       " '__class__',\n",
       " '__class_getitem__',\n",
       " '__contains__',\n",
       " '__delattr__',\n",
       " '__delitem__',\n",
       " '__dir__',\n",
       " '__doc__',\n",
       " '__eq__',\n",
       " '__format__',\n",
       " '__ge__',\n",
       " '__getattribute__',\n",
       " '__getitem__',\n",
       " '__getstate__',\n",
       " '__gt__',\n",
       " '__hash__',\n",
       " '__iadd__',\n",
       " '__imul__',\n",
       " '__init__',\n",
       " '__init_subclass__',\n",
       " '__iter__',\n",
       " '__le__',\n",
       " '__len__',\n",
       " '__lt__',\n",
       " '__mul__',\n",
       " '__ne__',\n",
       " '__new__',\n",
       " '__reduce__',\n",
       " '__reduce_ex__',\n",
       " '__repr__',\n",
       " '__reversed__',\n",
       " '__rmul__',\n",
       " '__setattr__',\n",
       " '__setitem__',\n",
       " '__sizeof__',\n",
       " '__str__',\n",
       " '__subclasshook__',\n",
       " 'append',\n",
       " 'clear',\n",
       " 'copy',\n",
       " 'count',\n",
       " 'extend',\n",
       " 'index',\n",
       " 'insert',\n",
       " 'pop',\n",
       " 'remove',\n",
       " 'reverse',\n",
       " 'sort']"
      ]
     },
     "execution_count": 10,
     "metadata": {},
     "output_type": "execute_result"
    }
   ],
   "source": [
    "dir(list())"
   ]
  },
  {
   "cell_type": "code",
   "execution_count": 5,
   "id": "b5db24e2",
   "metadata": {},
   "outputs": [
    {
     "data": {
      "text/plain": [
       "9"
      ]
     },
     "execution_count": 5,
     "metadata": {},
     "output_type": "execute_result"
    }
   ],
   "source": [
    "sum((4,5))"
   ]
  },
  {
   "cell_type": "code",
   "execution_count": 72,
   "id": "e278543a",
   "metadata": {},
   "outputs": [
    {
     "name": "stdout",
     "output_type": "stream",
     "text": [
      "12\n",
      "<class 'int'>\n"
     ]
    }
   ],
   "source": [
    "var=eval(input(\"enter data\"))\n",
    "print(var)\n",
    "print(type(var))"
   ]
  },
  {
   "cell_type": "code",
   "execution_count": null,
   "id": "e09e1ba8",
   "metadata": {},
   "outputs": [
    {
     "name": "stdout",
     "output_type": "stream",
     "text": [
      "14\n"
     ]
    }
   ],
   "source": [
    "age=int(input(\"enter ur age\"))\n",
    "print(age)"
   ]
  },
  {
   "cell_type": "code",
   "execution_count": null,
   "id": "15460171",
   "metadata": {},
   "outputs": [
    {
     "name": "stdout",
     "output_type": "stream",
     "text": [
      "Hello,Arnob,Soham\n"
     ]
    }
   ],
   "source": [
    "print(\"Hello\",\"Arnob\",\"Soham\",sep=\",\")"
   ]
  },
  {
   "cell_type": "code",
   "execution_count": null,
   "id": "92366a2d",
   "metadata": {},
   "outputs": [
    {
     "name": "stdout",
     "output_type": "stream",
     "text": [
      "Hello World\n"
     ]
    }
   ],
   "source": [
    "print(\"Hello\",end=\" \")#nice........\n",
    "print(\"World\")"
   ]
  },
  {
   "cell_type": "code",
   "execution_count": null,
   "id": "05bc40ce",
   "metadata": {},
   "outputs": [
    {
     "data": {
      "text/plain": [
       "['False',\n",
       " 'None',\n",
       " 'True',\n",
       " 'and',\n",
       " 'as',\n",
       " 'assert',\n",
       " 'async',\n",
       " 'await',\n",
       " 'break',\n",
       " 'class',\n",
       " 'continue',\n",
       " 'def',\n",
       " 'del',\n",
       " 'elif',\n",
       " 'else',\n",
       " 'except',\n",
       " 'finally',\n",
       " 'for',\n",
       " 'from',\n",
       " 'global',\n",
       " 'if',\n",
       " 'import',\n",
       " 'in',\n",
       " 'is',\n",
       " 'lambda',\n",
       " 'nonlocal',\n",
       " 'not',\n",
       " 'or',\n",
       " 'pass',\n",
       " 'raise',\n",
       " 'return',\n",
       " 'try',\n",
       " 'while',\n",
       " 'with',\n",
       " 'yield']"
      ]
     },
     "execution_count": 59,
     "metadata": {},
     "output_type": "execute_result"
    }
   ],
   "source": [
    "import keyword\n",
    "keyword.kwlist"
   ]
  },
  {
   "cell_type": "code",
   "execution_count": null,
   "id": "34636b20",
   "metadata": {},
   "outputs": [],
   "source": [
    "var=True  #var=true   is wrong...."
   ]
  },
  {
   "cell_type": "code",
   "execution_count": null,
   "id": "2fa2d327",
   "metadata": {},
   "outputs": [
    {
     "name": "stdout",
     "output_type": "stream",
     "text": [
      "arnab\n",
      "arnab\n",
      "arnab\n",
      "arnab\n",
      "<class 'str'>\n"
     ]
    }
   ],
   "source": [
    "a=\"arnab\"\n",
    "print(a)\n",
    "print(a)\n",
    "print(a)\n",
    "print(a)\n",
    "print(type(a))\n"
   ]
  },
  {
   "cell_type": "code",
   "execution_count": null,
   "id": "93ef999a",
   "metadata": {},
   "outputs": [
    {
     "name": "stdout",
     "output_type": "stream",
     "text": [
      "12\n",
      "<class 'int'>\n"
     ]
    }
   ],
   "source": [
    "a=12\n",
    "print(a)\n",
    "print(type(a))"
   ]
  },
  {
   "cell_type": "code",
   "execution_count": null,
   "id": "9a80af36",
   "metadata": {},
   "outputs": [
    {
     "name": "stdout",
     "output_type": "stream",
     "text": [
      "(12+5j)\n",
      "<class 'complex'>\n"
     ]
    }
   ],
   "source": [
    "#Python Complex....\n",
    "a=12+5j\n",
    "print(a)\n",
    "print(type(a))"
   ]
  },
  {
   "cell_type": "code",
   "execution_count": null,
   "id": "662296b1",
   "metadata": {},
   "outputs": [
    {
     "name": "stdout",
     "output_type": "stream",
     "text": [
      "True\n",
      "<class 'bool'>\n"
     ]
    }
   ],
   "source": [
    "#Python Boolean....\n",
    "a=True\n",
    "print(a)\n",
    "print(type(a))"
   ]
  },
  {
   "cell_type": "code",
   "execution_count": null,
   "id": "6a16b513",
   "metadata": {},
   "outputs": [
    {
     "name": "stdout",
     "output_type": "stream",
     "text": [
      "[10, 'arnob', 43.5]\n",
      "<class 'list'>\n"
     ]
    }
   ],
   "source": [
    "#Python List....\n",
    "a=[10,\"arnob\",43.5]\n",
    "print(a)\n",
    "print(type(a))"
   ]
  },
  {
   "cell_type": "code",
   "execution_count": null,
   "id": "189fdc3b",
   "metadata": {},
   "outputs": [
    {
     "name": "stdout",
     "output_type": "stream",
     "text": [
      "(10, 'Soham', 34.567)\n",
      "<class 'tuple'>\n"
     ]
    }
   ],
   "source": [
    "#Python Tuple.....\n",
    "a=(10,\"Soham\",34.567)\n",
    "print(a)\n",
    "print(type(a))"
   ]
  },
  {
   "cell_type": "code",
   "execution_count": null,
   "id": "f469d71f",
   "metadata": {},
   "outputs": [
    {
     "name": "stdout",
     "output_type": "stream",
     "text": [
      "{1.23, 10, 'Adhir'}\n",
      "<class 'set'>\n"
     ]
    }
   ],
   "source": [
    "#Python Set....\n",
    "a={10,\"Adhir\",1.23}\n",
    "print(a)\n",
    "print(type(a))"
   ]
  },
  {
   "cell_type": "code",
   "execution_count": null,
   "id": "79ecfaa8",
   "metadata": {},
   "outputs": [
    {
     "name": "stdout",
     "output_type": "stream",
     "text": [
      "{'age': 21, 'marks': 31}\n",
      "<class 'dict'>\n"
     ]
    }
   ],
   "source": [
    "#Python Dict.....\n",
    "a={'age':21,\"marks\":31}\n",
    "print(a)\n",
    "print(type(a))\n",
    "\n"
   ]
  },
  {
   "cell_type": "code",
   "execution_count": null,
   "id": "da2698cd",
   "metadata": {},
   "outputs": [
    {
     "name": "stdout",
     "output_type": "stream",
     "text": [
      "{'age': 21}\n",
      "<class 'dict'>\n",
      "21\n"
     ]
    }
   ],
   "source": [
    "#Python Dict....\n",
    "a={'age':21}\n",
    "print(a)\n",
    "print(type(a))\n",
    "print(a.get(\"age\"))"
   ]
  },
  {
   "cell_type": "markdown",
   "id": "683825eb",
   "metadata": {},
   "source": [
    "List Data Structure all methods"
   ]
  },
  {
   "cell_type": "code",
   "execution_count": null,
   "id": "be11fd7d",
   "metadata": {},
   "outputs": [
    {
     "name": "stdout",
     "output_type": "stream",
     "text": [
      "True\n"
     ]
    }
   ],
   "source": [
    "list1=[10,\"arnob\",True,12.3,\"ankit\",10]\n",
    "print(list1[2])\n"
   ]
  },
  {
   "cell_type": "code",
   "execution_count": null,
   "id": "e00d9241",
   "metadata": {},
   "outputs": [
    {
     "name": "stdout",
     "output_type": "stream",
     "text": [
      "[True, 12.3, 'ankit']\n"
     ]
    }
   ],
   "source": [
    "list1=[10,\"arnob\",True,12.3,\"ankit\",10]\n",
    "print(list1[2:5])\n"
   ]
  },
  {
   "cell_type": "code",
   "execution_count": null,
   "id": "bc6058a3",
   "metadata": {},
   "outputs": [
    {
     "name": "stdout",
     "output_type": "stream",
     "text": [
      "2\n"
     ]
    }
   ],
   "source": [
    "#countmethod\n",
    "list1=[10,\"arnob\",True,12.3,\"arnob\",10]\n",
    "print(list1.count(\"arnob\"))\n"
   ]
  },
  {
   "cell_type": "code",
   "execution_count": null,
   "id": "e80e1303",
   "metadata": {},
   "outputs": [
    {
     "name": "stdout",
     "output_type": "stream",
     "text": [
      "5\n"
     ]
    }
   ],
   "source": [
    "#indexmethod\n",
    "list1=[10,\"arnob\",True,12.3,\"ankit\",10]\n",
    "print(list1.index(10,1))\n"
   ]
  },
  {
   "cell_type": "code",
   "execution_count": null,
   "id": "6beb9311",
   "metadata": {},
   "outputs": [
    {
     "name": "stdout",
     "output_type": "stream",
     "text": [
      "[10, 'arnob', 'wear', True, 12.3, 'ankit', 10]\n"
     ]
    }
   ],
   "source": [
    "#insertmethod\n",
    "list1=[10,\"arnob\",True,12.3,\"ankit\",10]\n",
    "list1.insert(2,\"wear\")\n",
    "print(list1)\n"
   ]
  },
  {
   "cell_type": "code",
   "execution_count": null,
   "id": "9e7757cd",
   "metadata": {},
   "outputs": [
    {
     "name": "stdout",
     "output_type": "stream",
     "text": [
      "[10, 'arnob', True, 12.3, 'ankit', 10]\n"
     ]
    }
   ],
   "source": [
    "#pop\n",
    "list1=[10,\"arnob\",\"wear\",True,12.3,\"ankit\",10]\n",
    "list1.pop(2)\n",
    "print(list1)\n"
   ]
  },
  {
   "cell_type": "code",
   "execution_count": null,
   "id": "eadad512",
   "metadata": {},
   "outputs": [
    {
     "name": "stdout",
     "output_type": "stream",
     "text": [
      "[10, 'arnob', True, 12.3, 'ankit', 10, 12, 'code', False, 3.4, 'LF']\n"
     ]
    }
   ],
   "source": [
    "#extendmethod\n",
    "list1=[10,\"arnob\",True,12.3,\"ankit\",10]\n",
    "list2=[12,\"code\",False,3.4,\"LF\"]\n",
    "list1.extend(list2)\n",
    "print(list1)\n"
   ]
  },
  {
   "cell_type": "code",
   "execution_count": null,
   "id": "7d516fba",
   "metadata": {},
   "outputs": [
    {
     "name": "stdout",
     "output_type": "stream",
     "text": [
      "[10, 'arnob', True, 12.3, 'ankit', 10]\n"
     ]
    }
   ],
   "source": [
    "#copymethod\n",
    "list1=[10,\"arnob\",True,12.3,\"ankit\",10]\n",
    "list2=list1.copy()\n",
    "print(list2)\n"
   ]
  },
  {
   "cell_type": "code",
   "execution_count": null,
   "id": "9b317354",
   "metadata": {},
   "outputs": [
    {
     "name": "stdout",
     "output_type": "stream",
     "text": [
      "[1200, 1089, 130, 34, 28, 12, 10]\n"
     ]
    }
   ],
   "source": [
    "#sortmethod\n",
    "#list1=[10,130,12,34,25,89,10] #accending\n",
    "#list1.sort()\n",
    "#print(list1)\n",
    "\n",
    "list1=[10,130,12,34,28,1200,1089] #decending\n",
    "list1.sort(reverse=True)\n",
    "print(list1)\n",
    "\n"
   ]
  },
  {
   "cell_type": "code",
   "execution_count": null,
   "id": "4e67abaf",
   "metadata": {},
   "outputs": [
    {
     "name": "stdout",
     "output_type": "stream",
     "text": [
      "[52, 124, 13, 10, 12]\n"
     ]
    }
   ],
   "source": [
    "#reversemethod\n",
    "list1=[12,10,13,124,52]\n",
    "list1.reverse()\n",
    "print(list1)"
   ]
  },
  {
   "cell_type": "code",
   "execution_count": null,
   "id": "8d17cd0c",
   "metadata": {},
   "outputs": [
    {
     "name": "stdout",
     "output_type": "stream",
     "text": [
      "[['ankit', ['arnob', 123, 12.4]], 52, 124, 13, 10, 12]\n"
     ]
    }
   ],
   "source": [
    "#Nestedlist\n",
    "list1=[12,10,13,124,52,[\"ankit\",[\"arnob\",123,12.4]]]\n",
    "list1.reverse()\n",
    "print(list1)"
   ]
  },
  {
   "cell_type": "code",
   "execution_count": null,
   "id": "333b0193",
   "metadata": {},
   "outputs": [
    {
     "name": "stdout",
     "output_type": "stream",
     "text": [
      "['arnob', 'arnav']\n"
     ]
    }
   ],
   "source": [
    "#listcomprehension\n",
    "list1=[\"arnob\",\"arnav\",\"akit\",\"rohit\",\"happy\"]\n",
    "a=[word for word in list1 if word.startswith(\"ar\")]\n",
    "print(a)"
   ]
  },
  {
   "cell_type": "code",
   "execution_count": null,
   "id": "82cd03e5",
   "metadata": {},
   "outputs": [
    {
     "name": "stdout",
     "output_type": "stream",
     "text": [
      "anrup\n",
      "arnav\n"
     ]
    }
   ],
   "source": [
    "#listunpacking\n",
    "list1=[\"anrup\",\"arnav\"]\n",
    "n1,n2=list1\n",
    "print(n1)\n",
    "print(n2)"
   ]
  },
  {
   "cell_type": "code",
   "execution_count": 7,
   "id": "f7f84e8f",
   "metadata": {},
   "outputs": [
    {
     "name": "stdout",
     "output_type": "stream",
     "text": [
      "11\n",
      "11\n"
     ]
    }
   ],
   "source": [
    "#Functions\n",
    "def abc(a,b):\n",
    "    add=a+b\n",
    "    print(add)\n",
    "    return add\n",
    "\n",
    "bcd = abc(5,6)\n",
    "print(bcd)"
   ]
  },
  {
   "cell_type": "markdown",
   "id": "9d8bfb36",
   "metadata": {},
   "source": [
    "Tuple Data Structure all methods   note:-Tuple is a unchangeable so cant use many of the operations"
   ]
  },
  {
   "cell_type": "code",
   "execution_count": null,
   "id": "3bd2dedf",
   "metadata": {},
   "outputs": [
    {
     "name": "stdout",
     "output_type": "stream",
     "text": [
      "8\n",
      "<class 'tuple'>\n"
     ]
    }
   ],
   "source": [
    "#empty type\n",
    "var=(1,2,3,4,5,True,\"arnab\",1.23)\n",
    "print(var)\n",
    "print(type(var))"
   ]
  },
  {
   "cell_type": "code",
   "execution_count": null,
   "id": "724c8917",
   "metadata": {},
   "outputs": [
    {
     "name": "stdout",
     "output_type": "stream",
     "text": [
      "8\n",
      "<class 'tuple'>\n"
     ]
    }
   ],
   "source": [
    "#lengthmethod\n",
    "var=(1,2,3,4,5,True,\"arnab\",1.23)\n",
    "print(len(var))\n",
    "print(type(var))"
   ]
  },
  {
   "cell_type": "code",
   "execution_count": null,
   "id": "5df70792",
   "metadata": {},
   "outputs": [
    {
     "name": "stdout",
     "output_type": "stream",
     "text": [
      "(1, 2, 3, 4, 5, True, 'arnab', 1.23)\n",
      "<class 'tuple'>\n"
     ]
    }
   ],
   "source": [
    "var=(1,2,3,4,5,True,\"arnab\",1.23)\n",
    "var2=var\n",
    "print(var2)\n",
    "print(type(var))"
   ]
  },
  {
   "cell_type": "code",
   "execution_count": null,
   "id": "d60259f2",
   "metadata": {},
   "outputs": [
    {
     "name": "stdout",
     "output_type": "stream",
     "text": [
      "6\n",
      "<class 'int'>\n"
     ]
    }
   ],
   "source": [
    "#indexmethod\n",
    "var=(1,2,3,4,5,True,\"arnab\",1.23)\n",
    "var1=var.index(\"arnab\")\n",
    "print(var1)\n",
    "print(type(var1))"
   ]
  },
  {
   "cell_type": "markdown",
   "id": "3666a3ff",
   "metadata": {},
   "source": [
    "Set Data Structure all methods"
   ]
  },
  {
   "cell_type": "code",
   "execution_count": null,
   "id": "510e73e6",
   "metadata": {},
   "outputs": [
    {
     "name": "stdout",
     "output_type": "stream",
     "text": [
      "{True, 10, 'arnob', 1.2}\n",
      "<class 'set'>\n"
     ]
    }
   ],
   "source": [
    "var={10,\"arnob\",True,1.2,1.2}\n",
    "print(var)\n",
    "print(type(var))"
   ]
  },
  {
   "cell_type": "code",
   "execution_count": 76,
   "id": "60ea5ac0",
   "metadata": {},
   "outputs": [
    {
     "name": "stdout",
     "output_type": "stream",
     "text": [
      "{True, 1.2, 'arnob', 10, 45, 'Soham'}\n",
      "<class 'set'>\n"
     ]
    }
   ],
   "source": [
    "#Add method\n",
    "var={10,\"arnob\",True,1.2,1.2}\n",
    "var.add(\"Soham\")\n",
    "var.add(45)\n",
    "print(var)\n",
    "print(type(var))\n"
   ]
  },
  {
   "cell_type": "code",
   "execution_count": 80,
   "id": "8cd8ebac",
   "metadata": {},
   "outputs": [
    {
     "name": "stdout",
     "output_type": "stream",
     "text": [
      "{True, 1.2, 'ankit', 'arnob', 'soham', 10, 'happy'}\n",
      "<class 'set'>\n"
     ]
    }
   ],
   "source": [
    "#Update method\n",
    "var={10,\"arnob\",True,1.2,\"ankit\"}\n",
    "var.update([\"soham\",\"happy\"])\n",
    "print(var)\n",
    "print(type(var))"
   ]
  },
  {
   "cell_type": "code",
   "execution_count": 87,
   "id": "40ed4c72",
   "metadata": {},
   "outputs": [
    {
     "name": "stdout",
     "output_type": "stream",
     "text": [
      "True\n",
      "1.2\n",
      "{'arnob', 'soham', 10}\n",
      "<class 'set'>\n"
     ]
    }
   ],
   "source": [
    "#pop method\n",
    "var={10,\"arnob\",True,1.2,\"soham\"}\n",
    "print(var.pop())\n",
    "print(var.pop())\n",
    "print(var)\n",
    "print(type(var))"
   ]
  },
  {
   "cell_type": "code",
   "execution_count": 90,
   "id": "bb39feeb",
   "metadata": {},
   "outputs": [
    {
     "name": "stdout",
     "output_type": "stream",
     "text": [
      "{True, 1.2, 'ankit', 10}\n"
     ]
    }
   ],
   "source": [
    "#remove method\n",
    "var={10,\"arnob\",True,1.2,\"ankit\"}\n",
    "var.remove(\"arnob\")\n",
    "print(var)"
   ]
  },
  {
   "cell_type": "code",
   "execution_count": 91,
   "id": "f4d3ee8b",
   "metadata": {},
   "outputs": [
    {
     "name": "stdout",
     "output_type": "stream",
     "text": [
      "set()\n"
     ]
    }
   ],
   "source": [
    "#clear method\n",
    "var={10,\"arnob\",True,1.2,\"ankit\"}\n",
    "var.clear()\n",
    "print(var)"
   ]
  },
  {
   "cell_type": "code",
   "execution_count": null,
   "id": "40a0b5f6",
   "metadata": {},
   "outputs": [
    {
     "name": "stdout",
     "output_type": "stream",
     "text": [
      "{False, True, 1.2, 'arnob', 10, 'india', 24.9, 'ankit'}\n",
      "{False, True, 1.2, 'arnob', 10, 'india', 24.9, 'ankit'}\n"
     ]
    }
   ],
   "source": [
    "#union method (unique value)\n",
    "var={10,\"arnob\",True,1.2,\"ankit\",24.9}\n",
    "var2={10,\"arnob\",True,1.2,\"ankit\",False,\"india\"}\n",
    "print(var.union(var2)) #1  method\n",
    "print(var | var2)      #2 operator"
   ]
  },
  {
   "cell_type": "code",
   "execution_count": null,
   "id": "9d85d454",
   "metadata": {},
   "outputs": [
    {
     "name": "stdout",
     "output_type": "stream",
     "text": [
      "{True, 1.2, 'arnob', 10, 'ankit'}\n",
      "{True, 1.2, 'arnob', 10, 'ankit'}\n"
     ]
    }
   ],
   "source": [
    "#intersection method   (common value)\n",
    "var={10,\"arnob\",True,1.2,\"ankit\",24.9}\n",
    "var2={10,\"arnob\",True,1.2,\"ankit\",False,\"india\"}\n",
    "print(var.intersection(var2)) #1  method\n",
    "print(var & var2)              #2  operator\n"
   ]
  },
  {
   "cell_type": "code",
   "execution_count": null,
   "id": "799563f5",
   "metadata": {},
   "outputs": [
    {
     "name": "stdout",
     "output_type": "stream",
     "text": [
      "{24.9}\n",
      "{24.9}\n"
     ]
    }
   ],
   "source": [
    "#difference method   (top)\n",
    "var={10,\"arnob\",True,1.2,\"ankit\",24.9}\n",
    "var2={10,\"arnob\",True,1.2,\"ankit\",False,\"india\"}\n",
    "print(var.difference(var2))   #1 method\n",
    "print(var -var2)              #2 operator\n"
   ]
  },
  {
   "cell_type": "code",
   "execution_count": 105,
   "id": "3a5f8940",
   "metadata": {},
   "outputs": [
    {
     "name": "stdout",
     "output_type": "stream",
     "text": [
      "{False, 'india', 24.9}\n"
     ]
    }
   ],
   "source": [
    "#symetricmethod (bottom)(unique value)\n",
    "var={10,\"arnob\",True,1.2,\"ankit\",24.9}\n",
    "var2={10,\"arnob\",True,1.2,\"ankit\",False,\"india\"}\n",
    "print(var.symmetric_difference(var2))\n"
   ]
  },
  {
   "cell_type": "markdown",
   "id": "9531f20c",
   "metadata": {},
   "source": [
    "Dictionary Data Structure all methods"
   ]
  },
  {
   "cell_type": "code",
   "execution_count": 17,
   "id": "a1ea3c47",
   "metadata": {},
   "outputs": [
    {
     "name": "stdout",
     "output_type": "stream",
     "text": [
      "{'Name': 'Ankit', 'Age': 19, 'Username': 'Arnob', 'password': 'Arnob9735'}\n",
      "<class 'dict'>\n"
     ]
    }
   ],
   "source": [
    "#empty dict\n",
    "var={\"Name\":\"Ankit\",\"Age\":19,\"Username\":\"Arnob\",\"password\":\"Arnob9735\"}\n",
    "print(var)\n",
    "print(type(var))"
   ]
  },
  {
   "cell_type": "code",
   "execution_count": 30,
   "id": "72eb8580",
   "metadata": {},
   "outputs": [
    {
     "name": "stdout",
     "output_type": "stream",
     "text": [
      "{'Age': 19, 'Username': 'Arnob', 'password': 'Arnob9735'}\n"
     ]
    }
   ],
   "source": [
    "#pop method\n",
    "var={\"Name\":\"Ankit\",\"Age\":19,\"Username\":\"Arnob\",\"password\":\"Arnob9735\"}\n",
    "var.pop(\"Name\")\n",
    "print(var)\n"
   ]
  },
  {
   "cell_type": "code",
   "execution_count": 27,
   "id": "16f09c2e",
   "metadata": {},
   "outputs": [
    {
     "name": "stdout",
     "output_type": "stream",
     "text": [
      "Arnob9735\n"
     ]
    }
   ],
   "source": [
    "#get method\n",
    "var={\"Name\":\"Ankit\",\"Age\":19,\"Username\":\"Arnob\",\"password\":\"Arnob9735\"}\n",
    "print(var.get(\"password\"))\n"
   ]
  },
  {
   "cell_type": "code",
   "execution_count": 31,
   "id": "eb145adc",
   "metadata": {},
   "outputs": [
    {
     "name": "stdout",
     "output_type": "stream",
     "text": [
      "{}\n"
     ]
    }
   ],
   "source": [
    "#clear method\n",
    "var={\"Name\":\"Ankit\",\"Age\":19,\"Username\":\"Arnob\",\"password\":\"Arnob9735\"}\n",
    "var.clear()\n",
    "print(var)"
   ]
  },
  {
   "cell_type": "code",
   "execution_count": 32,
   "id": "9635823c",
   "metadata": {},
   "outputs": [
    {
     "name": "stdout",
     "output_type": "stream",
     "text": [
      "dict_keys(['Name', 'Age', 'Username', 'password'])\n"
     ]
    }
   ],
   "source": [
    "#keys method\n",
    "var={\"Name\":\"Ankit\",\"Age\":19,\"Username\":\"Arnob\",\"password\":\"Arnob9735\"}\n",
    "print(var.keys())"
   ]
  },
  {
   "cell_type": "code",
   "execution_count": 33,
   "id": "aa0b7062",
   "metadata": {},
   "outputs": [
    {
     "name": "stdout",
     "output_type": "stream",
     "text": [
      "dict_values(['Ankit', 19, 'Arnob', 'Arnob9735'])\n"
     ]
    }
   ],
   "source": [
    "#values method\n",
    "var={\"Name\":\"Ankit\",\"Age\":19,\"Username\":\"Arnob\",\"password\":\"Arnob9735\"}\n",
    "print(var.values())"
   ]
  },
  {
   "cell_type": "code",
   "execution_count": 34,
   "id": "5d556902",
   "metadata": {},
   "outputs": [
    {
     "name": "stdout",
     "output_type": "stream",
     "text": [
      "dict_items([('Name', 'Ankit'), ('Age', 19), ('Username', 'Arnob'), ('password', 'Arnob9735')])\n"
     ]
    }
   ],
   "source": [
    "#items method\n",
    "var={\"Name\":\"Ankit\",\"Age\":19,\"Username\":\"Arnob\",\"password\":\"Arnob9735\"}\n",
    "print(var.items())"
   ]
  },
  {
   "cell_type": "code",
   "execution_count": 39,
   "id": "5aeeaa92",
   "metadata": {},
   "outputs": [
    {
     "name": "stdout",
     "output_type": "stream",
     "text": [
      "Name : Ankit\n",
      "Age : 19\n",
      "Username : Arnob\n",
      "password : Arnob9735\n"
     ]
    }
   ],
   "source": [
    "var={\"Name\":\"Ankit\",\"Age\":19,\"Username\":\"Arnob\",\"password\":\"Arnob9735\"}\n",
    "for key,values in var.items():\n",
    "    print(key,values,sep=\" : \")"
   ]
  },
  {
   "cell_type": "code",
   "execution_count": 42,
   "id": "1cdb5aed",
   "metadata": {},
   "outputs": [
    {
     "name": "stdout",
     "output_type": "stream",
     "text": [
      "{'Name': 'Ankit', 'Age': 50, 'Username': 'Ar', 'password': 9735}\n"
     ]
    }
   ],
   "source": [
    "#modification\n",
    "var={\"Name\":\"Ankit\",\"Age\":19,\"Username\":\"Arnob\",\"password\":\"Arnob9735\"}\n",
    "var[\"Age\"]=50\n",
    "var[\"password\"]=9735\n",
    "var[\"Username\"]=\"Ar\"\n",
    "print(var)"
   ]
  },
  {
   "cell_type": "markdown",
   "id": "1ad8a41f",
   "metadata": {},
   "source": [
    "Identifiers"
   ]
  },
  {
   "cell_type": "code",
   "execution_count": 43,
   "id": "83325dbd",
   "metadata": {},
   "outputs": [
    {
     "name": "stdout",
     "output_type": "stream",
     "text": [
      "10\n"
     ]
    }
   ],
   "source": [
    "var=10\n",
    "print(var)"
   ]
  },
  {
   "cell_type": "code",
   "execution_count": 46,
   "id": "d43506d0",
   "metadata": {},
   "outputs": [
    {
     "name": "stdout",
     "output_type": "stream",
     "text": [
      "10\n",
      "20\n",
      "30\n"
     ]
    }
   ],
   "source": [
    "var=10\n",
    "Var=20\n",
    "VAR=30\n",
    "print(var)\n",
    "print(Var)\n",
    "print(VAR)"
   ]
  },
  {
   "cell_type": "code",
   "execution_count": 56,
   "id": "907d7119",
   "metadata": {},
   "outputs": [
    {
     "name": "stdout",
     "output_type": "stream",
     "text": [
      "Arnob\n",
      "Ankit\n",
      "Ankush\n"
     ]
    }
   ],
   "source": [
    "#Using function\n",
    "class A:\n",
    "    def m1(self):\n",
    "        print(\"Arnob\")\n",
    "        print(\"Ankit\")\n",
    "        print(\"Ankush\")\n",
    "\n",
    "\n",
    "        \n",
    "r=A()\n",
    "r.m1()"
   ]
  },
  {
   "cell_type": "markdown",
   "id": "97840b7b",
   "metadata": {},
   "source": [
    "Operators\n"
   ]
  },
  {
   "cell_type": "code",
   "execution_count": null,
   "id": "766e0257",
   "metadata": {},
   "outputs": [
    {
     "name": "stdout",
     "output_type": "stream",
     "text": [
      "15\n",
      "11\n",
      "26\n",
      "6.5\n",
      "6\n",
      "169\n",
      "1\n"
     ]
    }
   ],
   "source": [
    "#Arithmetic Operators\n",
    "a=13\n",
    "b=2\n",
    "print(a+b)\n",
    "print(a-b)\n",
    "print(a*b)\n",
    "print(a/b)\n",
    "print(a//b)\n",
    "print(a**b)\n",
    "print(a%b)"
   ]
  },
  {
   "cell_type": "code",
   "execution_count": 58,
   "id": "2461f563",
   "metadata": {},
   "outputs": [
    {
     "name": "stdout",
     "output_type": "stream",
     "text": [
      "False\n",
      "True\n",
      "False\n",
      "True\n",
      "False\n",
      "True\n"
     ]
    }
   ],
   "source": [
    "#Relatinal Operators\n",
    "a=13\n",
    "b=11\n",
    "print(a<b)\n",
    "print(a>b)\n",
    "print(a<=b)\n",
    "print(a>=b)\n",
    "print(a==b)\n",
    "print(a!=b)\n"
   ]
  },
  {
   "cell_type": "code",
   "execution_count": 63,
   "id": "6ce507e2",
   "metadata": {},
   "outputs": [
    {
     "name": "stdout",
     "output_type": "stream",
     "text": [
      "False\n",
      "True\n",
      "True\n",
      "False\n"
     ]
    }
   ],
   "source": [
    "#Logical OPerators\n",
    "a=13\n",
    "b=11\n",
    "print(a<b and a>b)\n",
    "print(a>b  or a<b)\n",
    "print(not(a<b and a>b))\n",
    "print(not(a>b or a<b))\n"
   ]
  },
  {
   "cell_type": "code",
   "execution_count": null,
   "id": "b7712d9c",
   "metadata": {},
   "outputs": [
    {
     "name": "stdout",
     "output_type": "stream",
     "text": [
      "4\n",
      "7\n",
      "3\n",
      "-6\n",
      "7\n",
      "30\n"
     ]
    }
   ],
   "source": [
    "#Bitwise Operators\n",
    "print(5 & 6) #Bitwise and (if both 1 output 1 else 0)\n",
    "print(5 | 6) #Bitwise or  (if any 1 output 1 else 0)\n",
    "print(5 ^ 6) #Bitwise xor (if both same then output 0 else 1)\n",
    "print(~  5)  #Bitwise complement \n",
    "print(15>>1) #>> shift right\n",
    "print(15<<1) #<< shift left\n"
   ]
  },
  {
   "cell_type": "code",
   "execution_count": null,
   "id": "0c8bdf32",
   "metadata": {},
   "outputs": [
    {
     "name": "stdout",
     "output_type": "stream",
     "text": [
      "5\n"
     ]
    }
   ],
   "source": [
    "#Assignment Operators\n",
    "a=5     # ( = ) \n",
    "print(a)"
   ]
  },
  {
   "cell_type": "code",
   "execution_count": 79,
   "id": "739341af",
   "metadata": {},
   "outputs": [
    {
     "name": "stdout",
     "output_type": "stream",
     "text": [
      "True\n",
      "False\n"
     ]
    }
   ],
   "source": [
    "#Special Operators\n",
    "  #a) identity operator      (is, is not)\n",
    "a=5\n",
    "\n",
    "b=6\n",
    "\n",
    "print(a is not b)\n",
    "print(a is b)"
   ]
  },
  {
   "cell_type": "code",
   "execution_count": 83,
   "id": "b25a584a",
   "metadata": {},
   "outputs": [
    {
     "name": "stdout",
     "output_type": "stream",
     "text": [
      "True\n",
      "False\n"
     ]
    }
   ],
   "source": [
    "#b) membership operator           (in , not in)\n",
    "\n",
    "var=\"India is great\"\n",
    "\n",
    "print(\"great\" in var)\n",
    "\n",
    "print(\"India\" not in var)"
   ]
  },
  {
   "cell_type": "markdown",
   "id": "ba34b1eb",
   "metadata": {},
   "source": [
    "Flow control\n",
    "1) Conditional Statements\n",
    "if  | if else  | else if "
   ]
  },
  {
   "cell_type": "code",
   "execution_count": 6,
   "id": "5adfce67",
   "metadata": {},
   "outputs": [
    {
     "name": "stdout",
     "output_type": "stream",
     "text": [
      "number is odd\n"
     ]
    }
   ],
   "source": [
    "#if else\n",
    "user_input=int(input(\"Enter a number:\"))\n",
    "if user_input % 2 ==0:\n",
    "    print(\"number is even\")\n",
    "else:\n",
    "    print(\"number is odd\")    \n",
    "\n",
    "   \n"
   ]
  },
  {
   "cell_type": "code",
   "execution_count": 18,
   "id": "9f7d3efb",
   "metadata": {},
   "outputs": [
    {
     "name": "stdout",
     "output_type": "stream",
     "text": [
      "You are too young to marry!\n"
     ]
    }
   ],
   "source": [
    "#else if\n",
    "age=int(input(\"Enter a age:\"))\n",
    "if age <= 18:\n",
    "    print(\"You are too young to marry!\")\n",
    "elif age >= 60: \n",
    "    print(\"You are too old to marry!\") \n",
    "else:\n",
    "    print(\"We will find a perfect match for you!\")\n"
   ]
  },
  {
   "cell_type": "markdown",
   "id": "f26da3f3",
   "metadata": {},
   "source": [
    "2) Iterative Statements\n",
    "For loop  |  While Loop"
   ]
  },
  {
   "cell_type": "code",
   "execution_count": 45,
   "id": "04eb7938",
   "metadata": {},
   "outputs": [
    {
     "name": "stdout",
     "output_type": "stream",
     "text": [
      "1\n",
      "2\n",
      "3\n",
      "4\n",
      "5\n",
      "6\n",
      "7\n",
      "8\n",
      "9\n",
      "10\n"
     ]
    }
   ],
   "source": [
    "#forloop\n",
    "num=int(input(\"enter a number:\"))\n",
    "for number in range(1,11):\n",
    "    print(num*number)     "
   ]
  },
  {
   "cell_type": "code",
   "execution_count": 48,
   "id": "85483a6f",
   "metadata": {},
   "outputs": [
    {
     "name": "stdout",
     "output_type": "stream",
     "text": [
      "Unlocked !!\n"
     ]
    }
   ],
   "source": [
    "#whileloop\n",
    "password=\"arnob\"\n",
    "input_password=input(\"enter password:\")\n",
    "while password != input_password:\n",
    "    input_password=input(\"password inncorrect:\")\n",
    "else:\n",
    "    print(\"Unlocked !!\")"
   ]
  },
  {
   "cell_type": "markdown",
   "id": "f889cb96",
   "metadata": {},
   "source": [
    "3) Transfer Statements\n",
    "Break  | Continue  | Pass"
   ]
  },
  {
   "cell_type": "code",
   "execution_count": null,
   "id": "911c4884",
   "metadata": {},
   "outputs": [
    {
     "name": "stdout",
     "output_type": "stream",
     "text": [
      "1\n"
     ]
    }
   ],
   "source": [
    "#Break              means  exits the loop completely.\n",
    "for num in range(1,11):\n",
    "    if num %2==0:\n",
    "        break\n",
    "    else:\n",
    "        print(num)\n",
    "\n"
   ]
  },
  {
   "cell_type": "code",
   "execution_count": null,
   "id": "2d3c619a",
   "metadata": {},
   "outputs": [
    {
     "name": "stdout",
     "output_type": "stream",
     "text": [
      "1\n",
      "3\n",
      "5\n",
      "7\n",
      "9\n"
     ]
    }
   ],
   "source": [
    "#Continue               means skipping the rest of the current condition , moves to the next loop.\n",
    "for num in range(1,11):\n",
    "    if num %2==0:\n",
    "        continue\n",
    "    else:\n",
    "        print(num)"
   ]
  },
  {
   "cell_type": "code",
   "execution_count": null,
   "id": "995701c0",
   "metadata": {},
   "outputs": [],
   "source": [
    "#Pass    means empty or null operations.\n",
    "for i in range(5):\n",
    "    pass"
   ]
  },
  {
   "cell_type": "markdown",
   "id": "5556d20e",
   "metadata": {},
   "source": [
    "Module\n",
    "\n",
    "1. Predfined Module\n",
    "2. Userdefined Module"
   ]
  },
  {
   "cell_type": "code",
   "execution_count": 4,
   "id": "aaca9fc1",
   "metadata": {},
   "outputs": [
    {
     "name": "stdout",
     "output_type": "stream",
     "text": [
      "      May 2025\n",
      "Mo Tu We Th Fr Sa Su\n",
      "          1  2  3  4\n",
      " 5  6  7  8  9 10 11\n",
      "12 13 14 15 16 17 18\n",
      "19 20 21 22 23 24 25\n",
      "26 27 28 29 30 31\n",
      "\n"
     ]
    }
   ],
   "source": [
    "#predefined module\n",
    "\n",
    "#calendar module\n",
    "\n",
    "import calendar\n",
    "print(calendar.month(2025,5))"
   ]
  },
  {
   "cell_type": "code",
   "execution_count": 7,
   "id": "638fea15",
   "metadata": {},
   "outputs": [
    {
     "name": "stdout",
     "output_type": "stream",
     "text": [
      "['False', 'None', 'True', 'and', 'as', 'assert', 'async', 'await', 'break', 'class', 'continue', 'def', 'del', 'elif', 'else', 'except', 'finally', 'for', 'from', 'global', 'if', 'import', 'in', 'is', 'lambda', 'nonlocal', 'not', 'or', 'pass', 'raise', 'return', 'try', 'while', 'with', 'yield']\n"
     ]
    }
   ],
   "source": [
    "#keyword module\n",
    "\n",
    "import keyword\n",
    "print(keyword.kwlist)"
   ]
  },
  {
   "cell_type": "markdown",
   "id": "0c16b6d5",
   "metadata": {},
   "source": [
    "Functions\n",
    "1. Pre defined (print and len or which comes with python)\n",
    "2. User defined ( we creates to fulfill our business requirements)"
   ]
  },
  {
   "cell_type": "code",
   "execution_count": 17,
   "id": "88408244",
   "metadata": {},
   "outputs": [
    {
     "name": "stdout",
     "output_type": "stream",
     "text": [
      "this is print function\n",
      "11\n"
     ]
    }
   ],
   "source": [
    "# Pre defined functions\n",
    "\n",
    "print(\"this is print function\")\n",
    "\n",
    "print(len(\"arnob maity\"))"
   ]
  },
  {
   "cell_type": "code",
   "execution_count": 101,
   "id": "f7abb472",
   "metadata": {},
   "outputs": [
    {
     "name": "stdout",
     "output_type": "stream",
     "text": [
      "addition : 12\n",
      "subtraction : 4\n",
      "multiplication : 32\n",
      "div : 2.0\n",
      "addition : 19\n",
      "subtraction : -11\n",
      "multiplication : 60\n",
      "div : 0.26666666666666666\n"
     ]
    }
   ],
   "source": [
    "# User defined functions\n",
    "\n",
    "def calculator(a,b):\n",
    "\n",
    "    print(\"addition :\",a+b)\n",
    "    print(\"subtraction :\",a-b)\n",
    "    print(\"multiplication :\",a*b)\n",
    "    print(\"div :\",a/b)\n",
    "\n",
    "calculator(8,4)\n",
    "\n",
    "calculator(4,15)\n",
    "\n",
    "\n",
    "\n"
   ]
  },
  {
   "cell_type": "code",
   "execution_count": 29,
   "id": "c37fa619",
   "metadata": {},
   "outputs": [
    {
     "name": "stdout",
     "output_type": "stream",
     "text": [
      "good evening\n",
      "None\n"
     ]
    }
   ],
   "source": [
    "def greet():\n",
    "    print(\"good evening\")\n",
    "\n",
    "print (greet())    "
   ]
  },
  {
   "cell_type": "code",
   "execution_count": 30,
   "id": "b3e72dbc",
   "metadata": {},
   "outputs": [
    {
     "name": "stdout",
     "output_type": "stream",
     "text": [
      "good evening\n"
     ]
    }
   ],
   "source": [
    "def greet():\n",
    "    return\"good evening\"\n",
    "\n",
    "print (greet())   "
   ]
  },
  {
   "cell_type": "code",
   "execution_count": 32,
   "id": "3a9e2621",
   "metadata": {},
   "outputs": [
    {
     "name": "stdout",
     "output_type": "stream",
     "text": [
      "good evening\n"
     ]
    }
   ],
   "source": [
    "def greet():\n",
    "    return\"good evening\"\n",
    "\n",
    "msg = greet()\n",
    "print(msg)"
   ]
  },
  {
   "cell_type": "code",
   "execution_count": 33,
   "id": "303c170f",
   "metadata": {},
   "outputs": [
    {
     "name": "stdout",
     "output_type": "stream",
     "text": [
      "Good evening Arnab\n"
     ]
    }
   ],
   "source": [
    "def greet(name):\n",
    "    print(\"Good evening\",name)\n",
    "\n",
    "greet(\"Arnab\")    "
   ]
  },
  {
   "cell_type": "code",
   "execution_count": 37,
   "id": "930af923",
   "metadata": {},
   "outputs": [
    {
     "name": "stdout",
     "output_type": "stream",
     "text": [
      "good evening guest\n"
     ]
    }
   ],
   "source": [
    "#default arguments.\n",
    "def greet(firstname=\"guest\"):\n",
    "    print(\"good evening\",firstname)\n",
    "\n",
    "\n",
    "greet()    "
   ]
  },
  {
   "cell_type": "code",
   "execution_count": null,
   "id": "cbcc0654",
   "metadata": {},
   "outputs": [
    {
     "name": "stdout",
     "output_type": "stream",
     "text": [
      "('India', 'Srilanka', 'America')\n",
      "3\n",
      "<class 'tuple'>\n"
     ]
    }
   ],
   "source": [
    "#variable length arguments.\n",
    "def test(*args):\n",
    "    print(args)\n",
    "    print(len(args))\n",
    "    print(type(args))\n",
    "\n",
    "test(\"India\",\"Srilanka\",\"America\")    \n"
   ]
  },
  {
   "cell_type": "code",
   "execution_count": 1,
   "id": "116698ae",
   "metadata": {},
   "outputs": [
    {
     "name": "stdout",
     "output_type": "stream",
     "text": [
      "{'country': 'India', 'firstname': 'Rohit'}\n",
      "2\n",
      "<class 'dict'>\n"
     ]
    }
   ],
   "source": [
    "# variable length keyword arguments\n",
    "def test(**kwargs):\n",
    "    print(kwargs)\n",
    "    print(len(kwargs))\n",
    "    print(type(kwargs))\n",
    "\n",
    "test(country=\"India\",firstname=\"Rohit\")   "
   ]
  },
  {
   "cell_type": "markdown",
   "id": "30f54592",
   "metadata": {},
   "source": [
    "Exception Handling\n",
    "1. try\n",
    "2. except\n",
    "3. else"
   ]
  },
  {
   "cell_type": "code",
   "execution_count": 11,
   "id": "7660deb3",
   "metadata": {},
   "outputs": [
    {
     "name": "stdout",
     "output_type": "stream",
     "text": [
      "Result:  5.0\n",
      "Arnob...\n"
     ]
    }
   ],
   "source": [
    "a=int(input(\"Enter first number:\"))\n",
    "b=int(input(\"Enter second number:\"))\n",
    "try:\n",
    "    c=a/b\n",
    "    print(\"Result: \",c)\n",
    "except:\n",
    "    print(\"Can't divide to zero....!\")  \n",
    "else:      \n",
    "    print(\"Arnob...\")"
   ]
  },
  {
   "cell_type": "code",
   "execution_count": 14,
   "id": "a720c9ee",
   "metadata": {},
   "outputs": [
    {
     "name": "stdout",
     "output_type": "stream",
     "text": [
      "Result:  6.0\n"
     ]
    }
   ],
   "source": [
    "a=int(input(\"Enter first number:\"))\n",
    "b=int(input(\"Enter second number:\"))\n",
    "try:\n",
    "    c=a/b\n",
    "    print(\"Result: \",c)\n",
    "except:\n",
    "       print(\"can't divide\")    "
   ]
  },
  {
   "cell_type": "markdown",
   "id": "038430fc",
   "metadata": {},
   "source": [
    "File Handling"
   ]
  },
  {
   "cell_type": "code",
   "execution_count": null,
   "id": "379cf614",
   "metadata": {},
   "outputs": [
    {
     "name": "stdout",
     "output_type": "stream",
     "text": [
      "File Created Succesfully.....\n"
     ]
    },
    {
     "name": "stderr",
     "output_type": "stream",
     "text": [
      "<>:1: SyntaxWarning: invalid escape sequence '\\A'\n",
      "<>:1: SyntaxWarning: invalid escape sequence '\\A'\n",
      "C:\\Users\\Arnob\\AppData\\Local\\Temp\\ipykernel_22352\\4145661311.py:1: SyntaxWarning: invalid escape sequence '\\A'\n",
      "  f=open(\"D:\\\\C data science\\\\python\\A.txt\", \"x\")\n"
     ]
    }
   ],
   "source": [
    "# Create a File\n",
    "f=open(\"D:\\\\C data science\\\\python\\A.txt\", \"x\")\n",
    "\n",
    "print(\"File Created Succesfully.....\")"
   ]
  },
  {
   "cell_type": "code",
   "execution_count": null,
   "id": "494f44c8",
   "metadata": {},
   "outputs": [
    {
     "name": "stdout",
     "output_type": "stream",
     "text": [
      "Data Wrote Succesfully.....\n"
     ]
    },
    {
     "name": "stderr",
     "output_type": "stream",
     "text": [
      "<>:1: SyntaxWarning: invalid escape sequence '\\A'\n",
      "<>:1: SyntaxWarning: invalid escape sequence '\\A'\n",
      "C:\\Users\\Arnob\\AppData\\Local\\Temp\\ipykernel_22352\\3421758407.py:1: SyntaxWarning: invalid escape sequence '\\A'\n",
      "  f=open(\"D:\\\\C data science\\\\python\\A.txt\", \"w\")\n"
     ]
    }
   ],
   "source": [
    "# Write\n",
    "f=open(\"D:\\\\C data science\\\\python\\A.txt\", \"w\")\n",
    "f.write(\"Arnob Maity\\n Learn Coding.. \\n Indus University\")\n",
    "\n",
    "print(\"Data Wrote Succesfully.....\")"
   ]
  },
  {
   "cell_type": "code",
   "execution_count": null,
   "id": "eefab906",
   "metadata": {},
   "outputs": [
    {
     "name": "stdout",
     "output_type": "stream",
     "text": [
      "Arnob Maity\n",
      " Learn Coding.. \n",
      " Indus University\n",
      "Data Readed Succesfully.....\n"
     ]
    },
    {
     "name": "stderr",
     "output_type": "stream",
     "text": [
      "<>:1: SyntaxWarning: invalid escape sequence '\\A'\n",
      "<>:1: SyntaxWarning: invalid escape sequence '\\A'\n",
      "C:\\Users\\Arnob\\AppData\\Local\\Temp\\ipykernel_22352\\3263931259.py:1: SyntaxWarning: invalid escape sequence '\\A'\n",
      "  f=open(\"D:\\\\C data science\\\\python\\A.txt\", \"r\")\n"
     ]
    }
   ],
   "source": [
    "# Read\n",
    "f=open(\"D:\\\\C data science\\\\python\\A.txt\", \"r\")\n",
    "print(f.read(60))\n",
    "\n",
    "print(\"Data Readed Succesfully.....\")"
   ]
  },
  {
   "cell_type": "code",
   "execution_count": 34,
   "id": "bd0b260e",
   "metadata": {},
   "outputs": [
    {
     "name": "stdout",
     "output_type": "stream",
     "text": [
      "Arnob Maity\n",
      "\n",
      "File Created Succesfully.....\n"
     ]
    },
    {
     "name": "stderr",
     "output_type": "stream",
     "text": [
      "<>:2: SyntaxWarning: invalid escape sequence '\\A'\n",
      "<>:2: SyntaxWarning: invalid escape sequence '\\A'\n",
      "C:\\Users\\Arnob\\AppData\\Local\\Temp\\ipykernel_22352\\247429182.py:2: SyntaxWarning: invalid escape sequence '\\A'\n",
      "  f=open(\"D:\\\\C data science\\\\python\\A.txt\", \"r\")\n"
     ]
    }
   ],
   "source": [
    "# Read Line\n",
    "f=open(\"D:\\\\C data science\\\\python\\A.txt\", \"r\")\n",
    "print(f.readline())\n",
    "\n",
    "print(\"File Created Succesfully.....\")"
   ]
  },
  {
   "cell_type": "code",
   "execution_count": 35,
   "id": "dd613cc3",
   "metadata": {},
   "outputs": [
    {
     "name": "stdout",
     "output_type": "stream",
     "text": [
      "['Arnob Maity\\n', ' Learn Coding.. \\n', ' Indus University']\n",
      "File Created Succesfully.....\n"
     ]
    },
    {
     "name": "stderr",
     "output_type": "stream",
     "text": [
      "<>:2: SyntaxWarning: invalid escape sequence '\\A'\n",
      "<>:2: SyntaxWarning: invalid escape sequence '\\A'\n",
      "C:\\Users\\Arnob\\AppData\\Local\\Temp\\ipykernel_22352\\75553493.py:2: SyntaxWarning: invalid escape sequence '\\A'\n",
      "  f=open(\"D:\\\\C data science\\\\python\\A.txt\", \"r\")\n"
     ]
    }
   ],
   "source": [
    "# Read Lines\n",
    "f=open(\"D:\\\\C data science\\\\python\\A.txt\", \"r\")\n",
    "print(f.readlines())\n",
    "\n",
    "print(\"File Created Succesfully.....\")"
   ]
  },
  {
   "cell_type": "code",
   "execution_count": null,
   "id": "e37c08be",
   "metadata": {},
   "outputs": [
    {
     "name": "stdout",
     "output_type": "stream",
     "text": [
      "File not Available ... plz create it\n"
     ]
    },
    {
     "name": "stderr",
     "output_type": "stream",
     "text": [
      "<>:2: SyntaxWarning: invalid escape sequence '\\B'\n",
      "<>:2: SyntaxWarning: invalid escape sequence '\\B'\n",
      "C:\\Users\\Arnob\\AppData\\Local\\Temp\\ipykernel_22352\\4120860398.py:2: SyntaxWarning: invalid escape sequence '\\B'\n",
      "  f=open(\"D:\\\\C data science\\\\python\\B.txt\", \"r\")\n"
     ]
    }
   ],
   "source": [
    "#  File plus Exception Handling\n",
    "try:\n",
    "    f=open(\"D:\\\\C data science\\\\python\\B.txt\", \"r\")\n",
    "    print(f.readlines())\n",
    "except:\n",
    "    print(\"File not Available ... plz create it\")    \n",
    "\n",
    "# print(\"File Created Succesfully.....\")"
   ]
  },
  {
   "cell_type": "code",
   "execution_count": null,
   "id": "a1b71b80",
   "metadata": {},
   "outputs": [
    {
     "name": "stdout",
     "output_type": "stream",
     "text": [
      "['Arnob Maity\\n', ' Learn Coding.. \\n', ' Indus University']\n",
      "File Closed....!\n"
     ]
    },
    {
     "name": "stderr",
     "output_type": "stream",
     "text": [
      "<>:2: SyntaxWarning: invalid escape sequence '\\A'\n",
      "<>:2: SyntaxWarning: invalid escape sequence '\\A'\n",
      "C:\\Users\\Arnob\\AppData\\Local\\Temp\\ipykernel_22352\\3470015150.py:2: SyntaxWarning: invalid escape sequence '\\A'\n",
      "  f=open(\"D:\\\\C data science\\\\python\\A.txt\", \"r\")\n"
     ]
    }
   ],
   "source": [
    "# File Close....\n",
    "try:\n",
    "    f=open(\"D:\\\\C data science\\\\python\\A.txt\", \"r\")\n",
    "    print(f.readlines())\n",
    "except:\n",
    "    print(\"File not Available ... plz create it\")   \n",
    "else:\n",
    "    f.close() \n",
    "    print(\"File Closed....!\")   "
   ]
  },
  {
   "cell_type": "code",
   "execution_count": 42,
   "id": "fe6ad9c6",
   "metadata": {},
   "outputs": [
    {
     "name": "stdout",
     "output_type": "stream",
     "text": [
      "File Closed....!\n"
     ]
    },
    {
     "name": "stderr",
     "output_type": "stream",
     "text": [
      "<>:3: SyntaxWarning: invalid escape sequence '\\A'\n",
      "<>:4: SyntaxWarning: invalid escape sequence '\\B'\n",
      "<>:3: SyntaxWarning: invalid escape sequence '\\A'\n",
      "<>:4: SyntaxWarning: invalid escape sequence '\\B'\n",
      "C:\\Users\\Arnob\\AppData\\Local\\Temp\\ipykernel_22352\\3363609132.py:3: SyntaxWarning: invalid escape sequence '\\A'\n",
      "  with open(\"D:\\\\C data science\\\\python\\A.txt\") as f2:\n",
      "C:\\Users\\Arnob\\AppData\\Local\\Temp\\ipykernel_22352\\3363609132.py:4: SyntaxWarning: invalid escape sequence '\\B'\n",
      "  with open(\"D:\\\\C data science\\\\python\\B.txt\",\"w\") as f3:\n"
     ]
    }
   ],
   "source": [
    "# Copying File from one another....\n",
    "try:\n",
    "    with open(\"D:\\\\C data science\\\\python\\A.txt\") as f2:\n",
    "        with open(\"D:\\\\C data science\\\\python\\B.txt\",\"w\") as f3:\n",
    "            for i in f2:\n",
    "                f3.write(i)\n",
    "  \n",
    "except:\n",
    "    print(\"File not Available ... plz create it\")   \n",
    "else:\n",
    "    f2.close() \n",
    "    print(\"File Closed....!\")   "
   ]
  },
  {
   "cell_type": "code",
   "execution_count": 53,
   "id": "c2a1cd16",
   "metadata": {},
   "outputs": [
    {
     "name": "stdout",
     "output_type": "stream",
     "text": [
      "File not available.....!\n",
      "File deleted Succesfully!\n"
     ]
    },
    {
     "name": "stderr",
     "output_type": "stream",
     "text": [
      "<>:4: SyntaxWarning: invalid escape sequence '\\A'\n",
      "<>:5: SyntaxWarning: invalid escape sequence '\\A'\n",
      "<>:4: SyntaxWarning: invalid escape sequence '\\A'\n",
      "<>:5: SyntaxWarning: invalid escape sequence '\\A'\n",
      "C:\\Users\\Arnob\\AppData\\Local\\Temp\\ipykernel_22352\\2824763910.py:4: SyntaxWarning: invalid escape sequence '\\A'\n",
      "  if os.path.exists(\"D:\\\\C data science\\\\python\\A.txt\"):\n",
      "C:\\Users\\Arnob\\AppData\\Local\\Temp\\ipykernel_22352\\2824763910.py:5: SyntaxWarning: invalid escape sequence '\\A'\n",
      "  os.remove(\"D:\\\\C data science\\\\python\\A.txt\")\n"
     ]
    }
   ],
   "source": [
    "# How to delete File....\n",
    "\n",
    "import os\n",
    "if os.path.exists(\"D:\\\\C data science\\\\python\\A.txt\"):\n",
    "     os.remove(\"D:\\\\C data science\\\\python\\A.txt\")\n",
    "     \n",
    "\n",
    "else:\n",
    "     print(\"File not available.....!\")   \n",
    "\n",
    "print(\"File deleted Succesfully!\")      \n"
   ]
  },
  {
   "cell_type": "markdown",
   "id": "8e960627",
   "metadata": {},
   "source": [
    "OOPs - Object Oriented Programming.\n",
    "OOPs features.\n",
    "1. Class & Objects\n",
    "2. Inheritence\n",
    "3. Polymerphism\n",
    "4. Encapsulation\n",
    "5. Abstraction"
   ]
  },
  {
   "cell_type": "code",
   "execution_count": null,
   "id": "78543f35",
   "metadata": {},
   "outputs": [],
   "source": [
    "# Class & Objects......\n",
    "    #empty class\n",
    "class Spiderman:\n",
    "        pass\n",
    "obj = Spiderman()"
   ]
  },
  {
   "cell_type": "code",
   "execution_count": 78,
   "id": "0d31a11b",
   "metadata": {},
   "outputs": [
    {
     "name": "stdout",
     "output_type": "stream",
     "text": [
      "10\n",
      "10\n"
     ]
    }
   ],
   "source": [
    "class A:\n",
    "    def __init__(self):    \n",
    "          age = 10\n",
    "          print(age)\n",
    "obj = A()\n",
    "obj2 = A()"
   ]
  },
  {
   "cell_type": "code",
   "execution_count": null,
   "id": "c79b02d6",
   "metadata": {},
   "outputs": [
    {
     "name": "stdout",
     "output_type": "stream",
     "text": [
      "10\n",
      "learn coding....\n"
     ]
    }
   ],
   "source": [
    "class A:\n",
    "    \"learn coding....\"\n",
    "    age =10\n",
    "    print(age)\n",
    "obj =A()\n",
    "print(obj.__doc__)    # document attribute....\n",
    "# print(A.age)"
   ]
  },
  {
   "cell_type": "code",
   "execution_count": 91,
   "id": "d420065c",
   "metadata": {},
   "outputs": [
    {
     "name": "stdout",
     "output_type": "stream",
     "text": [
      "Arnob Maity\n",
      "Learn Coding Python\n"
     ]
    }
   ],
   "source": [
    "class A:\n",
    "    age=10\n",
    "    def fun(self):  # self reference parameter.....\n",
    "        \"Learn Coding Python\"\n",
    "        name=\"Arnob Maity\"\n",
    "        print(name)\n",
    "obj=A() \n",
    "obj.fun()  \n",
    "print(obj.fun.__doc__)     "
   ]
  },
  {
   "cell_type": "code",
   "execution_count": null,
   "id": "f35d1ca1",
   "metadata": {},
   "outputs": [
    {
     "name": "stdout",
     "output_type": "stream",
     "text": [
      "10 Ankit Goa\n",
      "20 Arnob Ahmedabad\n",
      "18 Yash Delhi\n"
     ]
    }
   ],
   "source": [
    "class A:\n",
    "    \n",
    "    def __init__(self,age,name,address): \n",
    "        print(age,name,address)\n",
    "    \n",
    "obj=A(10,\"Ankit\",\"Goa\") \n",
    "obj2=A(20,\"Arnob\",\"Ahmedabad\")\n",
    "obj3=A(18,\"Yash\",\"Delhi\")"
   ]
  },
  {
   "cell_type": "markdown",
   "id": "29ee0cbf",
   "metadata": {},
   "source": [
    "Python Constructor\n",
    "\n",
    "1. Default Constructor.\n",
    "2. Parametrized Constructor."
   ]
  },
  {
   "cell_type": "code",
   "execution_count": null,
   "id": "b31fe50b",
   "metadata": {},
   "outputs": [
    {
     "name": "stdout",
     "output_type": "stream",
     "text": [
      "Arnob 10\n"
     ]
    }
   ],
   "source": [
    "#Python Constructor\n",
    "class A:\n",
    "    age=10\n",
    "    def __init__(self):  #init is constructor\n",
    "        name=\"Arnob\"\n",
    "        print(name,self.age)\n",
    "obj=A()        \n",
    "      "
   ]
  },
  {
   "cell_type": "code",
   "execution_count": null,
   "id": "5dae960a",
   "metadata": {},
   "outputs": [
    {
     "name": "stdout",
     "output_type": "stream",
     "text": [
      "Ankit\n"
     ]
    }
   ],
   "source": [
    "class A:\n",
    "\n",
    "    def __init__(self):  \n",
    "        name=\"Arnob\"\n",
    "        print(name)\n",
    "\n",
    "    def __init__(self):   # multiple default constructor will give priorty to last one only ...\n",
    "        name=\"Ankit\"\n",
    "        print(name)    \n",
    "obj=A()   "
   ]
  },
  {
   "cell_type": "code",
   "execution_count": 25,
   "id": "2e1afcea",
   "metadata": {},
   "outputs": [
    {
     "name": "stdout",
     "output_type": "stream",
     "text": [
      "Arnab 20 Ahmedabad\n"
     ]
    }
   ],
   "source": [
    "# Default Constructor\n",
    "class A:\n",
    "    name=\"Arnab\"\n",
    "    age=20\n",
    "    city=\"Ahmedabad\"\n",
    "    def __init__(self):\n",
    "        print(self.name,self.age,self.city)\n",
    "\n",
    "obj=A()        \n"
   ]
  },
  {
   "cell_type": "code",
   "execution_count": 34,
   "id": "56e696a2",
   "metadata": {},
   "outputs": [
    {
     "name": "stdout",
     "output_type": "stream",
     "text": [
      "Arnab Maity\n",
      "20 29/05/2006\n",
      "Ahmedabad Vatva\n"
     ]
    }
   ],
   "source": [
    "#Default Constructor... Special Function...\n",
    "class A:\n",
    "    name=\"Arnab\"\n",
    "    age=20\n",
    "    city=\"Ahmedabad\"\n",
    "    def __init__(self):\n",
    "        Sur_name = \"Maity\"      #Creating Member...\n",
    "        print(self.name, Sur_name)\n",
    "    def show(self):\n",
    "        Dob = \"29/05/2006\"      #Creating Member...\n",
    "        print(self.age ,  Dob)\n",
    "    def home(self):\n",
    "        district = \"Vatva\"\n",
    "        print(self.city, district)        \n",
    "\n",
    "obj=A()\n",
    "obj.show()\n",
    "obj.home()        \n"
   ]
  },
  {
   "cell_type": "code",
   "execution_count": 43,
   "id": "b1df1356",
   "metadata": {},
   "outputs": [
    {
     "name": "stdout",
     "output_type": "stream",
     "text": [
      "16 Arun None\n"
     ]
    }
   ],
   "source": [
    "#Parametrized Constructor...\n",
    "class A:\n",
    "    def __init__(self,age,name,city):\n",
    "        print(age,name,city)\n",
    "    \n",
    "\n",
    "\n",
    "\n",
    "# obj=A(16,\"Arun\",\"Ahmedabad\")    \n",
    "obj=A(16,\"Arun\",None)   "
   ]
  },
  {
   "cell_type": "code",
   "execution_count": 48,
   "id": "456c81df",
   "metadata": {},
   "outputs": [
    {
     "name": "stdout",
     "output_type": "stream",
     "text": [
      "22 Arun Ahmedabad Ankit\n",
      "Ankit 14\n"
     ]
    }
   ],
   "source": [
    "#Parametrized Constructor...\n",
    "class A:\n",
    "    name2=\"Ankit\"    #so function....\n",
    "    age2=14\n",
    "    def __init__(self,age,name,city):\n",
    "        city=\"Ahmedabad\"\n",
    "        print(age,name,city,self.name2)\n",
    "    def show(self):  \n",
    "        print(self.name2,self.age2)\n",
    "\n",
    "obj=A(22,\"Arun\",None)\n",
    "obj.show()            "
   ]
  },
  {
   "cell_type": "markdown",
   "id": "672c0387",
   "metadata": {},
   "source": [
    "Access Modifiers\n",
    "1. Public ( var )\n",
    "2. Protected  ( _var )\n",
    "3. Private    ( __var )"
   ]
  },
  {
   "cell_type": "code",
   "execution_count": null,
   "id": "bf6e89f4",
   "metadata": {},
   "outputs": [
    {
     "name": "stdout",
     "output_type": "stream",
     "text": [
      "10 20 None\n",
      "Addition: 30\n",
      "10\n",
      "20\n"
     ]
    }
   ],
   "source": [
    "class A:\n",
    "    a=10        #Public \n",
    "    _b=20       #Protected\n",
    "    __c=None    #Private\n",
    "    print(a, _b, __c)\n",
    "    def Add(self):\n",
    "        self.__c = self.a+self._b\n",
    "        print(\"Addition:\",self.__c)\n",
    "\n",
    "obj=A()\n",
    "obj.Add()  \n",
    "print(obj.a) \n",
    "print(obj._b) \n",
    "print(obj.__c)    "
   ]
  },
  {
   "cell_type": "code",
   "execution_count": null,
   "id": "b040c21e",
   "metadata": {},
   "outputs": [
    {
     "name": "stdout",
     "output_type": "stream",
     "text": [
      "10 20 None\n",
      "10\n",
      "20\n"
     ]
    },
    {
     "ename": "AttributeError",
     "evalue": "'B' object has no attribute '_B__c'",
     "output_type": "error",
     "traceback": [
      "\u001b[31m---------------------------------------------------------------------------\u001b[39m",
      "\u001b[31mAttributeError\u001b[39m                            Traceback (most recent call last)",
      "\u001b[36mCell\u001b[39m\u001b[36m \u001b[39m\u001b[32mIn[14]\u001b[39m\u001b[32m, line 14\u001b[39m\n\u001b[32m     11\u001b[39m         \u001b[38;5;28mprint\u001b[39m(\u001b[38;5;28mself\u001b[39m.__c) \n\u001b[32m     13\u001b[39m obj=B()\n\u001b[32m---> \u001b[39m\u001b[32m14\u001b[39m \u001b[43mobj\u001b[49m\u001b[43m.\u001b[49m\u001b[43mShow\u001b[49m\u001b[43m(\u001b[49m\u001b[43m)\u001b[49m          \n",
      "\u001b[36mCell\u001b[39m\u001b[36m \u001b[39m\u001b[32mIn[14]\u001b[39m\u001b[32m, line 11\u001b[39m, in \u001b[36mB.Show\u001b[39m\u001b[34m(self)\u001b[39m\n\u001b[32m      9\u001b[39m \u001b[38;5;28mprint\u001b[39m(\u001b[38;5;28mself\u001b[39m.a)\n\u001b[32m     10\u001b[39m \u001b[38;5;28mprint\u001b[39m(\u001b[38;5;28mself\u001b[39m._b)\n\u001b[32m---> \u001b[39m\u001b[32m11\u001b[39m \u001b[38;5;28mprint\u001b[39m(\u001b[38;5;28;43mself\u001b[39;49m\u001b[43m.\u001b[49m\u001b[43m__c\u001b[49m)\n",
      "\u001b[31mAttributeError\u001b[39m: 'B' object has no attribute '_B__c'"
     ]
    }
   ],
   "source": [
    "class A:\n",
    "    a=10        #Public \n",
    "    _b=20       #Protected\n",
    "    __c=None    #Private\n",
    "    print(a, _b, __c)\n",
    "   \n",
    "class B(A):\n",
    "    def Show(self):\n",
    "        print(self.a)\n",
    "        print(self._b)\n",
    "        print(self.__c) \n",
    "\n",
    "obj=B()\n",
    "obj.Show()  \n",
    "        \n"
   ]
  },
  {
   "cell_type": "code",
   "execution_count": 20,
   "id": "6a917152",
   "metadata": {},
   "outputs": [
    {
     "name": "stdout",
     "output_type": "stream",
     "text": [
      "10 20 None\n",
      "10\n",
      "20\n"
     ]
    }
   ],
   "source": [
    "class A:\n",
    "    a=10        #Public \n",
    "    _b=20       #Protected\n",
    "    __c=None    #Private\n",
    "    print(a, _b, __c)\n",
    "   \n",
    "class B(A):\n",
    "    pass\n",
    "\n",
    "obj=B()\n",
    "print(obj.a)\n",
    "print(obj._b)\n",
    "# print(obj.__c) "
   ]
  },
  {
   "cell_type": "markdown",
   "id": "e35d7dab",
   "metadata": {},
   "source": [
    "Inheritance...\n",
    "Types of Inheritance......\n",
    "1. Single inheritance.\n",
    "2. Multiple inheritance.\n",
    "3. Multi-level inheritance.\n",
    "4. Hierarchical inheritance.\n",
    "5. Hybrid inheritance."
   ]
  },
  {
   "cell_type": "code",
   "execution_count": 26,
   "id": "d563a6e4",
   "metadata": {},
   "outputs": [
    {
     "name": "stdout",
     "output_type": "stream",
     "text": [
      "Having 50 acers land\n",
      "Having 10 lakhs money\n"
     ]
    }
   ],
   "source": [
    "class father:\n",
    "    def lands(self):    #properties\n",
    "        print(\"Having 50 acers land\")    \n",
    "class son(father):\n",
    "    def money(self):     #properties\n",
    "        print(\"Having 10 lakhs money\") \n",
    "\n",
    "S=son()   \n",
    "S.lands()  \n",
    "S.money() \n",
    "# F=Father()\n",
    "# F.lands()\n",
    "# F.money()       "
   ]
  },
  {
   "cell_type": "code",
   "execution_count": null,
   "id": "2b3665d2",
   "metadata": {},
   "outputs": [
    {
     "name": "stdout",
     "output_type": "stream",
     "text": [
      "Addition:  9\n",
      "Subtraction:  3\n",
      "Multiplication:  18\n",
      "Division:  2.0\n",
      "Module:  0\n"
     ]
    }
   ],
   "source": [
    "# Single Inheritance\n",
    "class A:\n",
    "    num1=int(input(\"Enter First number: \"))\n",
    "    num2=int(input(\"Enter Second number: \"))\n",
    "\n",
    "\n",
    "    def Add(self):\n",
    "        print(\"Addition: \",self.num1 + self.num2)\n",
    "    def Sub(self):\n",
    "        print(\"Subtraction: \",self.num1 - self.num2)\n",
    "\n",
    "class B(A):\n",
    "    def Multi(self):\n",
    "        print(\"Multiplication: \",self.num1 * self.num2)\n",
    "    def Div(self):\n",
    "        print(\"Division: \",self.num1 / self.num2)\n",
    "    def Module(self):\n",
    "        print(\"Module: \",self.num1 % self.num2)     \n",
    "\n",
    "obj=A()      \n",
    "obj.Add()\n",
    "obj.Sub()\n",
    "obj=B()\n",
    "obj.Multi()\n",
    "obj.Div()\n",
    "obj.Module()\n",
    "\n",
    " "
   ]
  },
  {
   "cell_type": "code",
   "execution_count": null,
   "id": "90cf0621",
   "metadata": {},
   "outputs": [
    {
     "name": "stdout",
     "output_type": "stream",
     "text": [
      "Pandit  Singh\n",
      "Akash  Singh\n",
      "Rita  Singh\n"
     ]
    }
   ],
   "source": [
    "# Multi-level Inheritance\n",
    "class father:\n",
    "    surname=\"Singh\"\n",
    "    def sur(self):\n",
    "        print(\"Pandit \",self.surname)\n",
    "class son(father):\n",
    "    def Show(self):\n",
    "        print(\"Akash \",self.surname)\n",
    "class daughter(son):\n",
    "    def dis(self):\n",
    "        print(\"Rita \",self.surname)\n",
    "\n",
    "\n",
    "F=father()\n",
    "F.sur()\n",
    "\n",
    "S=son()\n",
    "S.Show()\n",
    "\n",
    "D=daughter()\n",
    "D.dis()\n",
    "\n"
   ]
  },
  {
   "cell_type": "code",
   "execution_count": 15,
   "id": "e13f3f6f",
   "metadata": {},
   "outputs": [
    {
     "name": "stdout",
     "output_type": "stream",
     "text": [
      "Backend Task implemented using:  Java & Oracle DB\n",
      "Frontend Task implemented using:  HTML CSS JavaScript\n",
      "Full Stack Task implemented using:  Python Java CSS\n",
      "Dynamic Website Created....\n"
     ]
    }
   ],
   "source": [
    "# Mutiple Inheritance\n",
    "class Akhil:\n",
    "    Back=\"Java & Oracle DB\"\n",
    "    def Backend(self):\n",
    "        print(\"Backend Task implemented using: \",self.Back)\n",
    "class Arnob:\n",
    "    Front=\"HTML CSS JavaScript\"\n",
    "    def Frontend(self):\n",
    "        print(\"Frontend Task implemented using: \",self.Front)\n",
    "class Rahul:\n",
    "    Full=\"Python Java CSS\"\n",
    "    def Full_stack(self):\n",
    "        print(\"Full Stack Task implemented using: \",self.Full)         \n",
    "class Teamvictor(Akhil,Arnob,Rahul):\n",
    "    def Show(self):\n",
    "        print(\"Dynamic Website Created....\")\n",
    "\n",
    "\n",
    "T=Teamvictor()\n",
    "T.Backend()\n",
    "T.Frontend() \n",
    "T.Full_stack()        \n",
    "  \n",
    "T.Show() "
   ]
  },
  {
   "cell_type": "code",
   "execution_count": 24,
   "id": "ad511c9b",
   "metadata": {},
   "outputs": [
    {
     "name": "stdout",
     "output_type": "stream",
     "text": [
      "I am Ankit  Maity\n",
      "I am Ravi  Maity\n",
      "I am Soham  Maity\n",
      "I am Sweety  Maity\n"
     ]
    }
   ],
   "source": [
    "# Hierarchical Inheritance\n",
    "class father():\n",
    "    surname=\"Maity\"\n",
    "    def sur(self):\n",
    "        print(\"I am Ankit \", self.surname)\n",
    "class son1(father):\n",
    "    def show(self):\n",
    "        print(\"I am Ravi \", self.surname) \n",
    "class son2(father):\n",
    "    def dis(self):\n",
    "        print(\"I am Soham \", self.surname)\n",
    "class daughter(father):\n",
    "    def dau(self):\n",
    "        print(\"I am Sweety \",self.surname)\n",
    "\n",
    "f=father()\n",
    "s1=son1()    \n",
    "s2=son2()\n",
    "d=daughter()\n",
    "\n",
    "f.sur()\n",
    "s1.show()\n",
    "s2.dis()\n",
    "d.dau()\n",
    "\n",
    "        "
   ]
  },
  {
   "cell_type": "markdown",
   "id": "45689216",
   "metadata": {},
   "source": [
    "Encapsulation...\n",
    "Single Underscore (Protected)  ( _var )\n",
    "Double Underscore (Private)    ( __var )"
   ]
  },
  {
   "cell_type": "code",
   "execution_count": null,
   "id": "b9dd553e",
   "metadata": {},
   "outputs": [
    {
     "name": "stdout",
     "output_type": "stream",
     "text": [
      "a= 10\n",
      "b= 20\n",
      "Outside of class  10\n"
     ]
    }
   ],
   "source": [
    "# Encapsulation\n",
    "class A:\n",
    "    _a=10       #Protected\n",
    "    __b=20      #Private\n",
    "    def show(self):\n",
    "        print(\"a=\",self._a)\n",
    "        print(\"b=\",self.__b)\n",
    "\n",
    "obj=A()\n",
    "obj.show()  7\n",
    "print(\"Outside of class \",obj._a)        #var a is protected so we can use it....\n",
    "# print(\"Outside of class \",obj.__b)     #var b is not occuring beacuse it is private ....  "
   ]
  },
  {
   "cell_type": "markdown",
   "id": "a0fe48f6",
   "metadata": {},
   "source": [
    "Abstraction...\n",
    "1. Abstract Class\n",
    "2. Interface"
   ]
  },
  {
   "cell_type": "code",
   "execution_count": 33,
   "id": "a621c5c9",
   "metadata": {},
   "outputs": [],
   "source": [
    "#Abstraction\n",
    "# first.py =Add       second.py=Sub        main.py=Implemrntation\n",
    "# import first,second\n",
    "\n",
    "# first.Add()\n",
    "# second.Sub()"
   ]
  },
  {
   "cell_type": "code",
   "execution_count": null,
   "id": "9a231e09",
   "metadata": {},
   "outputs": [
    {
     "name": "stdout",
     "output_type": "stream",
     "text": [
      "Every car has 4 Wheels\n",
      "Speed is 100km/hr\n",
      "Every car has 4 Wheels\n",
      "Speed is 80km/hr\n"
     ]
    }
   ],
   "source": [
    "# Abstract Class\n",
    "from abc import ABC,abstractmethod\n",
    "class Car(ABC):\n",
    "    def Show(self):\n",
    "        print(\"Every car has 4 Wheels\")\n",
    "    @abstractmethod\n",
    "    def Speed(self):\n",
    "        pass\n",
    "class Maruti(Car):\n",
    "    def Speed(self):\n",
    "        print(\"Speed is 100km/hr\")\n",
    "class Hyundai(Car):\n",
    "    def Speed(self):\n",
    "        print(\"Speed is 80km/hr\")   \n",
    "\n",
    "obj1=Maruti()\n",
    "obj1.Show()\n",
    "obj1.Speed()\n",
    "\n",
    "obj2=Hyundai()\n",
    "obj2.Show()\n",
    "obj2.Speed()\n",
    "\n",
    "\n"
   ]
  },
  {
   "cell_type": "code",
   "execution_count": 53,
   "id": "daddc70c",
   "metadata": {},
   "outputs": [
    {
     "name": "stdout",
     "output_type": "stream",
     "text": [
      "Square have 4 Sides...\n",
      "Circle has circle shape...\n"
     ]
    }
   ],
   "source": [
    "#Interface\n",
    "from abc import ABC,abstractmethod\n",
    "\n",
    "class Shape(ABC):\n",
    "    @abstractmethod\n",
    "    def Show(self):\n",
    "        pass\n",
    "    def Disp(self):\n",
    "        pass\n",
    "class Square(Shape):\n",
    "    def Show(self):\n",
    "        print(\"Square have 4 Sides...\")    \n",
    "\n",
    "class Circle(Shape):\n",
    "    def Show(self):\n",
    "        print(\"Circle has circle shape...\")    \n",
    "\n",
    "s=Square()\n",
    "c=Circle()\n",
    "\n",
    "\n",
    "s.Show()\n",
    "c.Show()\n",
    "\n",
    "\n",
    "\n",
    "\n",
    "\n"
   ]
  },
  {
   "cell_type": "markdown",
   "id": "a3867af1",
   "metadata": {},
   "source": [
    "Polymorphism....\n",
    "1. Method Overloading.\n",
    "2. Method Overriding."
   ]
  },
  {
   "cell_type": "code",
   "execution_count": null,
   "id": "5bc57288",
   "metadata": {},
   "outputs": [
    {
     "name": "stdout",
     "output_type": "stream",
     "text": [
      "10\n",
      "55\n",
      "5\n",
      "2\n",
      "3\n"
     ]
    }
   ],
   "source": [
    "# Polymorphism...\n",
    "\n",
    "print(5+5)      #same same but different...\n",
    "print(\"5\"+\"5\")    \n",
    "print(len(\"Ankit\"))  \n",
    "print(len([\"Ankush\",\"Akhilesh\"]))\n",
    "print(len([\"Arnab\",20,\"Ahmedabad\"]))"
   ]
  },
  {
   "cell_type": "code",
   "execution_count": 67,
   "id": "85aad00e",
   "metadata": {},
   "outputs": [
    {
     "name": "stdout",
     "output_type": "stream",
     "text": [
      "Welcome    \n",
      "Welcome Arnob  \n",
      "Welcome Arnob Maity\n"
     ]
    }
   ],
   "source": [
    "# Method Overloading...\n",
    "class A:\n",
    "    def show(self):\n",
    "        print(\"Welcome\")\n",
    "    def show(self,firstname=\" \"):\n",
    "        print(\"Welcome\",firstname)\n",
    "\n",
    "    def show(self,firstname=\" \",lastname=\" \"):\n",
    "        print(\"Welcome\",firstname,lastname)    \n",
    "\n",
    "obj=A()\n",
    "obj.show()\n",
    "obj.show(\"Arnob\")\n",
    "obj.show(\"Arnob\", \"Maity\")"
   ]
  },
  {
   "cell_type": "code",
   "execution_count": 79,
   "id": "799c3dd8",
   "metadata": {},
   "outputs": [
    {
     "name": "stdout",
     "output_type": "stream",
     "text": [
      "This is parent class method.\n",
      "This is child class method.\n"
     ]
    }
   ],
   "source": [
    "# Method Overriding...\n",
    "class A:         #Parent Class\n",
    "   def disp(self):\n",
    "       print(\"This is parent class method.\")\n",
    "class B(A):      #Child Class\n",
    "    def  disp(self):\n",
    "        super().disp()              #super keyword\n",
    "        print(\"This is child class method.\")  \n",
    "\n",
    "# obj=A()\n",
    "obj1=B() \n",
    "\n",
    "# obj.disp()\n",
    "obj1.disp()"
   ]
  },
  {
   "cell_type": "markdown",
   "id": "34ea1791",
   "metadata": {},
   "source": [
    "Multi-Threading....\n"
   ]
  },
  {
   "cell_type": "code",
   "execution_count": 2,
   "id": "eb284f2d",
   "metadata": {},
   "outputs": [
    {
     "name": "stdout",
     "output_type": "stream",
     "text": [
      "Arnob\n",
      "Arnob\n",
      "Arnob\n",
      "Arnob\n",
      "Arnob\n",
      "Anikul\n",
      "Anikul\n",
      "Anikul\n",
      "Anikul\n",
      "Anikul\n"
     ]
    }
   ],
   "source": [
    "# Single Threading.....\n",
    "from time import sleep\n",
    "class A:\n",
    "    def run(self):\n",
    "        for i in range (5):\n",
    "            print(\"Arnob\")\n",
    "            sleep(1)\n",
    "class B:\n",
    "    def run(self):\n",
    "        for i in range (5):\n",
    "            print(\"Anikul\")\n",
    "            sleep(1)\n",
    "\n",
    "t1=A() # Main Thread    5 sec for execute     \n",
    "t2=B() # Main Thread    5 sec for execute      Total 10 sec...\n",
    "\n",
    "t1.run()\n",
    "t2.run()"
   ]
  },
  {
   "cell_type": "code",
   "execution_count": 4,
   "id": "6758c0c9",
   "metadata": {},
   "outputs": [
    {
     "name": "stdout",
     "output_type": "stream",
     "text": [
      "Arnob\n",
      "Anikul\n",
      "Arnob\n",
      "Anikul\n",
      "Arnob\n",
      "Anikul\n",
      "Arnob\n",
      "Anikul\n",
      "Arnob\n",
      "Anikul\n",
      "Happy \n"
     ]
    }
   ],
   "source": [
    "# Multi Threading...\n",
    "from time import sleep\n",
    "from threading import Thread\n",
    "class A(Thread):\n",
    "    def run(self):\n",
    "        for i in range (5):\n",
    "            print(\"Arnob\")\n",
    "            sleep(1)\n",
    "class B(Thread):\n",
    "    def run(self):\n",
    "        for i in range (5):\n",
    "            print(\"Anikul\")\n",
    "            sleep(1)\n",
    "\n",
    "t1=A()        # Multi Thread  in % sec both threads run in less time....  Total Threads in this code are 3 Threads....\n",
    "t2=B()\n",
    "\n",
    "t1.start()\n",
    "t2.start()\n",
    "\n",
    "t1.join()\n",
    "t2.join()            # 3rd Thread Join at last in less time ....\n",
    "\n",
    "print(\"Happy \")\n",
    "\n",
    "\n"
   ]
  },
  {
   "cell_type": "code",
   "execution_count": 2,
   "id": "f76552ca",
   "metadata": {},
   "outputs": [
    {
     "name": "stdout",
     "output_type": "stream",
     "text": [
      "Hello,  John\n"
     ]
    }
   ],
   "source": [
    "name = \"John\"\n",
    "print(\"Hello,  %s\" % name)"
   ]
  },
  {
   "cell_type": "code",
   "execution_count": 21,
   "id": "de48d68e",
   "metadata": {},
   "outputs": [
    {
     "name": "stdout",
     "output_type": "stream",
     "text": [
      "0\n",
      "1\n",
      "2\n",
      "3\n",
      "4\n"
     ]
    }
   ],
   "source": [
    "for i in range (10):\n",
    "    if i == 5:\n",
    "      break#    continue\n",
    "    print(i)"
   ]
  },
  {
   "cell_type": "code",
   "execution_count": 33,
   "id": "8af10bd3",
   "metadata": {},
   "outputs": [
    {
     "name": "stdout",
     "output_type": "stream",
     "text": [
      "1\n",
      "2\n",
      "3\n",
      "4\n",
      "5\n",
      "6\n",
      "7\n",
      "8\n",
      "9\n"
     ]
    }
   ],
   "source": [
    "for i in range(1,10):\n",
    "      \n",
    "        print(i)\n",
    "# else:\n",
    "#         print(\"Loop finished\")"
   ]
  },
  {
   "cell_type": "code",
   "execution_count": 39,
   "id": "f9e8461c",
   "metadata": {},
   "outputs": [
    {
     "name": "stdout",
     "output_type": "stream",
     "text": [
      "John\n",
      "30\n"
     ]
    }
   ],
   "source": [
    "d = {\"name\": \"John\" ,\"age\":30}\n",
    "print(d[\"name\"])\n",
    "print(d[\"age\"])"
   ]
  },
  {
   "cell_type": "code",
   "execution_count": 42,
   "id": "83649e63",
   "metadata": {},
   "outputs": [
    {
     "data": {
      "text/plain": [
       "[0, 1, 2, 3, 4, 5, 6, 7, 8, 9]"
      ]
     },
     "execution_count": 42,
     "metadata": {},
     "output_type": "execute_result"
    }
   ],
   "source": [
    "l=[x for x in range(10)]\n",
    "l"
   ]
  },
  {
   "cell_type": "code",
   "execution_count": 45,
   "id": "29975f51",
   "metadata": {},
   "outputs": [
    {
     "data": {
      "text/plain": [
       "[{'name': 'John'}, {'age': 30}]"
      ]
     },
     "execution_count": 45,
     "metadata": {},
     "output_type": "execute_result"
    }
   ],
   "source": [
    "l = [{\"name\":\"John\"} , {\"age\":30}]\n",
    "l"
   ]
  },
  {
   "cell_type": "code",
   "execution_count": 60,
   "id": "9f77b91a",
   "metadata": {},
   "outputs": [
    {
     "name": "stdout",
     "output_type": "stream",
     "text": [
      "15\n"
     ]
    }
   ],
   "source": [
    "a=5\n",
    "b=10\n",
    "def add(a,b):\n",
    "    return a+b\n",
    "print(a + b)"
   ]
  },
  {
   "cell_type": "code",
   "execution_count": 61,
   "id": "e0fea73d",
   "metadata": {},
   "outputs": [],
   "source": [
    "a=5\n",
    "b=10\n",
    "def print_sum(a,b):\n",
    "    print(a+b)"
   ]
  }
 ],
 "metadata": {
  "kernelspec": {
   "display_name": "arnob",
   "language": "python",
   "name": "python3"
  },
  "language_info": {
   "codemirror_mode": {
    "name": "ipython",
    "version": 3
   },
   "file_extension": ".py",
   "mimetype": "text/x-python",
   "name": "python",
   "nbconvert_exporter": "python",
   "pygments_lexer": "ipython3",
   "version": "3.12.10"
  }
 },
 "nbformat": 4,
 "nbformat_minor": 5
}
