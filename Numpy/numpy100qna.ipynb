{
 "cells": [
  {
   "cell_type": "markdown",
   "id": "793e59bb",
   "metadata": {},
   "source": [
    "1. Import the numpy package under the name np"
   ]
  },
  {
   "cell_type": "code",
   "execution_count": 10,
   "id": "fd8f77d0",
   "metadata": {},
   "outputs": [],
   "source": [
    "# pip install scipy"
   ]
  },
  {
   "cell_type": "code",
   "execution_count": 2,
   "id": "12dc5f00",
   "metadata": {},
   "outputs": [],
   "source": [
    "import numpy as np \n",
    "import matplotlib.pyplot as plt\n",
    "import matplotlib.image as mpimg \n"
   ]
  },
  {
   "cell_type": "markdown",
   "id": "09955ca1",
   "metadata": {},
   "source": [
    "2. Print the numpy version and the configuration"
   ]
  },
  {
   "cell_type": "code",
   "execution_count": 4,
   "id": "f7c19955",
   "metadata": {},
   "outputs": [],
   "source": [
    "# print(np.__version__)\n",
    "# np.show_config()"
   ]
  },
  {
   "cell_type": "markdown",
   "id": "85087a9b",
   "metadata": {},
   "source": [
    "3. Create a null vector of size 10"
   ]
  },
  {
   "cell_type": "code",
   "execution_count": 11,
   "id": "93579b47",
   "metadata": {},
   "outputs": [
    {
     "name": "stdout",
     "output_type": "stream",
     "text": [
      "[0. 0. 0. 0. 0. 0. 0. 0. 0. 0.]\n"
     ]
    }
   ],
   "source": [
    "arrz=np.zeros(10)\n",
    "print(arrz)"
   ]
  },
  {
   "cell_type": "markdown",
   "id": "d89668a7",
   "metadata": {},
   "source": [
    "3. Create a null vector of size 10"
   ]
  },
  {
   "cell_type": "code",
   "execution_count": 13,
   "id": "721eb3db",
   "metadata": {},
   "outputs": [
    {
     "name": "stdout",
     "output_type": "stream",
     "text": [
      "[0. 0. 0. 0. 1. 0. 0. 0. 0. 0.]\n"
     ]
    }
   ],
   "source": [
    "arrz=np.zeros(10)\n",
    "arrz[4]= 1\n",
    "print(arrz)"
   ]
  },
  {
   "cell_type": "markdown",
   "id": "336f7612",
   "metadata": {},
   "source": [
    "4. How to get the documentation of the numpy add function from the command\n",
    "line?"
   ]
  },
  {
   "cell_type": "code",
   "execution_count": 2,
   "id": "3c1ba9d4",
   "metadata": {},
   "outputs": [],
   "source": [
    "# python -c \"import numpy; numpy.info(numpy.add)\""
   ]
  },
  {
   "cell_type": "markdown",
   "id": "94445952",
   "metadata": {},
   "source": [
    "5. Create a null vector of size 10 but the fifth value which is 1"
   ]
  },
  {
   "cell_type": "code",
   "execution_count": 7,
   "id": "9da95e4c",
   "metadata": {},
   "outputs": [
    {
     "name": "stdout",
     "output_type": "stream",
     "text": [
      "[0. 0. 0. 0. 1. 0. 0. 0. 0. 0.]\n"
     ]
    }
   ],
   "source": [
    "arrz=np.zeros(10)\n",
    "arrz[4]=1\n",
    "print(arrz)"
   ]
  },
  {
   "cell_type": "markdown",
   "id": "a7706016",
   "metadata": {},
   "source": [
    "6. Create a vector with values ranging from 10 to 49 "
   ]
  },
  {
   "cell_type": "code",
   "execution_count": 12,
   "id": "63ebf175",
   "metadata": {},
   "outputs": [
    {
     "name": "stdout",
     "output_type": "stream",
     "text": [
      "[10 11 12 13 14 15 16 17 18 19 20 21 22 23 24 25 26 27 28 29 30 31 32 33\n",
      " 34 35 36 37 38 39 40 41 42 43 44 45 46 47 48 49]\n"
     ]
    }
   ],
   "source": [
    "vector=np.arange(10,50)\n",
    "print(vector)"
   ]
  },
  {
   "cell_type": "markdown",
   "id": "8f2bb591",
   "metadata": {},
   "source": [
    "7. Reverse a vector (first element becomes last)"
   ]
  },
  {
   "cell_type": "code",
   "execution_count": 19,
   "id": "f383e524",
   "metadata": {},
   "outputs": [
    {
     "name": "stdout",
     "output_type": "stream",
     "text": [
      "[49 48 47 46 45 44 43 42 41 40 39 38 37 36 35 34 33 32 31 30 29 28 27 26\n",
      " 25 24 23 22 21 20 19 18 17 16 15 14 13 12 11 10  9  8  7  6  5  4  3  2\n",
      "  1  0]\n"
     ]
    }
   ],
   "source": [
    "vector=np.arange(50)\n",
    "vector=vector[::-1]\n",
    "print(vector)"
   ]
  },
  {
   "cell_type": "markdown",
   "id": "170758a0",
   "metadata": {},
   "source": [
    "8. Create a 3x3 matrix with values ranging from 0 to 8"
   ]
  },
  {
   "cell_type": "code",
   "execution_count": 23,
   "id": "3564d2ca",
   "metadata": {},
   "outputs": [
    {
     "name": "stdout",
     "output_type": "stream",
     "text": [
      "[[0 1 2]\n",
      " [3 4 5]\n",
      " [6 7 8]]\n"
     ]
    }
   ],
   "source": [
    "arr=np.arange(9).reshape(3,3)\n",
    "print(arr)"
   ]
  },
  {
   "cell_type": "markdown",
   "id": "d2d6bb04",
   "metadata": {},
   "source": [
    "9. Find indices of nonzero\n",
    "elements from [1,2,0,0,4,0] "
   ]
  },
  {
   "cell_type": "code",
   "execution_count": 25,
   "id": "397dedc9",
   "metadata": {},
   "outputs": [
    {
     "name": "stdout",
     "output_type": "stream",
     "text": [
      "(array([0, 1, 4]),)\n"
     ]
    }
   ],
   "source": [
    "arr=np.nonzero([1,2,0,0,4,0])\n",
    "print(arr)"
   ]
  },
  {
   "cell_type": "markdown",
   "id": "524aa139",
   "metadata": {},
   "source": [
    "10. Create a 3x3 identity matrix "
   ]
  },
  {
   "cell_type": "code",
   "execution_count": 27,
   "id": "4abfd86e",
   "metadata": {},
   "outputs": [
    {
     "name": "stdout",
     "output_type": "stream",
     "text": [
      "[[1. 0. 0.]\n",
      " [0. 1. 0.]\n",
      " [0. 0. 1.]]\n"
     ]
    }
   ],
   "source": [
    "arr=np.identity(3)\n",
    "print(arr)"
   ]
  },
  {
   "cell_type": "markdown",
   "id": "945929fb",
   "metadata": {},
   "source": [
    "11. Create a 3x3x3 array with random values"
   ]
  },
  {
   "cell_type": "code",
   "execution_count": 32,
   "id": "9f1e041c",
   "metadata": {},
   "outputs": [
    {
     "name": "stdout",
     "output_type": "stream",
     "text": [
      "[[[0.38517342 0.06533815 0.80842954]\n",
      "  [0.31879439 0.70400347 0.59689175]\n",
      "  [0.35329109 0.90324872 0.84130221]]\n",
      "\n",
      " [[0.93598855 0.04118033 0.12621058]\n",
      "  [0.45661046 0.12119182 0.43648502]\n",
      "  [0.72524721 0.60268331 0.5392873 ]]\n",
      "\n",
      " [[0.92062698 0.10989381 0.68277526]\n",
      "  [0.43311827 0.85357376 0.05088037]\n",
      "  [0.55389509 0.5889352  0.17281998]]]\n"
     ]
    }
   ],
   "source": [
    "arr=np.random.random((3,3,3))\n",
    "print(arr)"
   ]
  },
  {
   "cell_type": "markdown",
   "id": "8d0b1057",
   "metadata": {},
   "source": [
    "12. Create a 10x10 array with random values and find the minimum and maximum\n",
    "values"
   ]
  },
  {
   "cell_type": "code",
   "execution_count": 36,
   "id": "bb742edf",
   "metadata": {},
   "outputs": [
    {
     "name": "stdout",
     "output_type": "stream",
     "text": [
      "[[0.99845204 0.42394258 0.04716983 0.33109178 0.71629907 0.08925826\n",
      "  0.69201676 0.27276993 0.18035236 0.89895957]\n",
      " [0.62779798 0.80572809 0.22113874 0.04788346 0.88711652 0.88770993\n",
      "  0.68214192 0.85245796 0.93149967 0.93788633]\n",
      " [0.55451481 0.39098754 0.15582768 0.9907721  0.73726415 0.5814818\n",
      "  0.03490661 0.60157205 0.96838027 0.41227971]\n",
      " [0.69483479 0.07282517 0.08562678 0.14012128 0.37058174 0.61101267\n",
      "  0.12525517 0.13376845 0.86546443 0.94662286]\n",
      " [0.8479593  0.4663433  0.84609971 0.62096786 0.12682777 0.50539754\n",
      "  0.80059792 0.7017601  0.1828569  0.31701036]\n",
      " [0.37738761 0.03327065 0.57363238 0.99694282 0.03932218 0.96546606\n",
      "  0.91325383 0.77953982 0.87528164 0.52114891]\n",
      " [0.69025229 0.59907579 0.89693819 0.91886222 0.27452768 0.81749477\n",
      "  0.75345273 0.14560516 0.24490413 0.57005817]\n",
      " [0.7550087  0.01371034 0.01474229 0.56101087 0.41340435 0.64497948\n",
      "  0.56698729 0.87299473 0.49487176 0.26020525]\n",
      " [0.01869199 0.92297246 0.39978407 0.52552857 0.37295582 0.44050723\n",
      "  0.90217187 0.05666242 0.45905786 0.86341246]\n",
      " [0.2870159  0.32962005 0.35870896 0.83931522 0.89196108 0.35373596\n",
      "  0.86949298 0.91461777 0.70661263 0.52185203]]\n",
      "Max & Min values :\n",
      " 0.013710341778330304 0.9984520427506997\n"
     ]
    }
   ],
   "source": [
    "arr=np.random.random((10,10))\n",
    "arrmin,arrmax=arr.min(),arr.max()\n",
    "print(arr)\n",
    "print(\"Max & Min values :\\n\",arrmin,arrmax)"
   ]
  },
  {
   "cell_type": "markdown",
   "id": "28d306c8",
   "metadata": {},
   "source": [
    "13. Create a random vector of size 30 and find the mean value"
   ]
  },
  {
   "cell_type": "code",
   "execution_count": 38,
   "id": "bbb07fc9",
   "metadata": {},
   "outputs": [
    {
     "name": "stdout",
     "output_type": "stream",
     "text": [
      "[0.34347941 0.43618319 0.79412569 0.5524822  0.54702679 0.61379457\n",
      " 0.90346848 0.95608381 0.10834345 0.21722364 0.48238319 0.65018902\n",
      " 0.61118289 0.82991119 0.72257036 0.93555407 0.45639362 0.48325763\n",
      " 0.25587712 0.77944356 0.38923335 0.81526791 0.15595053 0.71911028\n",
      " 0.74316898 0.5920846  0.22842969 0.66935043 0.28093176 0.18848428]\n",
      "Mean :\n",
      " 0.5486995229853837\n"
     ]
    }
   ],
   "source": [
    "arr=np.random.random(30)\n",
    "mean=arr.mean()\n",
    "print(arr)\n",
    "print(\"Mean :\\n\",mean)"
   ]
  },
  {
   "cell_type": "markdown",
   "id": "f3a5bb00",
   "metadata": {},
   "source": [
    "14. Create a 2d array with 1 on the border and 0 inside"
   ]
  },
  {
   "cell_type": "code",
   "execution_count": 39,
   "id": "50b07465",
   "metadata": {},
   "outputs": [
    {
     "name": "stdout",
     "output_type": "stream",
     "text": [
      "[[1. 1. 1. 1. 1. 1. 1. 1. 1. 1.]\n",
      " [1. 0. 0. 0. 0. 0. 0. 0. 0. 1.]\n",
      " [1. 0. 0. 0. 0. 0. 0. 0. 0. 1.]\n",
      " [1. 0. 0. 0. 0. 0. 0. 0. 0. 1.]\n",
      " [1. 0. 0. 0. 0. 0. 0. 0. 0. 1.]\n",
      " [1. 0. 0. 0. 0. 0. 0. 0. 0. 1.]\n",
      " [1. 0. 0. 0. 0. 0. 0. 0. 0. 1.]\n",
      " [1. 0. 0. 0. 0. 0. 0. 0. 0. 1.]\n",
      " [1. 0. 0. 0. 0. 0. 0. 0. 0. 1.]\n",
      " [1. 1. 1. 1. 1. 1. 1. 1. 1. 1.]]\n"
     ]
    }
   ],
   "source": [
    "arr=np.ones((10,10))\n",
    "arr[1:-1,1:-1 ]=0\n",
    "print(arr)"
   ]
  },
  {
   "cell_type": "markdown",
   "id": "82d32011",
   "metadata": {},
   "source": [
    "15. What is the result of the following expression?"
   ]
  },
  {
   "cell_type": "code",
   "execution_count": 4,
   "id": "dc8bc008",
   "metadata": {},
   "outputs": [
    {
     "data": {
      "text/plain": [
       "False"
      ]
     },
     "execution_count": 4,
     "metadata": {},
     "output_type": "execute_result"
    }
   ],
   "source": [
    "0 * np.nan\n",
    "np.nan == np.nan\n",
    "np.inf > np.nan\n",
    "np.nan - np.nan\n",
    "0.3 == 3 * 0.1"
   ]
  },
  {
   "cell_type": "markdown",
   "id": "0b5e2a03",
   "metadata": {},
   "source": [
    "16. Create a 5x5 matrix with values 1,2,3,4 just below the diagonal"
   ]
  },
  {
   "cell_type": "code",
   "execution_count": 8,
   "id": "38e1fd62",
   "metadata": {},
   "outputs": [
    {
     "name": "stdout",
     "output_type": "stream",
     "text": [
      "[[0 0 0 0 0]\n",
      " [1 0 0 0 0]\n",
      " [0 2 0 0 0]\n",
      " [0 0 3 0 0]\n",
      " [0 0 0 4 0]]\n"
     ]
    }
   ],
   "source": [
    "arr=np.diag(1+np.arange(4),k=-1)\n",
    "print(arr)"
   ]
  },
  {
   "cell_type": "markdown",
   "id": "6b7b74a1",
   "metadata": {},
   "source": [
    "17. Create a 8x8 matrix and fill it with a checkerboard pattern"
   ]
  },
  {
   "cell_type": "code",
   "execution_count": 11,
   "id": "c4c26ffb",
   "metadata": {},
   "outputs": [
    {
     "name": "stdout",
     "output_type": "stream",
     "text": [
      "[[0 1 0 1 0 1 0 1]\n",
      " [1 0 1 0 1 0 1 0]\n",
      " [0 1 0 1 0 1 0 1]\n",
      " [1 0 1 0 1 0 1 0]\n",
      " [0 1 0 1 0 1 0 1]\n",
      " [1 0 1 0 1 0 1 0]\n",
      " [0 1 0 1 0 1 0 1]\n",
      " [1 0 1 0 1 0 1 0]]\n"
     ]
    }
   ],
   "source": [
    "arr=np.zeros((8,8),dtype=int)\n",
    "arr[1::2,::2] = 1\n",
    "arr[::2,1::2] = 1\n",
    "print(arr)"
   ]
  },
  {
   "cell_type": "markdown",
   "id": "b1a24e4b",
   "metadata": {},
   "source": [
    "18. Consider a (6,7,8) shape array, what is the index (x,y,z) of the 100th element?"
   ]
  },
  {
   "cell_type": "code",
   "execution_count": 15,
   "id": "99e76eca",
   "metadata": {},
   "outputs": [
    {
     "name": "stdout",
     "output_type": "stream",
     "text": [
      "(np.int64(1), np.int64(5), np.int64(3))\n"
     ]
    }
   ],
   "source": [
    "print(np.unravel_index(99,(6,7,8)))"
   ]
  },
  {
   "cell_type": "markdown",
   "id": "c1c25ebd",
   "metadata": {},
   "source": [
    "19. Create a checkerboard 8x8 matrix using the tile function "
   ]
  },
  {
   "cell_type": "code",
   "execution_count": 16,
   "id": "655bc407",
   "metadata": {},
   "outputs": [
    {
     "name": "stdout",
     "output_type": "stream",
     "text": [
      "[[0 1 0 1 0 1 0 1]\n",
      " [1 0 1 0 1 0 1 0]\n",
      " [0 1 0 1 0 1 0 1]\n",
      " [1 0 1 0 1 0 1 0]\n",
      " [0 1 0 1 0 1 0 1]\n",
      " [1 0 1 0 1 0 1 0]\n",
      " [0 1 0 1 0 1 0 1]\n",
      " [1 0 1 0 1 0 1 0]]\n"
     ]
    }
   ],
   "source": [
    "arr=np.tile(np.array([[0,1],[1,0]]),(4,4))\n",
    "print(arr)"
   ]
  },
  {
   "cell_type": "markdown",
   "id": "7927983e",
   "metadata": {},
   "source": [
    "20. Normalize a 5x5 random matrix"
   ]
  },
  {
   "cell_type": "code",
   "execution_count": 23,
   "id": "87e06245",
   "metadata": {},
   "outputs": [
    {
     "name": "stdout",
     "output_type": "stream",
     "text": [
      "[[1 1 2 2 2]\n",
      " [9 8 7 9 5]\n",
      " [0 0 8 0 4]\n",
      " [2 3 9 6 7]\n",
      " [8 7 5 0 2]]\n",
      "[[0.11111111 0.11111111 0.22222222 0.22222222 0.22222222]\n",
      " [1.         0.88888889 0.77777778 1.         0.55555556]\n",
      " [0.         0.         0.88888889 0.         0.44444444]\n",
      " [0.22222222 0.33333333 1.         0.66666667 0.77777778]\n",
      " [0.88888889 0.77777778 0.55555556 0.         0.22222222]]\n"
     ]
    }
   ],
   "source": [
    "arr=np.random.randint(0,10,(5,5))\n",
    "print(arr)\n",
    "arrmax,arrmin=arr.max(),arr.min()\n",
    "arr = (arr-arrmin)/(arrmax-arrmin)\n",
    "print(arr)"
   ]
  },
  {
   "cell_type": "markdown",
   "id": "aea9bd4e",
   "metadata": {},
   "source": [
    "21. Create a custom dtype that describes a color as four unisgned bytes (RGBA)"
   ]
  },
  {
   "cell_type": "code",
   "execution_count": 25,
   "id": "d6988b52",
   "metadata": {},
   "outputs": [
    {
     "name": "stdout",
     "output_type": "stream",
     "text": [
      "[('r', 'u1', (1,)), ('g', 'u1', (1,)), ('b', 'u1', (1,)), ('a', 'u1', (1,))]\n"
     ]
    }
   ],
   "source": [
    "color = np.dtype([(\"r\", np.ubyte,1),\n",
    "                  (\"g\", np.ubyte,1),\n",
    "                  (\"b\",np.ubyte,1),\n",
    "                  (\"a\", np.ubyte,1)])\n",
    "print(color)"
   ]
  },
  {
   "cell_type": "markdown",
   "id": "5ee8a81a",
   "metadata": {},
   "source": [
    "22. Multiply a 5x3 matrix by a 3x2 matrix (real matrix product)"
   ]
  },
  {
   "cell_type": "code",
   "execution_count": 35,
   "id": "365daae2",
   "metadata": {},
   "outputs": [
    {
     "name": "stdout",
     "output_type": "stream",
     "text": [
      "arr1:\n",
      " [[ 0  3  8]\n",
      " [13  6  1]\n",
      " [ 0  6  1]\n",
      " [ 7  2  2]\n",
      " [ 3  4 13]]\n",
      "\n",
      "arr2:\n",
      " [[11 12]\n",
      " [12 14]\n",
      " [13 13]]\n",
      "\n",
      "Matrix multiplication:\n",
      " [[140 146]\n",
      " [228 253]\n",
      " [ 85  97]\n",
      " [127 138]\n",
      " [250 261]]\n"
     ]
    }
   ],
   "source": [
    "arr1 = np.random.randint(0, 14, (5, 3))\n",
    "arr2 = np.random.randint(10, 16, (3, 2))\n",
    "\n",
    "print(\"arr1:\\n\", arr1)\n",
    "print(\"\\narr2:\\n\", arr2)\n",
    "\n",
    "arr_multiply = arr1 @ arr2  # or: np.dot(arr1, arr2)\n",
    "print(\"\\nMatrix multiplication:\\n\", arr_multiply)\n",
    "\n",
    "# Z= np.dot(np.random.randint(0,14,(5,3)), np.random.randint(10,16,(3,2)))\n",
    "# print(Z)\n"
   ]
  },
  {
   "cell_type": "markdown",
   "id": "c4cf6e38",
   "metadata": {},
   "source": [
    "23. Given a 1D array, negate all elements which are between 3 and 8, in place."
   ]
  },
  {
   "cell_type": "code",
   "execution_count": null,
   "id": "54a800a1",
   "metadata": {},
   "outputs": [
    {
     "name": "stdout",
     "output_type": "stream",
     "text": [
      "[ 0  1  2  3 -4 -5 -6 -7 -8  9 10]\n"
     ]
    }
   ],
   "source": [
    "# Author: Evgeni Burovski\n",
    "arr = np.arange(11)\n",
    "arr[(3<arr) & (arr<=8)] *=-1\n",
    "print(arr)"
   ]
  },
  {
   "cell_type": "markdown",
   "id": "e78a9377",
   "metadata": {},
   "source": [
    "24. What is the output of the following script?"
   ]
  },
  {
   "cell_type": "code",
   "execution_count": 58,
   "id": "c5478bb7",
   "metadata": {},
   "outputs": [
    {
     "name": "stdout",
     "output_type": "stream",
     "text": [
      "10\n",
      "10\n"
     ]
    }
   ],
   "source": [
    "arr_sum1=np.sum(range(5),-1)\n",
    "arr_sum2=np.sum(range(5),-1)\n",
    "print(arr_sum1)\n",
    "print(arr_sum2)"
   ]
  },
  {
   "cell_type": "markdown",
   "id": "9d5152c6",
   "metadata": {},
   "source": [
    "25. Consider an integer vector Z, which of these expressions are legal?"
   ]
  },
  {
   "cell_type": "code",
   "execution_count": 67,
   "id": "2425563d",
   "metadata": {},
   "outputs": [],
   "source": [
    "# Z ** Z\n",
    "# 2 << Z >> 2\n",
    "# Z <- Z\n",
    "# 1j*Z\n",
    "# Z/1/1\n",
    "# Z<Z>Z"
   ]
  },
  {
   "cell_type": "markdown",
   "id": "f9e07f04",
   "metadata": {},
   "source": [
    "26. What are the result of the following expressions?"
   ]
  },
  {
   "cell_type": "code",
   "execution_count": 68,
   "id": "715a26c7",
   "metadata": {},
   "outputs": [
    {
     "name": "stderr",
     "output_type": "stream",
     "text": [
      "C:\\Users\\Arnob\\AppData\\Local\\Temp\\ipykernel_11732\\737044142.py:1: RuntimeWarning: divide by zero encountered in floor_divide\n",
      "  np.array(0) // np.array(0)\n",
      "C:\\Users\\Arnob\\AppData\\Local\\Temp\\ipykernel_11732\\737044142.py:2: RuntimeWarning: invalid value encountered in floor_divide\n",
      "  np.array(0) // np.array(0.)\n",
      "C:\\Users\\Arnob\\AppData\\Local\\Temp\\ipykernel_11732\\737044142.py:3: RuntimeWarning: invalid value encountered in divide\n",
      "  np.array(0)  / np.array(0)\n",
      "C:\\Users\\Arnob\\AppData\\Local\\Temp\\ipykernel_11732\\737044142.py:4: RuntimeWarning: invalid value encountered in divide\n",
      "  np.array(0)  / np.array(0.)\n"
     ]
    },
    {
     "data": {
      "text/plain": [
       "np.float64(nan)"
      ]
     },
     "execution_count": 68,
     "metadata": {},
     "output_type": "execute_result"
    }
   ],
   "source": [
    "np.array(0) // np.array(0)\n",
    "np.array(0) // np.array(0.)\n",
    "np.array(0)  / np.array(0)\n",
    "np.array(0)  / np.array(0.)"
   ]
  },
  {
   "cell_type": "markdown",
   "id": "3f43445d",
   "metadata": {},
   "source": [
    "27. How to round away from zero a float array ?"
   ]
  },
  {
   "cell_type": "code",
   "execution_count": 69,
   "id": "4df6a4b5",
   "metadata": {},
   "outputs": [
    {
     "name": "stdout",
     "output_type": "stream",
     "text": [
      "[ 3.  4. -1. -4. -4.  7.  5. -1. 10. -7.]\n"
     ]
    }
   ],
   "source": [
    "arr= np.random.uniform(-10,+10,10)\n",
    "print(np.trunc(arr + np.copysign(.5,arr) ))"
   ]
  },
  {
   "cell_type": "markdown",
   "id": "9e171b10",
   "metadata": {},
   "source": [
    "28. Extract the integer part of a random array using 5 different methods"
   ]
  },
  {
   "cell_type": "code",
   "execution_count": 70,
   "id": "f43ec471",
   "metadata": {},
   "outputs": [
    {
     "name": "stdout",
     "output_type": "stream",
     "text": [
      "[5. 5. 3. 7. 6. 4. 9. 3. 5. 4.]\n",
      "[5. 5. 3. 7. 6. 4. 9. 3. 5. 4.]\n",
      "[5. 5. 3. 7. 6. 4. 9. 3. 5. 4.]\n",
      "[5 5 3 7 6 4 9 3 5 4]\n",
      "[5. 5. 3. 7. 6. 4. 9. 3. 5. 4.]\n"
     ]
    }
   ],
   "source": [
    "arr = np.random.uniform(0,10,10)\n",
    "print(arr - arr%1)\n",
    "print(np.floor(arr))\n",
    "print(np.ceil(arr)-1)\n",
    "print(arr.astype(int))\n",
    "print(np.trunc(arr))"
   ]
  },
  {
   "cell_type": "markdown",
   "id": "dd7b96ad",
   "metadata": {},
   "source": [
    "29. Create a 5x5 matrix with row values ranging from 0 to 4"
   ]
  },
  {
   "cell_type": "code",
   "execution_count": 71,
   "id": "bc0017fd",
   "metadata": {},
   "outputs": [
    {
     "name": "stdout",
     "output_type": "stream",
     "text": [
      "[[0. 1. 2. 3. 4.]\n",
      " [0. 1. 2. 3. 4.]\n",
      " [0. 1. 2. 3. 4.]\n",
      " [0. 1. 2. 3. 4.]\n",
      " [0. 1. 2. 3. 4.]]\n"
     ]
    }
   ],
   "source": [
    "arr=np.zeros((5,5))\n",
    "arr+=np.arange(5)\n",
    "print(arr)"
   ]
  },
  {
   "cell_type": "markdown",
   "id": "96006d90",
   "metadata": {},
   "source": [
    "30. Consider a generator function that generates 10 integers and use it to build an\n",
    "array"
   ]
  },
  {
   "cell_type": "code",
   "execution_count": 75,
   "id": "18f28e8a",
   "metadata": {},
   "outputs": [
    {
     "name": "stdout",
     "output_type": "stream",
     "text": [
      "[[0. 1. 2. 3. 4.]\n",
      " [0. 1. 2. 3. 4.]\n",
      " [0. 1. 2. 3. 4.]\n",
      " [0. 1. 2. 3. 4.]\n",
      " [0. 1. 2. 3. 4.]]\n"
     ]
    }
   ],
   "source": [
    "def generate():\n",
    "    for x in xrange(10):\n",
    "        yield x\n",
    "    arr = np.fromiter(generate(),dtype=float,count=-1)\n",
    "print(arr)        "
   ]
  },
  {
   "cell_type": "markdown",
   "id": "ce9882c2",
   "metadata": {},
   "source": [
    "31. Create a vector of size 10 with values ranging from 0 to 1, both excluded"
   ]
  },
  {
   "cell_type": "code",
   "execution_count": 76,
   "id": "c22da442",
   "metadata": {},
   "outputs": [
    {
     "name": "stdout",
     "output_type": "stream",
     "text": [
      "[0.09090909 0.18181818 0.27272727 0.36363636 0.45454545 0.54545455\n",
      " 0.63636364 0.72727273 0.81818182 0.90909091]\n"
     ]
    }
   ],
   "source": [
    "arr=linspace(0,1,12,endpoint=True)[1:-1]\n",
    "print(arr)"
   ]
  },
  {
   "cell_type": "markdown",
   "id": "07fdf5f2",
   "metadata": {},
   "source": [
    "32. Create a random vector of size 10 and sort it"
   ]
  },
  {
   "cell_type": "code",
   "execution_count": 77,
   "id": "db2aa736",
   "metadata": {},
   "outputs": [
    {
     "name": "stdout",
     "output_type": "stream",
     "text": [
      "[0.33132373 0.35162921 0.36912722 0.50708511 0.56213758 0.61748352\n",
      " 0.63901023 0.7031574  0.75289036 0.97481554]\n"
     ]
    }
   ],
   "source": [
    "arr = np.random.random(10)\n",
    "arr.sort()\n",
    "print(arr)"
   ]
  },
  {
   "cell_type": "markdown",
   "id": "d6b92f9b",
   "metadata": {},
   "source": [
    "33. How to sum a small array faster than np.sum?"
   ]
  },
  {
   "cell_type": "code",
   "execution_count": 81,
   "id": "d266c7ea",
   "metadata": {},
   "outputs": [
    {
     "name": "stdout",
     "output_type": "stream",
     "text": [
      "[0 1 2 3 4 5 6 7 8 9]\n",
      "45\n"
     ]
    }
   ],
   "source": [
    "arr = np.arange(10)\n",
    "result=np.add.reduce(arr)\n",
    "print(arr)\n",
    "print(result)"
   ]
  },
  {
   "cell_type": "markdown",
   "id": "507039bf",
   "metadata": {},
   "source": [
    "34. Consider two random array A anb B, check if they are equal"
   ]
  },
  {
   "cell_type": "code",
   "execution_count": 93,
   "id": "a9b5d63c",
   "metadata": {},
   "outputs": [
    {
     "name": "stdout",
     "output_type": "stream",
     "text": [
      "A:\n",
      " [1 0]\n",
      "B:\n",
      " [0 3]\n",
      "False\n"
     ]
    }
   ],
   "source": [
    "A=np.random.randint(0,(2,5))\n",
    "B=np.random.randint(0,(2,5))\n",
    "equal = np.allclose(A,B)\n",
    "print(\"A:\\n\",A)\n",
    "print(\"B:\\n\",B)\n",
    "print(equal)"
   ]
  },
  {
   "cell_type": "markdown",
   "id": "41937164",
   "metadata": {},
   "source": [
    "35. Make an array immutable (readonly)"
   ]
  },
  {
   "cell_type": "code",
   "execution_count": 102,
   "id": "8e2dfca4",
   "metadata": {},
   "outputs": [
    {
     "name": "stdout",
     "output_type": "stream",
     "text": [
      "[1. 0. 0. 0. 0. 0. 0. 0. 0. 0.]\n",
      "True\n"
     ]
    }
   ],
   "source": [
    "arr=np.zeros(10)\n",
    "arr.flags.writeable = True\n",
    "arr[0] = 1\n",
    "print(arr)\n",
    "print(arr.flags.writeable)"
   ]
  },
  {
   "cell_type": "markdown",
   "id": "27e95116",
   "metadata": {},
   "source": [
    "36. Consider a random 10x2 matrix representing cartesian coordinates, convert them\n",
    "to polar coordinates"
   ]
  },
  {
   "cell_type": "code",
   "execution_count": 114,
   "id": "a13ede37",
   "metadata": {},
   "outputs": [
    {
     "name": "stdout",
     "output_type": "stream",
     "text": [
      "[0.41511857 0.74889776 1.24945787 1.01063643 0.81334383 0.58839166\n",
      " 1.18002016 0.34203422 0.26426709 0.80236839]\n",
      "[0.35654273 1.15157101 0.64369886 0.88930579 0.84787358 0.12845356\n",
      " 0.78431106 0.04802277 0.46029451 0.31244201]\n"
     ]
    }
   ],
   "source": [
    "arr = np.random.random((10,2))\n",
    "X ,Y =arr[:,0],arr[:,1]\n",
    "R= np.sqrt(X**2+Y**2)\n",
    "T= np.arctan2(Y,X)\n",
    "print(R)\n",
    "print(T)"
   ]
  },
  {
   "cell_type": "markdown",
   "id": "498cc1a4",
   "metadata": {},
   "source": [
    "37. Create random vector of size 10 and replace the maximum value by 0"
   ]
  },
  {
   "cell_type": "code",
   "execution_count": 118,
   "id": "23f12631",
   "metadata": {},
   "outputs": [
    {
     "name": "stdout",
     "output_type": "stream",
     "text": [
      "[0.10832501 0.18160259 0.34593821 0.20941216 0.04166785 0.20319329\n",
      " 0.6447429  0.01504091 0.6180308  0.58466832]\n"
     ]
    }
   ],
   "source": [
    "arr = np.random.random(10)\n",
    "arr[arr.argmax()] == 0\n",
    "print(arr)"
   ]
  },
  {
   "cell_type": "markdown",
   "id": "f268ad04",
   "metadata": {},
   "source": [
    "38. Create a structured array with x and y coordinates covering the [0,1]x[0,1] area"
   ]
  },
  {
   "cell_type": "code",
   "execution_count": 122,
   "id": "2aab5677",
   "metadata": {},
   "outputs": [
    {
     "name": "stdout",
     "output_type": "stream",
     "text": [
      "[[(0.        , 0.        ) (0.11111111, 0.        )\n",
      "  (0.22222222, 0.        ) (0.33333333, 0.        )\n",
      "  (0.44444444, 0.        ) (0.55555556, 0.        )\n",
      "  (0.66666667, 0.        ) (0.77777778, 0.        )\n",
      "  (0.88888889, 0.        ) (1.        , 0.        )]\n",
      " [(0.        , 0.11111111) (0.11111111, 0.11111111)\n",
      "  (0.22222222, 0.11111111) (0.33333333, 0.11111111)\n",
      "  (0.44444444, 0.11111111) (0.55555556, 0.11111111)\n",
      "  (0.66666667, 0.11111111) (0.77777778, 0.11111111)\n",
      "  (0.88888889, 0.11111111) (1.        , 0.11111111)]\n",
      " [(0.        , 0.22222222) (0.11111111, 0.22222222)\n",
      "  (0.22222222, 0.22222222) (0.33333333, 0.22222222)\n",
      "  (0.44444444, 0.22222222) (0.55555556, 0.22222222)\n",
      "  (0.66666667, 0.22222222) (0.77777778, 0.22222222)\n",
      "  (0.88888889, 0.22222222) (1.        , 0.22222222)]\n",
      " [(0.        , 0.33333333) (0.11111111, 0.33333333)\n",
      "  (0.22222222, 0.33333333) (0.33333333, 0.33333333)\n",
      "  (0.44444444, 0.33333333) (0.55555556, 0.33333333)\n",
      "  (0.66666667, 0.33333333) (0.77777778, 0.33333333)\n",
      "  (0.88888889, 0.33333333) (1.        , 0.33333333)]\n",
      " [(0.        , 0.44444444) (0.11111111, 0.44444444)\n",
      "  (0.22222222, 0.44444444) (0.33333333, 0.44444444)\n",
      "  (0.44444444, 0.44444444) (0.55555556, 0.44444444)\n",
      "  (0.66666667, 0.44444444) (0.77777778, 0.44444444)\n",
      "  (0.88888889, 0.44444444) (1.        , 0.44444444)]\n",
      " [(0.        , 0.55555556) (0.11111111, 0.55555556)\n",
      "  (0.22222222, 0.55555556) (0.33333333, 0.55555556)\n",
      "  (0.44444444, 0.55555556) (0.55555556, 0.55555556)\n",
      "  (0.66666667, 0.55555556) (0.77777778, 0.55555556)\n",
      "  (0.88888889, 0.55555556) (1.        , 0.55555556)]\n",
      " [(0.        , 0.66666667) (0.11111111, 0.66666667)\n",
      "  (0.22222222, 0.66666667) (0.33333333, 0.66666667)\n",
      "  (0.44444444, 0.66666667) (0.55555556, 0.66666667)\n",
      "  (0.66666667, 0.66666667) (0.77777778, 0.66666667)\n",
      "  (0.88888889, 0.66666667) (1.        , 0.66666667)]\n",
      " [(0.        , 0.77777778) (0.11111111, 0.77777778)\n",
      "  (0.22222222, 0.77777778) (0.33333333, 0.77777778)\n",
      "  (0.44444444, 0.77777778) (0.55555556, 0.77777778)\n",
      "  (0.66666667, 0.77777778) (0.77777778, 0.77777778)\n",
      "  (0.88888889, 0.77777778) (1.        , 0.77777778)]\n",
      " [(0.        , 0.88888889) (0.11111111, 0.88888889)\n",
      "  (0.22222222, 0.88888889) (0.33333333, 0.88888889)\n",
      "  (0.44444444, 0.88888889) (0.55555556, 0.88888889)\n",
      "  (0.66666667, 0.88888889) (0.77777778, 0.88888889)\n",
      "  (0.88888889, 0.88888889) (1.        , 0.88888889)]\n",
      " [(0.        , 1.        ) (0.11111111, 1.        )\n",
      "  (0.22222222, 1.        ) (0.33333333, 1.        )\n",
      "  (0.44444444, 1.        ) (0.55555556, 1.        )\n",
      "  (0.66666667, 1.        ) (0.77777778, 1.        )\n",
      "  (0.88888889, 1.        ) (1.        , 1.        )]]\n"
     ]
    }
   ],
   "source": [
    "arr=np.zeros((10,10), [(\"x\",float),(\"y\",float)])\n",
    "arr[\"x\"], arr[\"y\"] = np.meshgrid(np.linspace(0,1,10),np.linspace(0,1,10))\n",
    "print(arr)"
   ]
  },
  {
   "cell_type": "markdown",
   "id": "67fcb8c4",
   "metadata": {},
   "source": [
    "39. Given two arrays, X and Y, construct the Cauchy matrix C (Cij = 1/(xi yj))"
   ]
  },
  {
   "cell_type": "code",
   "execution_count": 125,
   "id": "4e769732",
   "metadata": {},
   "outputs": [
    {
     "name": "stdout",
     "output_type": "stream",
     "text": [
      "X:\n",
      " [0 1 2 3 4 5 6 7]\n",
      "Y:\n",
      " [0.5 1.5 2.5 3.5 4.5 5.5 6.5 7.5]\n",
      "C:\n",
      " [[-2.         -0.66666667 -0.4        -0.28571429 -0.22222222 -0.18181818\n",
      "  -0.15384615 -0.13333333]\n",
      " [ 2.         -2.         -0.66666667 -0.4        -0.28571429 -0.22222222\n",
      "  -0.18181818 -0.15384615]\n",
      " [ 0.66666667  2.         -2.         -0.66666667 -0.4        -0.28571429\n",
      "  -0.22222222 -0.18181818]\n",
      " [ 0.4         0.66666667  2.         -2.         -0.66666667 -0.4\n",
      "  -0.28571429 -0.22222222]\n",
      " [ 0.28571429  0.4         0.66666667  2.         -2.         -0.66666667\n",
      "  -0.4        -0.28571429]\n",
      " [ 0.22222222  0.28571429  0.4         0.66666667  2.         -2.\n",
      "  -0.66666667 -0.4       ]\n",
      " [ 0.18181818  0.22222222  0.28571429  0.4         0.66666667  2.\n",
      "  -2.         -0.66666667]\n",
      " [ 0.15384615  0.18181818  0.22222222  0.28571429  0.4         0.66666667\n",
      "   2.         -2.        ]]\n",
      "3638.163637117973\n"
     ]
    }
   ],
   "source": [
    "x = np.arange(8)\n",
    "y = x + 0.5\n",
    "c = 1.0/np.subtract.outer(x,y)\n",
    "print(\"X:\\n\",x)\n",
    "print(\"Y:\\n\",y)\n",
    "print(\"C:\\n\",c)\n",
    "print(np.linalg.det(c))"
   ]
  },
  {
   "cell_type": "markdown",
   "id": "31aeed97",
   "metadata": {},
   "source": [
    "40. Print the minimum and maximum representable value for each numpy scalar type"
   ]
  },
  {
   "cell_type": "code",
   "execution_count": 128,
   "id": "11d3ed1c",
   "metadata": {},
   "outputs": [
    {
     "name": "stdout",
     "output_type": "stream",
     "text": [
      "-128\n",
      "127\n",
      "-2147483648\n",
      "2147483647\n",
      "-9223372036854775808\n",
      "9223372036854775807\n",
      "-3.4028235e+38\n",
      "3.4028235e+38\n",
      "1.1920929e-07\n",
      "-1.7976931348623157e+308\n",
      "1.7976931348623157e+308\n",
      "2.220446049250313e-16\n"
     ]
    }
   ],
   "source": [
    "for dtype in [np.int8 , np.int32 , np.int64 ]:\n",
    "    print(np.iinfo(dtype).min)\n",
    "    print(np.iinfo(dtype).max)\n",
    "   \n",
    "for dtype in [np.float32 , np.float64]:\n",
    "    print(np.finfo(dtype).min)\n",
    "    print(np.finfo(dtype).max)\n",
    "    print(np.finfo(dtype).eps)    "
   ]
  },
  {
   "cell_type": "markdown",
   "id": "4f23f9ab",
   "metadata": {},
   "source": [
    "41. How to print all the values of an array?"
   ]
  },
  {
   "cell_type": "code",
   "execution_count": 135,
   "id": "3cae6b48",
   "metadata": {},
   "outputs": [
    {
     "name": "stdout",
     "output_type": "stream",
     "text": [
      "[[0. 0. 0. 0. 0. 0. 0. 0. 0. 0. 0. 0. 0. 0. 0. 0. 0. 0. 0. 0. 0. 0. 0. 0.\n",
      "  0.]\n",
      " [0. 0. 0. 0. 0. 0. 0. 0. 0. 0. 0. 0. 0. 0. 0. 0. 0. 0. 0. 0. 0. 0. 0. 0.\n",
      "  0.]\n",
      " [0. 0. 0. 0. 0. 0. 0. 0. 0. 0. 0. 0. 0. 0. 0. 0. 0. 0. 0. 0. 0. 0. 0. 0.\n",
      "  0.]\n",
      " [0. 0. 0. 0. 0. 0. 0. 0. 0. 0. 0. 0. 0. 0. 0. 0. 0. 0. 0. 0. 0. 0. 0. 0.\n",
      "  0.]\n",
      " [0. 0. 0. 0. 0. 0. 0. 0. 0. 0. 0. 0. 0. 0. 0. 0. 0. 0. 0. 0. 0. 0. 0. 0.\n",
      "  0.]\n",
      " [0. 0. 0. 0. 0. 0. 0. 0. 0. 0. 0. 0. 0. 0. 0. 0. 0. 0. 0. 0. 0. 0. 0. 0.\n",
      "  0.]\n",
      " [0. 0. 0. 0. 0. 0. 0. 0. 0. 0. 0. 0. 0. 0. 0. 0. 0. 0. 0. 0. 0. 0. 0. 0.\n",
      "  0.]\n",
      " [0. 0. 0. 0. 0. 0. 0. 0. 0. 0. 0. 0. 0. 0. 0. 0. 0. 0. 0. 0. 0. 0. 0. 0.\n",
      "  0.]\n",
      " [0. 0. 0. 0. 0. 0. 0. 0. 0. 0. 0. 0. 0. 0. 0. 0. 0. 0. 0. 0. 0. 0. 0. 0.\n",
      "  0.]\n",
      " [0. 0. 0. 0. 0. 0. 0. 0. 0. 0. 0. 0. 0. 0. 0. 0. 0. 0. 0. 0. 0. 0. 0. 0.\n",
      "  0.]\n",
      " [0. 0. 0. 0. 0. 0. 0. 0. 0. 0. 0. 0. 0. 0. 0. 0. 0. 0. 0. 0. 0. 0. 0. 0.\n",
      "  0.]\n",
      " [0. 0. 0. 0. 0. 0. 0. 0. 0. 0. 0. 0. 0. 0. 0. 0. 0. 0. 0. 0. 0. 0. 0. 0.\n",
      "  0.]\n",
      " [0. 0. 0. 0. 0. 0. 0. 0. 0. 0. 0. 0. 0. 0. 0. 0. 0. 0. 0. 0. 0. 0. 0. 0.\n",
      "  0.]\n",
      " [0. 0. 0. 0. 0. 0. 0. 0. 0. 0. 0. 0. 0. 0. 0. 0. 0. 0. 0. 0. 0. 0. 0. 0.\n",
      "  0.]\n",
      " [0. 0. 0. 0. 0. 0. 0. 0. 0. 0. 0. 0. 0. 0. 0. 0. 0. 0. 0. 0. 0. 0. 0. 0.\n",
      "  0.]\n",
      " [0. 0. 0. 0. 0. 0. 0. 0. 0. 0. 0. 0. 0. 0. 0. 0. 0. 0. 0. 0. 0. 0. 0. 0.\n",
      "  0.]\n",
      " [0. 0. 0. 0. 0. 0. 0. 0. 0. 0. 0. 0. 0. 0. 0. 0. 0. 0. 0. 0. 0. 0. 0. 0.\n",
      "  0.]\n",
      " [0. 0. 0. 0. 0. 0. 0. 0. 0. 0. 0. 0. 0. 0. 0. 0. 0. 0. 0. 0. 0. 0. 0. 0.\n",
      "  0.]\n",
      " [0. 0. 0. 0. 0. 0. 0. 0. 0. 0. 0. 0. 0. 0. 0. 0. 0. 0. 0. 0. 0. 0. 0. 0.\n",
      "  0.]\n",
      " [0. 0. 0. 0. 0. 0. 0. 0. 0. 0. 0. 0. 0. 0. 0. 0. 0. 0. 0. 0. 0. 0. 0. 0.\n",
      "  0.]\n",
      " [0. 0. 0. 0. 0. 0. 0. 0. 0. 0. 0. 0. 0. 0. 0. 0. 0. 0. 0. 0. 0. 0. 0. 0.\n",
      "  0.]\n",
      " [0. 0. 0. 0. 0. 0. 0. 0. 0. 0. 0. 0. 0. 0. 0. 0. 0. 0. 0. 0. 0. 0. 0. 0.\n",
      "  0.]\n",
      " [0. 0. 0. 0. 0. 0. 0. 0. 0. 0. 0. 0. 0. 0. 0. 0. 0. 0. 0. 0. 0. 0. 0. 0.\n",
      "  0.]\n",
      " [0. 0. 0. 0. 0. 0. 0. 0. 0. 0. 0. 0. 0. 0. 0. 0. 0. 0. 0. 0. 0. 0. 0. 0.\n",
      "  0.]\n",
      " [0. 0. 0. 0. 0. 0. 0. 0. 0. 0. 0. 0. 0. 0. 0. 0. 0. 0. 0. 0. 0. 0. 0. 0.\n",
      "  0.]]\n"
     ]
    }
   ],
   "source": [
    "np.set_printoptions(threshold=np.inf) \n",
    "arr = np.zeros((25,25))\n",
    "print(arr)"
   ]
  },
  {
   "cell_type": "markdown",
   "id": "d3d77eba",
   "metadata": {},
   "source": [
    "42. How to find the closest value (to a given scalar) in an array?"
   ]
  },
  {
   "cell_type": "code",
   "execution_count": 150,
   "id": "9f13d664",
   "metadata": {},
   "outputs": [
    {
     "name": "stdout",
     "output_type": "stream",
     "text": [
      "arr:\n",
      " [ 0  1  2  3  4  5  6  7  8  9 10 11 12 13 14 15 16 17 18 19 20 21 22 23\n",
      " 24 25 26 27 28 29 30 31 32 33 34 35 36 37 38 39 40 41 42 43 44 45 46 47\n",
      " 48 49 50 51 52 53 54 55 56 57 58 59 60 61 62 63 64 65 66 67 68 69 70 71\n",
      " 72 73 74 75 76 77 78 79 80 81 82 83 84 85 86 87 88 89 90 91 92 93 94 95\n",
      " 96 97 98 99]\n",
      "v:\n",
      " 13.370360734966036\n",
      "Index:\n",
      " 13\n"
     ]
    }
   ],
   "source": [
    "arr = np.arange(100)\n",
    "v = np.random.uniform(0,100)\n",
    "index = (np.abs(arr-v)).argmin()\n",
    "print(\"arr:\\n\",arr)\n",
    "print(\"v:\\n\",v)\n",
    "print(\"Index:\\n\",arr[index])"
   ]
  },
  {
   "cell_type": "markdown",
   "id": "aac0f8ec",
   "metadata": {},
   "source": [
    "43. Create a structured array representing a position (x,y) and a color (r,g,b)"
   ]
  },
  {
   "cell_type": "code",
   "execution_count": 5,
   "id": "ab7d42d9",
   "metadata": {},
   "outputs": [
    {
     "name": "stdout",
     "output_type": "stream",
     "text": [
      "[(([0.], [0.]), ([0.], [0.], [0.])) (([0.], [0.]), ([0.], [0.], [0.]))\n",
      " (([0.], [0.]), ([0.], [0.], [0.])) (([0.], [0.]), ([0.], [0.], [0.]))\n",
      " (([0.], [0.]), ([0.], [0.], [0.])) (([0.], [0.]), ([0.], [0.], [0.]))\n",
      " (([0.], [0.]), ([0.], [0.], [0.])) (([0.], [0.]), ([0.], [0.], [0.]))\n",
      " (([0.], [0.]), ([0.], [0.], [0.])) (([0.], [0.]), ([0.], [0.], [0.]))]\n"
     ]
    }
   ],
   "source": [
    "arr=np.zeros(10,[(\"position\",[(\"x\",float,1),\n",
    "                              (\"y\", float, 1)]),\n",
    "                 (\"color\", [(\"r\",float, 1),\n",
    "                            (\"g\", float , 1),\n",
    "                            (\"b\" , float, 1)])])\n",
    "print(arr)"
   ]
  },
  {
   "cell_type": "markdown",
   "id": "663b0d74",
   "metadata": {},
   "source": [
    "44. Consider a random vector with shape (100,2) representing coordinates, find point\n",
    "by point distances"
   ]
  },
  {
   "cell_type": "code",
   "execution_count": null,
   "id": "c6e043d6",
   "metadata": {},
   "outputs": [
    {
     "name": "stdout",
     "output_type": "stream",
     "text": [
      "[[ 0.          6.08276253  3.60555128 ...  3.          3.60555128\n",
      "   7.21110255]\n",
      " [ 6.08276253  0.          8.94427191 ...  3.16227766  8.94427191\n",
      "   3.        ]\n",
      " [ 3.60555128  8.94427191  0.         ...  5.83095189  0.\n",
      "  10.63014581]\n",
      " ...\n",
      " [ 3.          3.16227766  5.83095189 ...  0.          5.83095189\n",
      "   5.        ]\n",
      " [ 3.60555128  8.94427191  0.         ...  5.83095189  0.\n",
      "  10.63014581]\n",
      " [ 7.21110255  3.         10.63014581 ...  5.         10.63014581\n",
      "   0.        ]]\n"
     ]
    }
   ],
   "source": [
    "from scipy.spatial.distance import cdist\n",
    "points = np.random.randint(0,10,(100,2))\n",
    "distances = cdist(points,points)\n",
    "# print(points)\n",
    "print(distances)\n"
   ]
  },
  {
   "cell_type": "markdown",
   "id": "716e7d0f",
   "metadata": {},
   "source": [
    "45. How to convert a float (32 bits) array into an integer (32 bits) in place?"
   ]
  },
  {
   "cell_type": "code",
   "execution_count": 22,
   "id": "d9a6fc1d",
   "metadata": {},
   "outputs": [
    {
     "name": "stdout",
     "output_type": "stream",
     "text": [
      "int32: [0 1 2 3 4 5 6 7 8 9]\n",
      "float32: [0. 1. 2. 3. 4. 5. 6. 7. 8. 9.]\n"
     ]
    }
   ],
   "source": [
    "arr = np.arange(10,dtype=np.int32)\n",
    "arr1 = arr.astype(np.float32, copy = False)\n",
    "print(\"int32:\",arr)\n",
    "print(\"float32:\",arr1)"
   ]
  },
  {
   "cell_type": "markdown",
   "id": "1376334a",
   "metadata": {},
   "source": [
    "46. How to read the following file?"
   ]
  },
  {
   "cell_type": "code",
   "execution_count": 28,
   "id": "c5336be3",
   "metadata": {},
   "outputs": [
    {
     "name": "stdout",
     "output_type": "stream",
     "text": [
      "[[ 1.  2.  3.  4.  5.]\n",
      " [ 6. nan nan  7.  8.]\n",
      " [nan nan  9. 10. 11.]]\n"
     ]
    }
   ],
   "source": [
    "data= np.genfromtxt(\"journal.txt\", delimiter=\",\")\n",
    "print(data)"
   ]
  },
  {
   "cell_type": "markdown",
   "id": "9955fb15",
   "metadata": {},
   "source": [
    "47. What is the equivalent of enumerate for numpy arrays?"
   ]
  },
  {
   "cell_type": "code",
   "execution_count": 35,
   "id": "f77a7f62",
   "metadata": {},
   "outputs": [
    {
     "name": "stdout",
     "output_type": "stream",
     "text": [
      "np.ndenumerate: (0, 0) 0\n",
      "np.ndenumerate: (0, 1) 1\n",
      "np.ndenumerate: (0, 2) 2\n",
      "np.ndenumerate: (1, 0) 3\n",
      "np.ndenumerate: (1, 1) 4\n",
      "np.ndenumerate: (1, 2) 5\n",
      "np.ndenumerate: (2, 0) 6\n",
      "np.ndenumerate: (2, 1) 7\n",
      "np.ndenumerate: (2, 2) 8\n",
      "np.ndindex: (0, 0) 0\n",
      "np.ndindex: (0, 1) 1\n",
      "np.ndindex: (0, 2) 2\n",
      "np.ndindex: (1, 0) 3\n",
      "np.ndindex: (1, 1) 4\n",
      "np.ndindex: (1, 2) 5\n",
      "np.ndindex: (2, 0) 6\n",
      "np.ndindex: (2, 1) 7\n",
      "np.ndindex: (2, 2) 8\n"
     ]
    }
   ],
   "source": [
    "arr= np.arange(9). reshape(3,3)\n",
    "for index, value in np.ndenumerate(arr):\n",
    "    print(\"np.ndenumerate:\",index, value)\n",
    "for index in np.ndindex(arr.shape):\n",
    "    print(\"np.ndindex:\",index, arr[index])    "
   ]
  },
  {
   "cell_type": "markdown",
   "id": "4b14af12",
   "metadata": {},
   "source": [
    "48. Generate a generic 2D Gaussianlike\n",
    "array"
   ]
  },
  {
   "cell_type": "code",
   "execution_count": 40,
   "id": "b7d6b90e",
   "metadata": {},
   "outputs": [
    {
     "data": {
      "image/png": "[encoded data removed]",
      "text/plain": [
       "<Figure size 640x480 with 2 Axes>"
      ]
     },
     "metadata": {},
     "output_type": "display_data"
    }
   ],
   "source": [
    "x,y= np.meshgrid(np.linspace(-1,1,100), np.linspace(-1,1,100))\n",
    "sigma = 0.4\n",
    "mu = 0.0\n",
    "\n",
    "gaussian = np.exp(-((x-mu)**2 +(y-mu)**2)/(2.0 * sigma**2))\n",
    "plt.imshow(gaussian,cmap=\"viridis\")\n",
    "plt.title(\"2D Gaussian-like Array\")\n",
    "plt.colorbar()\n",
    "plt.show()"
   ]
  },
  {
   "cell_type": "markdown",
   "id": "44f64aed",
   "metadata": {},
   "source": [
    "49. How to randomly place p elements in a 2D array?"
   ]
  },
  {
   "cell_type": "code",
   "execution_count": 55,
   "id": "624eeb90",
   "metadata": {},
   "outputs": [
    {
     "name": "stdout",
     "output_type": "stream",
     "text": [
      "N: 5\n",
      "P: 3\n",
      "Array:\n",
      " [[0. 0. 0. 0. 0.]\n",
      " [0. 0. 0. 0. 4.]\n",
      " [0. 0. 4. 0. 0.]\n",
      " [0. 0. 0. 4. 0.]\n",
      " [0. 0. 0. 0. 0.]]\n"
     ]
    }
   ],
   "source": [
    "n = 5\n",
    "p = 3\n",
    "arr = np.zeros((n,n))\n",
    "np.put(arr, np.random.choice(range(n*n), p, replace=False),4)\n",
    "print(\"N:\",n)\n",
    "print(\"P:\",p)\n",
    "print(\"Array:\\n\",arr)"
   ]
  },
  {
   "cell_type": "markdown",
   "id": "5e04169d",
   "metadata": {},
   "source": [
    "50. Subtract the mean of each row of a matrix"
   ]
  },
  {
   "cell_type": "code",
   "execution_count": 75,
   "id": "31d48a0a",
   "metadata": {},
   "outputs": [
    {
     "name": "stdout",
     "output_type": "stream",
     "text": [
      "X:\n",
      " [[0 2 4 4]\n",
      " [1 2 2 2]\n",
      " [2 4 1 1]\n",
      " [1 0 4 1]]\n",
      "Row-wise Means: [2.5  1.75 2.   1.5 ]\n",
      "Column-wise Means: [1.   2.   2.75 2.  ]\n",
      "Y:\n",
      " [[-2.5  -0.5   1.5   1.5 ]\n",
      " [-0.75  0.25  0.25  0.25]\n",
      " [ 0.    2.   -1.   -1.  ]\n",
      " [-0.5  -1.5   2.5  -0.5 ]]\n",
      "Y2:\n",
      " [[-1.    0.    1.25  2.  ]\n",
      " [ 0.    0.   -0.75  0.  ]\n",
      " [ 1.    2.   -1.75 -1.  ]\n",
      " [ 0.   -2.    1.25 -1.  ]]\n"
     ]
    }
   ],
   "source": [
    "x = np.random.randint(0,5,(4,4))\n",
    "y = x-x.mean(axis=1,keepdims=True)\n",
    "y1 = x-x.mean(axis=1).reshape(-1,1)\n",
    "y2 = x-x.mean(axis=0)\n",
    "\n",
    "print(\"X:\\n\",x)\n",
    "\n",
    "mean_rows = x.mean(axis=1)\n",
    "print(\"Row-wise Means:\", mean_rows)\n",
    "\n",
    "mean_cols = x.mean(axis=0)\n",
    "print(\"Column-wise Means:\", mean_cols)\n",
    "\n",
    "print(\"Y:\\n\",y)\n",
    "print(\"Y2:\\n\",y2)\n"
   ]
  },
  {
   "cell_type": "markdown",
   "id": "e1dc8ee8",
   "metadata": {},
   "source": [
    "51. How to I sort an array by the nth column?"
   ]
  },
  {
   "cell_type": "code",
   "execution_count": 85,
   "id": "4093f8b6",
   "metadata": {},
   "outputs": [
    {
     "name": "stdout",
     "output_type": "stream",
     "text": [
      "[[8 3 2]\n",
      " [7 3 4]\n",
      " [6 0 9]]\n",
      "[[6 0 9]\n",
      " [8 3 2]\n",
      " [7 3 4]]\n"
     ]
    }
   ],
   "source": [
    "arr = np.random.randint(0,10,(3,3))\n",
    "print(arr)\n",
    "print(arr[arr[:,1].argsort()])"
   ]
  },
  {
   "cell_type": "markdown",
   "id": "1ed1b504",
   "metadata": {},
   "source": [
    "52. How to tell if a given 2D array has null columns?"
   ]
  },
  {
   "cell_type": "code",
   "execution_count": 89,
   "id": "97f9cc36",
   "metadata": {},
   "outputs": [
    {
     "name": "stdout",
     "output_type": "stream",
     "text": [
      "[0.27345409 0.53236735 0.77536186 0.179026   0.07025607 0.22767193\n",
      " 0.24992756 0.66741851 0.97019146 0.36777245]\n",
      "False\n"
     ]
    }
   ],
   "source": [
    "arr = np.random.uniform(0,1,10)\n",
    "print(arr)\n",
    "print((~arr.any(axis=0)).any())\n"
   ]
  },
  {
   "cell_type": "markdown",
   "id": "d077c79c",
   "metadata": {},
   "source": [
    "53. Find the nearest value from a given value in an array"
   ]
  },
  {
   "cell_type": "code",
   "execution_count": 93,
   "id": "dfc73ed3",
   "metadata": {},
   "outputs": [
    {
     "name": "stdout",
     "output_type": "stream",
     "text": [
      "Array:\n",
      " [0.08383244 0.0046951  0.56160669 0.44379488 0.07595064]\n",
      "Z:\n",
      " 0.5\n",
      "M:\n",
      " 0.44379488285994995\n"
     ]
    }
   ],
   "source": [
    "arr = np.random.uniform(0,1,5)\n",
    "z = 0.5\n",
    "m = arr.flat[np.abs(arr-z).argmin()]\n",
    "print(\"Array:\\n\",arr)\n",
    "print(\"Z:\\n\",z)\n",
    "print(\"M:\\n\",m)"
   ]
  },
  {
   "cell_type": "markdown",
   "id": "44b8a358",
   "metadata": {},
   "source": [
    "54. Create an array class that has a name attribute"
   ]
  },
  {
   "cell_type": "code",
   "execution_count": 94,
   "id": "d40ad503",
   "metadata": {},
   "outputs": [
    {
     "name": "stdout",
     "output_type": "stream",
     "text": [
      "Name: MyMatrix\n",
      "Array:\n",
      " [[1 2]\n",
      " [3 4]]\n"
     ]
    }
   ],
   "source": [
    "class NamedArray(np.ndarray):\n",
    "    def __new__(cls, input_array, name=\"\"):\n",
    "        obj = np.asarray(input_array).view(cls)\n",
    "        obj.name = name\n",
    "        return obj\n",
    "    \n",
    "    def __array_finalize__(self,obj):\n",
    "        if obj is None: return\n",
    "        self.name = getattr(obj, \"name\", \"\")\n",
    "\n",
    "arr = NamedArray([[1,2],[3,4]], name = \"MyMatrix\")\n",
    "print(\"Name:\", arr.name)\n",
    "print(\"Array:\\n\", arr)        "
   ]
  },
  {
   "cell_type": "markdown",
   "id": "95c1faa8",
   "metadata": {},
   "source": [
    "55. Consider a given vector, how to add 1 to each element indexed by a second\n",
    "vector (be careful with repeated indices)?"
   ]
  },
  {
   "cell_type": "code",
   "execution_count": 98,
   "id": "e8eac79e",
   "metadata": {},
   "outputs": [
    {
     "name": "stdout",
     "output_type": "stream",
     "text": [
      "Array:\n",
      " [1. 1. 1. 1. 1. 1. 1. 1. 1. 1.]\n",
      "I:\n",
      " [0 0 0 1 3 9 9 9 0 6 2 5 4 0 0 6 2 3 5 0]\n",
      "Z:\n",
      " [9.5 5.5 5.5 7.5 5.5 6.5 9.5 2.5 3.5 9.5]\n"
     ]
    }
   ],
   "source": [
    "arr = np.ones(10)\n",
    "I = np.random.randint(0,len(arr),20)\n",
    "z += np.bincount(I,minlength=len(arr))\n",
    "print(\"Array:\\n\",arr)\n",
    "print(\"I:\\n\",I)\n",
    "print(\"Z:\\n\",z)"
   ]
  },
  {
   "cell_type": "markdown",
   "id": "585c2963",
   "metadata": {},
   "source": [
    "56. How to accumulate elements of a vector (X) to an array (F) based on an index list\n",
    "(I)?"
   ]
  },
  {
   "cell_type": "code",
   "execution_count": null,
   "id": "6e1d861f",
   "metadata": {},
   "outputs": [
    {
     "name": "stdout",
     "output_type": "stream",
     "text": [
      "[0. 7. 0. 6. 5. 0. 0. 0. 0. 3.]\n"
     ]
    }
   ],
   "source": [
    "X = [1,2,3,4,5,6]  #weights\n",
    "I = [1,3,9,3,4,1]  #bins\n",
    "F = np.bincount(I,X)  #Weighted bin count\n",
    "print(F)"
   ]
  },
  {
   "cell_type": "markdown",
   "id": "d2fc74a7",
   "metadata": {},
   "source": [
    "57. Considering a (w,h,3) image of (dtype=ubyte), compute the number of unique\n",
    "colors"
   ]
  },
  {
   "cell_type": "code",
   "execution_count": 125,
   "id": "deff21de",
   "metadata": {},
   "outputs": [
    {
     "name": "stdout",
     "output_type": "stream",
     "text": [
      "Unique RGB values in flat form (0–1): [0 1]\n",
      "Unique encoded RGB colors: [    0     1   256   257 65536 65537 65792 65793]\n",
      "Number of unique RGB colors: 8\n"
     ]
    }
   ],
   "source": [
    "w, h = 16, 16\n",
    "I = np.random.randint(0, 2, (h, w, 3)).astype(np.uint8)\n",
    "I_int = I.astype(np.int32)\n",
    "F = I_int[..., 0]*256*256 + I_int[..., 1]*256 + I_int[..., 2]\n",
    "n = len(np.unique(F))\n",
    "\n",
    "print(\"Unique RGB values in flat form (0–1):\", np.unique(I))\n",
    "print(\"Unique encoded RGB colors:\", np.unique(F))\n",
    "print(\"Number of unique RGB colors:\", n)\n"
   ]
  },
  {
   "cell_type": "markdown",
   "id": "4b35489d",
   "metadata": {},
   "source": [
    "58. Considering a four dimensions array, how to get sum over the last two axis at\n",
    "once?"
   ]
  },
  {
   "cell_type": "code",
   "execution_count": 126,
   "id": "fb8d79bc",
   "metadata": {},
   "outputs": [
    {
     "name": "stdout",
     "output_type": "stream",
     "text": [
      "A:\n",
      " [[[[7 7 6 1]\n",
      "   [2 7 7 4]\n",
      "   [4 5 0 4]]\n",
      "\n",
      "  [[7 0 2 3]\n",
      "   [5 9 0 3]\n",
      "   [4 2 8 4]]\n",
      "\n",
      "  [[1 5 2 4]\n",
      "   [7 3 8 1]\n",
      "   [6 0 3 8]]\n",
      "\n",
      "  [[4 2 5 5]\n",
      "   [6 6 6 0]\n",
      "   [2 2 2 3]]]\n",
      "\n",
      "\n",
      " [[[7 5 4 2]\n",
      "   [8 9 7 3]\n",
      "   [5 5 0 2]]\n",
      "\n",
      "  [[0 1 6 5]\n",
      "   [4 7 4 8]\n",
      "   [1 2 7 7]]\n",
      "\n",
      "  [[5 9 8 2]\n",
      "   [0 0 1 7]\n",
      "   [8 9 7 0]]\n",
      "\n",
      "  [[2 8 8 5]\n",
      "   [0 0 9 9]\n",
      "   [0 1 8 3]]]\n",
      "\n",
      "\n",
      " [[[7 1 4 6]\n",
      "   [6 1 8 0]\n",
      "   [2 7 4 4]]\n",
      "\n",
      "  [[5 5 0 3]\n",
      "   [9 6 8 4]\n",
      "   [7 7 1 5]]\n",
      "\n",
      "  [[2 3 2 7]\n",
      "   [8 5 8 4]\n",
      "   [2 9 2 1]]\n",
      "\n",
      "  [[2 3 4 1]\n",
      "   [7 0 7 7]\n",
      "   [5 2 7 7]]]]\n",
      "Sum:\n",
      " [[54 47 48 43]\n",
      " [57 52 56 53]\n",
      " [50 60 53 52]]\n"
     ]
    }
   ],
   "source": [
    "A = np.random.randint(0,10,(3,4,3,4))\n",
    "sum=A.reshape(A.shape[:-2]+(-1,)).sum(axis=-1)\n",
    "print(\"A:\\n\",A)\n",
    "print(\"Sum:\\n\",sum)"
   ]
  },
  {
   "cell_type": "markdown",
   "id": "fa514583",
   "metadata": {},
   "source": [
    "59. Considering a onedimensional\n",
    "vector D, how to compute means of subsets of D\n",
    "using a vector S of same size describing subset indices?"
   ]
  },
  {
   "cell_type": "code",
   "execution_count": 129,
   "id": "695e52e0",
   "metadata": {},
   "outputs": [
    {
     "name": "stdout",
     "output_type": "stream",
     "text": [
      "D:\n",
      " [0.98232837 0.40726456 0.9986123  0.04703356 0.46633241 0.20580505\n",
      " 0.14032466 0.38771251 0.11639888 0.70212417 0.80685927 0.15218137\n",
      " 0.7068091  0.25168762 0.44471379 0.87112042 0.18393875 0.33992159\n",
      " 0.68522689 0.41027857 0.85336319 0.65593169 0.05061414 0.29881284\n",
      " 0.32156663 0.59533039 0.99423282 0.7365331  0.09388115 0.27813921\n",
      " 0.9069626  0.00175261 0.81915459 0.76702006 0.06400898 0.31554351\n",
      " 0.4336176  0.49865615 0.28097552 0.50218487 0.03149467 0.53773595\n",
      " 0.48305632 0.81445291 0.41359968 0.99013713 0.16597298 0.24403751\n",
      " 0.88045447 0.90225874 0.9136274  0.22541011 0.8187035  0.5135427\n",
      " 0.33256216 0.20329558 0.48950971 0.75281541 0.32642466 0.34985478\n",
      " 0.55082865 0.18919238 0.43597205 0.1844727  0.83894089 0.8070115\n",
      " 0.8944966  0.60324126 0.31716892 0.46762274 0.3773337  0.01973425\n",
      " 0.36144393 0.63732936 0.71135907 0.06997041 0.58490386 0.99910649\n",
      " 0.40171674 0.88606717 0.84230188 0.84164008 0.64933659 0.14177002\n",
      " 0.54126763 0.77125576 0.73953524 0.32502225 0.79029755 0.78291656\n",
      " 0.98370975 0.85082504 0.70424304 0.50910659 0.50282904 0.41778397\n",
      " 0.60426648 0.35089319 0.06690271 0.99207016]\n",
      "S:\n",
      " [4 3 0 1 2 3 1 2 4 4 0 1 3 0 1 2 3 4 1 3 3 3 0 3 3 0 1 0 2 4 3 4 2 1 0 0 2\n",
      " 2 3 2 1 3 0 4 2 3 0 4 2 0 4 2 4 1 4 1 4 4 1 1 3 4 4 3 0 2 2 1 3 1 0 1 4 1\n",
      " 4 1 0 3 3 0 3 0 3 0 0 0 2 4 3 1 1 1 1 0 0 1 0 1 2 1]\n",
      "D_means (group-wise average of D):\n",
      " [0.54408448 0.48065355 0.54000467 0.54737196 0.48940906]\n"
     ]
    }
   ],
   "source": [
    "# Generate 100 random float values\n",
    "D = np.random.uniform(0, 1, 100)\n",
    "\n",
    "# Randomly assign each value in D to a group [0, 4]\n",
    "S = np.random.randint(0, 5, 100)\n",
    "\n",
    "# Sum values of D per group\n",
    "D_sums = np.bincount(S, weights=D)\n",
    "\n",
    "# Count number of elements per group\n",
    "D_counts = np.bincount(S)\n",
    "\n",
    "# Calculate mean per group\n",
    "D_means = D_sums / D_counts\n",
    "\n",
    "# Print results\n",
    "print(\"D:\\n\", D)\n",
    "print(\"S:\\n\", S)\n",
    "print(\"D_means (group-wise average of D):\\n\", D_means)\n",
    "\n"
   ]
  },
  {
   "cell_type": "markdown",
   "id": "ce514b68",
   "metadata": {},
   "source": [
    "60. How to get the diagonal of a dot product?"
   ]
  },
  {
   "cell_type": "code",
   "execution_count": 142,
   "id": "f773bacb",
   "metadata": {},
   "outputs": [
    {
     "name": "stdout",
     "output_type": "stream",
     "text": [
      "Diagonal (method 1): [22 16 27 11]\n",
      "Diagonal (method 2): [22 16 27 11]\n",
      "Diagonal (method 3): [22 16 27 11]\n"
     ]
    }
   ],
   "source": [
    "A = np.random.randint(0,5,(4,5))\n",
    "B = np.random.randint(0,5,(5,4))\n",
    "\n",
    "diag1 =np.diag(np.dot(A, B))\n",
    "\n",
    "diag2 =np.sum(A * B.T, axis=1)\n",
    "diag3 =np.einsum(\"ij,ji->i\", A, B)\n",
    "\n",
    "print(\"Diagonal (method 1):\", diag1)\n",
    "print(\"Diagonal (method 2):\", diag2)\n",
    "print(\"Diagonal (method 3):\", diag3)\n"
   ]
  },
  {
   "cell_type": "markdown",
   "id": "c4cc242d",
   "metadata": {},
   "source": [
    "61. Consider the vector [1, 2, 3, 4, 5], how to build a new vector with 3 consecutive\n",
    "zeros interleaved between each value?"
   ]
  },
  {
   "cell_type": "code",
   "execution_count": 146,
   "id": "ef67b8ad",
   "metadata": {},
   "outputs": [
    {
     "name": "stdout",
     "output_type": "stream",
     "text": [
      "[1. 0. 0. 0. 2. 0. 0. 0. 3. 0. 0. 0. 4. 0. 0. 0. 5.]\n"
     ]
    }
   ],
   "source": [
    "arr = np.array([1,2,3,4,5])\n",
    "narr=3\n",
    "arr0=np.zeros(len(arr) + (len(arr)-1)*(narr))\n",
    "arr0[::narr+1] = arr\n",
    "\n",
    "print(arr0)"
   ]
  },
  {
   "cell_type": "markdown",
   "id": "a93d2301",
   "metadata": {},
   "source": [
    "62. Consider an array of dimension (5,5,3), how to mulitply it by an array with\n",
    "dimensions (5,5)?"
   ]
  },
  {
   "cell_type": "code",
   "execution_count": 150,
   "id": "8201508f",
   "metadata": {},
   "outputs": [
    {
     "name": "stdout",
     "output_type": "stream",
     "text": [
      "[[[2. 2. 2.]\n",
      "  [2. 2. 2.]\n",
      "  [2. 2. 2.]\n",
      "  [2. 2. 2.]\n",
      "  [2. 2. 2.]]\n",
      "\n",
      " [[2. 2. 2.]\n",
      "  [2. 2. 2.]\n",
      "  [2. 2. 2.]\n",
      "  [2. 2. 2.]\n",
      "  [2. 2. 2.]]\n",
      "\n",
      " [[2. 2. 2.]\n",
      "  [2. 2. 2.]\n",
      "  [2. 2. 2.]\n",
      "  [2. 2. 2.]\n",
      "  [2. 2. 2.]]\n",
      "\n",
      " [[2. 2. 2.]\n",
      "  [2. 2. 2.]\n",
      "  [2. 2. 2.]\n",
      "  [2. 2. 2.]\n",
      "  [2. 2. 2.]]\n",
      "\n",
      " [[2. 2. 2.]\n",
      "  [2. 2. 2.]\n",
      "  [2. 2. 2.]\n",
      "  [2. 2. 2.]\n",
      "  [2. 2. 2.]]]\n"
     ]
    }
   ],
   "source": [
    "A = np.ones((5,5,3))\n",
    "B = 2*np.ones((5,5))\n",
    "print(A* B[:,:,None])"
   ]
  },
  {
   "cell_type": "markdown",
   "id": "3fe8d780",
   "metadata": {},
   "source": [
    "63. How to swap two rows of an array?"
   ]
  },
  {
   "cell_type": "code",
   "execution_count": 155,
   "id": "3d8c1e3c",
   "metadata": {},
   "outputs": [
    {
     "name": "stdout",
     "output_type": "stream",
     "text": [
      "[[ 5  6  7  8  9]\n",
      " [ 0  1  2  3  4]\n",
      " [10 11 12 13 14]\n",
      " [15 16 17 18 19]\n",
      " [20 21 22 23 24]]\n"
     ]
    }
   ],
   "source": [
    "A = np.arange(25).reshape(5,5)\n",
    "A[[0,1]] = A[[1,0]]\n",
    "\n",
    "print(A)\n"
   ]
  },
  {
   "cell_type": "markdown",
   "id": "061a8acd",
   "metadata": {},
   "source": [
    "64. Consider a set of 10 triplets describing 10 triangles (with shared vertices), find\n",
    "the set of unique line segments composing all the triangles"
   ]
  },
  {
   "cell_type": "code",
   "execution_count": 156,
   "id": "b76b31e2",
   "metadata": {},
   "outputs": [
    {
     "name": "stdout",
     "output_type": "stream",
     "text": [
      "[( 0,  4) ( 0, 64) ( 1,  6) ( 1, 19) ( 3, 40) ( 3, 89) ( 4, 25) ( 4, 64)\n",
      " ( 6, 19) (12, 30) (12, 72) (25, 53) (25, 64) (25, 72) (28, 53) (28, 74)\n",
      " (30, 72) (35, 37) (35, 80) (37, 41) (37, 69) (37, 80) (40, 89) (41, 69)\n",
      " (44, 55) (44, 87) (53, 72) (53, 74) (55, 87)]\n"
     ]
    }
   ],
   "source": [
    "faces = np.random.randint(0,100,(10,3))\n",
    "F = np.roll(faces.repeat(2,axis=1),-1,axis=1)\n",
    "F = F.reshape(len(F)*3,2)\n",
    "F = np.sort(F,axis=1)\n",
    "G = F.view( dtype=[(\"p0\",F.dtype),(\"p1\",F.dtype)])\n",
    "G = np.unique(G)\n",
    "print(G)"
   ]
  },
  {
   "cell_type": "markdown",
   "id": "fbc8b5ac",
   "metadata": {},
   "source": [
    "65. Given an array C that is a bincount, how to produce an array A such that\n",
    "np.bincount(A) == C?"
   ]
  },
  {
   "cell_type": "code",
   "execution_count": 160,
   "id": "feb85376",
   "metadata": {},
   "outputs": [
    {
     "name": "stdout",
     "output_type": "stream",
     "text": [
      "C:\n",
      " [0 2 1 1 2 0 1]\n",
      "A:\n",
      " [1 1 2 3 4 4 6]\n"
     ]
    }
   ],
   "source": [
    "C = np.bincount([1,1,2,3,4,4,6])\n",
    "A = np.repeat(np.arange(len(C)),C)\n",
    "print(\"C:\\n\",C)\n",
    "print(\"A:\\n\",A)"
   ]
  },
  {
   "cell_type": "markdown",
   "id": "adbedb35",
   "metadata": {},
   "source": [
    "66. How to compute averages using a sliding window over an array?"
   ]
  },
  {
   "cell_type": "code",
   "execution_count": 161,
   "id": "2fbf679f",
   "metadata": {},
   "outputs": [
    {
     "name": "stdout",
     "output_type": "stream",
     "text": [
      "[ 1.  2.  3.  4.  5.  6.  7.  8.  9. 10. 11. 12. 13. 14. 15. 16. 17. 18.]\n"
     ]
    }
   ],
   "source": [
    "def moving_average(a, n=3):\n",
    "    ret = np.cumsum(a, dtype= float)\n",
    "    ret[n:] = ret[n:] - ret[:-n]\n",
    "    return ret[n - 1:] / n\n",
    "arr = np.arange(20)\n",
    "print(moving_average(arr,n=3))"
   ]
  },
  {
   "cell_type": "markdown",
   "id": "684e0909",
   "metadata": {},
   "source": [
    "67. Consider a onedimensional\n",
    "array Z, build a twodimensional\n",
    "array whose first\n",
    "row is (Z[0],Z[1],Z[2]) and each subsequent row is shifted by 1 (last row should\n",
    "be (Z[3],\n",
    "Z[2],\n",
    "Z[1])"
   ]
  },
  {
   "cell_type": "code",
   "execution_count": 162,
   "id": "72081f85",
   "metadata": {},
   "outputs": [
    {
     "name": "stdout",
     "output_type": "stream",
     "text": [
      "[[0 1 2]\n",
      " [1 2 3]\n",
      " [2 3 4]\n",
      " [3 4 5]\n",
      " [4 5 6]\n",
      " [5 6 7]\n",
      " [6 7 8]\n",
      " [7 8 9]]\n"
     ]
    }
   ],
   "source": [
    "from numpy.lib import stride_tricks\n",
    "\n",
    "def rolling(a, window):\n",
    "    shape = (a.size - window +1, window)\n",
    "    strides = (a.itemsize, a.itemsize)\n",
    "    return stride_tricks.as_strided(a, shape=shape, strides=strides)\n",
    "arr = rolling(np.arange(10),3)\n",
    "print(arr)\n"
   ]
  },
  {
   "cell_type": "markdown",
   "id": "799468c4",
   "metadata": {},
   "source": [
    "68. How to negate a boolean, or to change the sign of a float inplace?"
   ]
  },
  {
   "cell_type": "code",
   "execution_count": 169,
   "id": "c1fa5a30",
   "metadata": {},
   "outputs": [
    {
     "data": {
      "text/plain": [
       "array([ 0.76883221, -0.30130103, -0.5708586 , -0.91575742, -0.10948464,\n",
       "        0.41844669,  0.74659016, -0.6978396 ,  0.01747623,  0.13887109,\n",
       "        0.6834794 ,  0.01195651,  0.92852583, -0.92557333, -0.48893838,\n",
       "       -0.66773376, -0.02686824,  0.5624106 ,  0.09750444,  0.31968026,\n",
       "       -0.07455138, -0.7625564 , -0.0056068 ,  0.08961213,  0.78670076,\n",
       "       -0.33470004,  0.58554807, -0.35778172,  0.17701794,  0.05574903,\n",
       "       -0.13515711,  0.27647588,  0.02675498,  0.67885399,  0.74240792,\n",
       "       -0.43541172,  0.55850433,  0.60565261,  0.7785573 ,  0.10583519,\n",
       "       -0.10351255, -0.09985729,  0.93408398, -0.78659108,  0.62941104,\n",
       "        0.28420483, -0.60845708,  0.91547644,  0.25805343,  0.6673902 ,\n",
       "        0.0049254 ,  0.9858576 ,  0.67135041, -0.64734944, -0.57766169,\n",
       "        0.44650386,  0.19890066,  0.71313525,  0.02426806, -0.72466672,\n",
       "       -0.20998812,  0.28396967, -0.53276603,  0.17467559, -0.59396104,\n",
       "        0.6975412 , -0.16288992,  0.34857593,  0.61887401, -0.46922675,\n",
       "        0.15869051,  0.91902029,  0.33288446, -0.53042112,  0.68246895,\n",
       "        0.65223411,  0.87376559,  0.31794117, -0.92422626,  0.44515705,\n",
       "       -0.94110363,  0.78977285, -0.79539985, -0.50941978, -0.62568718,\n",
       "        0.85522731,  0.01626909, -0.90363968,  0.78611083,  0.91088905,\n",
       "       -0.21666258,  0.68714416, -0.79201543,  0.92290648,  0.18895548,\n",
       "       -0.91014084, -0.95697463,  0.11296158, -0.16855073,  0.9356099 ])"
      ]
     },
     "execution_count": 169,
     "metadata": {},
     "output_type": "execute_result"
    }
   ],
   "source": [
    "arr = np.random.randint(0,2,100)\n",
    "np.logical_not(arr,out=arr)\n",
    "\n",
    "arr = np.random.uniform(-1.0,1.0,100)\n",
    "np.negative(arr, out=arr)"
   ]
  },
  {
   "cell_type": "markdown",
   "id": "95c561e8",
   "metadata": {},
   "source": [
    "69. Consider 2 sets of points P0,P1 describing lines (2d) and a point p, how to\n",
    "compute distance from p to each line i (P0[i],P1[i])?"
   ]
  },
  {
   "cell_type": "code",
   "execution_count": 174,
   "id": "dd964a21",
   "metadata": {},
   "outputs": [
    {
     "name": "stdout",
     "output_type": "stream",
     "text": [
      "[ 7.81525247  7.6001059   4.10259148  0.36325204  4.49627626  9.34863617\n",
      " 10.60168366  2.15238491 12.68878542  7.47906005]\n"
     ]
    }
   ],
   "source": [
    "def distance (P0,P1,p):\n",
    "    T = P1 - P0\n",
    "    L = (T**2).sum(axis=1)\n",
    "    U = -((P0[:,0]-p[...,0])*T[:,0] + (P0[:,1]-p[...,1])*T[:,1]) /L\n",
    "    U = U.reshape(len(U),1)\n",
    "    D = P0 + U*T - p\n",
    "    return np.sqrt((D**2).sum(axis=1))\n",
    "\n",
    "P0 = np.random.uniform(-10,10,(10,2))\n",
    "P1 = np.random.uniform(-10,10,(10,2))\n",
    "p  = np.random.uniform(-10,10,(1,2))\n",
    "print(distance(P0, P1 , p))"
   ]
  },
  {
   "cell_type": "markdown",
   "id": "42ccfe78",
   "metadata": {},
   "source": [
    "70. Consider 2 sets of points P0,P1 describing lines (2d) and a set of points P, how\n",
    "to compute distance from each point j (P[j]) to each line i (P0[i],P1[i])?"
   ]
  },
  {
   "cell_type": "code",
   "execution_count": 4,
   "id": "d6025567",
   "metadata": {},
   "outputs": [
    {
     "name": "stdout",
     "output_type": "stream",
     "text": [
      "[[ 3.72462775  0.06435809  5.20392539  3.73560857 10.5079976   1.5736972\n",
      "   4.28142777  2.0338995   3.75502494  6.56609707]\n",
      " [ 0.29557036 10.87203565 14.97933915  3.50417254  4.67740116  3.42815109\n",
      "   2.2565776  12.82242029  2.44454992  3.88240376]\n",
      " [ 2.6125734   2.31277699  1.47686655  6.39842278 11.15263625  4.87647104\n",
      "   7.76410608  1.29968807  7.48024505 10.03447589]\n",
      " [ 4.5664569   6.64732823 13.21970498  0.16025299  8.73627267  4.75436602\n",
      "   2.26798179  9.89888352  3.55437231  2.51180697]\n",
      " [ 8.19379724 17.13550478 19.57892069 11.30687989  6.40719362  9.20070509\n",
      "  10.45873785 16.39514926  5.51285216 10.5310321 ]\n",
      " [ 2.33963104  0.21588403  4.12360683  5.2908105   9.60759399  3.06160097\n",
      "   4.95204146  1.5457853   4.93594666  7.19268444]\n",
      " [ 4.18060061 13.08609222 15.92034433  7.28492618  2.7547519   4.73256217\n",
      "   6.14071857 13.55930353  0.98411259  6.00233713]\n",
      " [ 6.20638471  8.78430188 11.24749145 11.38365346  0.12607653  6.0204508\n",
      "   9.02948667  7.52024082  6.1540574   7.01127046]\n",
      " [ 2.5506677   4.23696817  0.78256907  8.12060805 12.16833616  6.57374943\n",
      "  10.10098337  3.59541157  9.76154482 12.36953494]\n",
      " [10.28686604  4.34101786 10.86441874  3.85038144 14.90173425  5.87556739\n",
      "   7.39193648  5.79714896  5.63542772  8.034547  ]]\n"
     ]
    }
   ],
   "source": [
    "# Simple distance function: point to segment\n",
    "def distance(P0, P1, p):\n",
    "    distances = []\n",
    "    for i in range(len(P0)):\n",
    "        A = P0[i]\n",
    "        B = P1[i]\n",
    "        P = p\n",
    "\n",
    "        AB = B - A\n",
    "        AP = P - A\n",
    "\n",
    "        # Find t (clamped between 0 and 1)\n",
    "        t = np.dot(AP, AB) / np.dot(AB, AB)\n",
    "        t = np.clip(t, 0, 1)\n",
    "\n",
    "        # Closest point on segment\n",
    "        closest = A + t * AB\n",
    "\n",
    "        # Distance between point and closest point\n",
    "        d = np.linalg.norm(P - closest)\n",
    "        distances.append(d)\n",
    "    return distances\n",
    "\n",
    "# Generate random data\n",
    "P0 = np.random.uniform(-10, 10, (10, 2))\n",
    "P1 = np.random.uniform(-10, 10, (10, 2))\n",
    "p = np.random.uniform(-10, 10, (10, 2))\n",
    "\n",
    "# Calculate distances\n",
    "results = [distance(P0, P1, p_i) for p_i in p]\n",
    "print(np.array(results))\n"
   ]
  },
  {
   "cell_type": "markdown",
   "id": "9dea366a",
   "metadata": {},
   "source": [
    "71. Consider an arbitrary array, write a function that extract a subpart with a fixed\n",
    "shape and centered on a given element (pad with a fill value when necessary)"
   ]
  },
  {
   "cell_type": "code",
   "execution_count": 8,
   "id": "5d916ec8",
   "metadata": {},
   "outputs": [
    {
     "name": "stdout",
     "output_type": "stream",
     "text": [
      "[[ 0  1  2  3  4]\n",
      " [ 5  6  7  8  9]\n",
      " [10 11 12 13 14]\n",
      " [15 16 17 18 19]\n",
      " [20 21 22 23 24]]\n",
      "\n",
      "Extracted Subarray:\n",
      "[[-1 -1 -1]\n",
      " [-1  0  1]\n",
      " [-1  5  6]]\n"
     ]
    }
   ],
   "source": [
    "def extract_centered_subarray(arr, center, shape, fill_value=0):\n",
    "    arr = np.asarray(arr)\n",
    "    out = np.full(shape, fill_value, dtype=arr.dtype)\n",
    "\n",
    "    center = np.array(center)\n",
    "    shape = np.array(shape)\n",
    "    \n",
    "    start = center - shape // 2\n",
    "    end = start + shape\n",
    "\n",
    "    arr_start = np.maximum(start, 0)\n",
    "    arr_end = np.minimum(end, arr.shape)\n",
    "    \n",
    "    out_start = arr_start - start\n",
    "    out_end = out_start + (arr_end - arr_start)\n",
    "\n",
    "    out[out_start[0]:out_end[0], out_start[1]:out_end[1]] = \\\n",
    "        arr[arr_start[0]:arr_end[0], arr_start[1]:arr_end[1]]\n",
    "\n",
    "    return out\n",
    "\n",
    "arr = np.arange(25).reshape(5, 5)\n",
    "print(arr)\n",
    "\n",
    "center = (0, 0)\n",
    "shape = (3, 3)\n",
    "result = extract_centered_subarray(arr, center, shape, fill_value=-1)\n",
    "\n",
    "print(\"\\nExtracted Subarray:\")\n",
    "print(result)\n",
    "\n",
    "\n"
   ]
  },
  {
   "cell_type": "markdown",
   "id": "f2465e58",
   "metadata": {},
   "source": [
    "72. Consider an array Z = [1,2,3,4,5,6,7,8,9,10,11,12,13,14], how to generate an\n",
    "array R = [[1,2,3,4], [2,3,4,5], [3,4,5,6], ..., [11,12,13,14]]?"
   ]
  },
  {
   "cell_type": "code",
   "execution_count": 13,
   "id": "9474251b",
   "metadata": {},
   "outputs": [
    {
     "name": "stdout",
     "output_type": "stream",
     "text": [
      "[ 1  2  3  4  5  6  7  8  9 10 11 12 13 14]\n",
      "[[ 1  2  3  4]\n",
      " [ 2  3  4  5]\n",
      " [ 3  4  5  6]\n",
      " [ 4  5  6  7]\n",
      " [ 5  6  7  8]\n",
      " [ 6  7  8  9]\n",
      " [ 7  8  9 10]\n",
      " [ 8  9 10 11]\n",
      " [ 9 10 11 12]\n",
      " [10 11 12 13]\n",
      " [11 12 13 14]]\n"
     ]
    }
   ],
   "source": [
    "import numpy as np\n",
    "from numpy.lib import stride_tricks\n",
    "\n",
    "arr = np.arange(1, 15, dtype=np.uint32)\n",
    "R = stride_tricks.as_strided(arr, shape=(11, 4), strides=(4, 4))\n",
    "\n",
    "print(arr)\n",
    "\n",
    "print(R)\n"
   ]
  },
  {
   "cell_type": "markdown",
   "id": "de38e60b",
   "metadata": {},
   "source": [
    "73. Compute a matrix rank"
   ]
  },
  {
   "cell_type": "code",
   "execution_count": 29,
   "id": "84d04282",
   "metadata": {},
   "outputs": [
    {
     "name": "stdout",
     "output_type": "stream",
     "text": [
      "[[1 2 3 0 2 2 2 0 1 3]\n",
      " [0 3 0 3 3 1 2 3 3 2]\n",
      " [0 1 0 2 2 0 3 1 1 3]\n",
      " [0 3 2 0 2 2 2 3 1 3]\n",
      " [1 2 0 1 2 0 1 1 3 2]\n",
      " [2 0 3 2 2 0 3 0 0 3]\n",
      " [1 2 2 1 0 1 1 0 3 0]\n",
      " [0 2 0 2 2 2 2 1 1 3]\n",
      " [0 2 3 2 1 1 0 1 0 1]\n",
      " [2 0 2 3 2 3 1 1 1 0]]\n",
      "Singular values: [15.45135547  5.53404605  4.71239918  4.20501126  3.46721122  2.46751642\n",
      "  1.8022874   1.42694324  0.56906125  0.15064616]\n",
      "Rank of matrix: 10\n"
     ]
    }
   ],
   "source": [
    "# Create a 10x10 random integer matrix (values between 0 and 10)\n",
    "arr = np.random.randint(0, 4, (10, 10))\n",
    "\n",
    "# Perform SVD\n",
    "U, S, V = np.linalg.svd(arr)\n",
    "\n",
    "# Compute numerical rank (based on tolerance)\n",
    "rank = np.sum(S > 1e-10)\n",
    "print(arr)\n",
    "print(\"Singular values:\", S)\n",
    "print(\"Rank of matrix:\", rank)\n"
   ]
  },
  {
   "cell_type": "markdown",
   "id": "1a902d27",
   "metadata": {},
   "source": [
    "74. How to find the most frequent value in an array?"
   ]
  },
  {
   "cell_type": "code",
   "execution_count": 45,
   "id": "3480bfd3",
   "metadata": {},
   "outputs": [
    {
     "name": "stdout",
     "output_type": "stream",
     "text": [
      "[5 7 8 6 7 8 1 0 1 1 7 7 0 8 1 3 2 6 0 5 9 3 5 9 6 5 0 4 1 7 1 8 2 3 8 9 8\n",
      " 9 9 1 5 2 4 6 0 2 3 9 3 8]\n",
      "1\n"
     ]
    }
   ],
   "source": [
    "arr = np.random.randint(0,10,50)\n",
    "print(arr)\n",
    "print(np.bincount(arr).argmax())\n",
    "\n"
   ]
  },
  {
   "cell_type": "markdown",
   "id": "b8c1ef15",
   "metadata": {},
   "source": [
    "75. Extract all the contiguous 3x3 blocks from a random 10x10 matrix"
   ]
  },
  {
   "cell_type": "code",
   "execution_count": 48,
   "id": "c8e82768",
   "metadata": {},
   "outputs": [
    {
     "name": "stdout",
     "output_type": "stream",
     "text": [
      "[[2 4 3 2 1 3 4 0 4 3]\n",
      " [4 2 3 3 0 2 1 3 2 3]\n",
      " [1 1 1 4 4 1 4 2 1 2]\n",
      " [4 1 4 2 1 3 4 2 2 2]\n",
      " [1 1 4 2 0 1 2 3 4 3]\n",
      " [4 3 3 0 1 3 4 1 2 4]\n",
      " [0 1 0 4 4 0 4 4 2 0]\n",
      " [0 4 0 0 1 3 2 3 4 1]\n",
      " [4 4 0 0 3 0 3 0 4 1]\n",
      " [3 3 1 3 2 3 2 3 3 3]]\n",
      "C:\n",
      " [[[[2 4 3]\n",
      "   [4 2 3]\n",
      "   [1 1 1]]\n",
      "\n",
      "  [[4 3 2]\n",
      "   [2 3 3]\n",
      "   [1 1 4]]\n",
      "\n",
      "  [[3 2 1]\n",
      "   [3 3 0]\n",
      "   [1 4 4]]\n",
      "\n",
      "  [[2 1 3]\n",
      "   [3 0 2]\n",
      "   [4 4 1]]\n",
      "\n",
      "  [[1 3 4]\n",
      "   [0 2 1]\n",
      "   [4 1 4]]\n",
      "\n",
      "  [[3 4 0]\n",
      "   [2 1 3]\n",
      "   [1 4 2]]\n",
      "\n",
      "  [[4 0 4]\n",
      "   [1 3 2]\n",
      "   [4 2 1]]\n",
      "\n",
      "  [[0 4 3]\n",
      "   [3 2 3]\n",
      "   [2 1 2]]]\n",
      "\n",
      "\n",
      " [[[4 2 3]\n",
      "   [1 1 1]\n",
      "   [4 1 4]]\n",
      "\n",
      "  [[2 3 3]\n",
      "   [1 1 4]\n",
      "   [1 4 2]]\n",
      "\n",
      "  [[3 3 0]\n",
      "   [1 4 4]\n",
      "   [4 2 1]]\n",
      "\n",
      "  [[3 0 2]\n",
      "   [4 4 1]\n",
      "   [2 1 3]]\n",
      "\n",
      "  [[0 2 1]\n",
      "   [4 1 4]\n",
      "   [1 3 4]]\n",
      "\n",
      "  [[2 1 3]\n",
      "   [1 4 2]\n",
      "   [3 4 2]]\n",
      "\n",
      "  [[1 3 2]\n",
      "   [4 2 1]\n",
      "   [4 2 2]]\n",
      "\n",
      "  [[3 2 3]\n",
      "   [2 1 2]\n",
      "   [2 2 2]]]\n",
      "\n",
      "\n",
      " [[[1 1 1]\n",
      "   [4 1 4]\n",
      "   [1 1 4]]\n",
      "\n",
      "  [[1 1 4]\n",
      "   [1 4 2]\n",
      "   [1 4 2]]\n",
      "\n",
      "  [[1 4 4]\n",
      "   [4 2 1]\n",
      "   [4 2 0]]\n",
      "\n",
      "  [[4 4 1]\n",
      "   [2 1 3]\n",
      "   [2 0 1]]\n",
      "\n",
      "  [[4 1 4]\n",
      "   [1 3 4]\n",
      "   [0 1 2]]\n",
      "\n",
      "  [[1 4 2]\n",
      "   [3 4 2]\n",
      "   [1 2 3]]\n",
      "\n",
      "  [[4 2 1]\n",
      "   [4 2 2]\n",
      "   [2 3 4]]\n",
      "\n",
      "  [[2 1 2]\n",
      "   [2 2 2]\n",
      "   [3 4 3]]]\n",
      "\n",
      "\n",
      " [[[4 1 4]\n",
      "   [1 1 4]\n",
      "   [4 3 3]]\n",
      "\n",
      "  [[1 4 2]\n",
      "   [1 4 2]\n",
      "   [3 3 0]]\n",
      "\n",
      "  [[4 2 1]\n",
      "   [4 2 0]\n",
      "   [3 0 1]]\n",
      "\n",
      "  [[2 1 3]\n",
      "   [2 0 1]\n",
      "   [0 1 3]]\n",
      "\n",
      "  [[1 3 4]\n",
      "   [0 1 2]\n",
      "   [1 3 4]]\n",
      "\n",
      "  [[3 4 2]\n",
      "   [1 2 3]\n",
      "   [3 4 1]]\n",
      "\n",
      "  [[4 2 2]\n",
      "   [2 3 4]\n",
      "   [4 1 2]]\n",
      "\n",
      "  [[2 2 2]\n",
      "   [3 4 3]\n",
      "   [1 2 4]]]\n",
      "\n",
      "\n",
      " [[[1 1 4]\n",
      "   [4 3 3]\n",
      "   [0 1 0]]\n",
      "\n",
      "  [[1 4 2]\n",
      "   [3 3 0]\n",
      "   [1 0 4]]\n",
      "\n",
      "  [[4 2 0]\n",
      "   [3 0 1]\n",
      "   [0 4 4]]\n",
      "\n",
      "  [[2 0 1]\n",
      "   [0 1 3]\n",
      "   [4 4 0]]\n",
      "\n",
      "  [[0 1 2]\n",
      "   [1 3 4]\n",
      "   [4 0 4]]\n",
      "\n",
      "  [[1 2 3]\n",
      "   [3 4 1]\n",
      "   [0 4 4]]\n",
      "\n",
      "  [[2 3 4]\n",
      "   [4 1 2]\n",
      "   [4 4 2]]\n",
      "\n",
      "  [[3 4 3]\n",
      "   [1 2 4]\n",
      "   [4 2 0]]]\n",
      "\n",
      "\n",
      " [[[4 3 3]\n",
      "   [0 1 0]\n",
      "   [0 4 0]]\n",
      "\n",
      "  [[3 3 0]\n",
      "   [1 0 4]\n",
      "   [4 0 0]]\n",
      "\n",
      "  [[3 0 1]\n",
      "   [0 4 4]\n",
      "   [0 0 1]]\n",
      "\n",
      "  [[0 1 3]\n",
      "   [4 4 0]\n",
      "   [0 1 3]]\n",
      "\n",
      "  [[1 3 4]\n",
      "   [4 0 4]\n",
      "   [1 3 2]]\n",
      "\n",
      "  [[3 4 1]\n",
      "   [0 4 4]\n",
      "   [3 2 3]]\n",
      "\n",
      "  [[4 1 2]\n",
      "   [4 4 2]\n",
      "   [2 3 4]]\n",
      "\n",
      "  [[1 2 4]\n",
      "   [4 2 0]\n",
      "   [3 4 1]]]\n",
      "\n",
      "\n",
      " [[[0 1 0]\n",
      "   [0 4 0]\n",
      "   [4 4 0]]\n",
      "\n",
      "  [[1 0 4]\n",
      "   [4 0 0]\n",
      "   [4 0 0]]\n",
      "\n",
      "  [[0 4 4]\n",
      "   [0 0 1]\n",
      "   [0 0 3]]\n",
      "\n",
      "  [[4 4 0]\n",
      "   [0 1 3]\n",
      "   [0 3 0]]\n",
      "\n",
      "  [[4 0 4]\n",
      "   [1 3 2]\n",
      "   [3 0 3]]\n",
      "\n",
      "  [[0 4 4]\n",
      "   [3 2 3]\n",
      "   [0 3 0]]\n",
      "\n",
      "  [[4 4 2]\n",
      "   [2 3 4]\n",
      "   [3 0 4]]\n",
      "\n",
      "  [[4 2 0]\n",
      "   [3 4 1]\n",
      "   [0 4 1]]]\n",
      "\n",
      "\n",
      " [[[0 4 0]\n",
      "   [4 4 0]\n",
      "   [3 3 1]]\n",
      "\n",
      "  [[4 0 0]\n",
      "   [4 0 0]\n",
      "   [3 1 3]]\n",
      "\n",
      "  [[0 0 1]\n",
      "   [0 0 3]\n",
      "   [1 3 2]]\n",
      "\n",
      "  [[0 1 3]\n",
      "   [0 3 0]\n",
      "   [3 2 3]]\n",
      "\n",
      "  [[1 3 2]\n",
      "   [3 0 3]\n",
      "   [2 3 2]]\n",
      "\n",
      "  [[3 2 3]\n",
      "   [0 3 0]\n",
      "   [3 2 3]]\n",
      "\n",
      "  [[2 3 4]\n",
      "   [3 0 4]\n",
      "   [2 3 3]]\n",
      "\n",
      "  [[3 4 1]\n",
      "   [0 4 1]\n",
      "   [3 3 3]]]]\n"
     ]
    }
   ],
   "source": [
    "arr = np.random.randint(0,5,(10,10))\n",
    "print(arr)\n",
    "n = 3 \n",
    "i = 1 + (arr.shape[0]-3)\n",
    "j = 1 + (arr.shape[1]-3)\n",
    "C = stride_tricks.as_strided(arr, shape=(i,j,n,n), strides=arr.strides + arr.strides)\n",
    "print(\"C:\\n\",C)"
   ]
  },
  {
   "cell_type": "markdown",
   "id": "c71ba61e",
   "metadata": {},
   "source": [
    "76. Create a 2D array subclass such that Z[i,j] == Z[j,i]"
   ]
  },
  {
   "cell_type": "code",
   "execution_count": 54,
   "id": "ecd90cf0",
   "metadata": {},
   "outputs": [
    {
     "name": "stdout",
     "output_type": "stream",
     "text": [
      "[[ 0 14 11 11  5]\n",
      " [14  3  6 14  4]\n",
      " [11  6  1 42 13]\n",
      " [11 14 42  9 14]\n",
      " [ 5  4 13 14  7]]\n"
     ]
    }
   ],
   "source": [
    "class Symmetric(np.ndarray):\n",
    "    def __setitem__(self, key, value):\n",
    "        i, j = key\n",
    "        super(Symmetric, self).__setitem__((i, j), value)\n",
    "        super(Symmetric, self).__setitem__((j, i), value)\n",
    "\n",
    "def symmetric(arr):\n",
    "    arr = np.asarray(arr + arr.T - np.diag(arr.diagonal()))\n",
    "    return arr.view(Symmetric)\n",
    "\n",
    "# Create a symmetric matrix\n",
    "S = symmetric(np.random.randint(0, 10, (5, 5)))\n",
    "\n",
    "# Set one value — will auto-update the symmetric position\n",
    "S[2, 3] = 42\n",
    "\n",
    "print(S)\n",
    "   "
   ]
  },
  {
   "cell_type": "markdown",
   "id": "5b6a1c33",
   "metadata": {},
   "source": [
    "77. Consider a set of p matrices wich shape (n,n) and a set of p vectors with shape\n",
    "(n,1). How to compute the sum of of the p matrix products at once? (result has\n",
    "shape (n,1))"
   ]
  },
  {
   "cell_type": "code",
   "execution_count": 58,
   "id": "45627901",
   "metadata": {},
   "outputs": [
    {
     "name": "stdout",
     "output_type": "stream",
     "text": [
      "[[[1. 1. 1. ... 1. 1. 1.]\n",
      "  [1. 1. 1. ... 1. 1. 1.]\n",
      "  [1. 1. 1. ... 1. 1. 1.]\n",
      "  ...\n",
      "  [1. 1. 1. ... 1. 1. 1.]\n",
      "  [1. 1. 1. ... 1. 1. 1.]\n",
      "  [1. 1. 1. ... 1. 1. 1.]]\n",
      "\n",
      " [[1. 1. 1. ... 1. 1. 1.]\n",
      "  [1. 1. 1. ... 1. 1. 1.]\n",
      "  [1. 1. 1. ... 1. 1. 1.]\n",
      "  ...\n",
      "  [1. 1. 1. ... 1. 1. 1.]\n",
      "  [1. 1. 1. ... 1. 1. 1.]\n",
      "  [1. 1. 1. ... 1. 1. 1.]]\n",
      "\n",
      " [[1. 1. 1. ... 1. 1. 1.]\n",
      "  [1. 1. 1. ... 1. 1. 1.]\n",
      "  [1. 1. 1. ... 1. 1. 1.]\n",
      "  ...\n",
      "  [1. 1. 1. ... 1. 1. 1.]\n",
      "  [1. 1. 1. ... 1. 1. 1.]\n",
      "  [1. 1. 1. ... 1. 1. 1.]]\n",
      "\n",
      " ...\n",
      "\n",
      " [[1. 1. 1. ... 1. 1. 1.]\n",
      "  [1. 1. 1. ... 1. 1. 1.]\n",
      "  [1. 1. 1. ... 1. 1. 1.]\n",
      "  ...\n",
      "  [1. 1. 1. ... 1. 1. 1.]\n",
      "  [1. 1. 1. ... 1. 1. 1.]\n",
      "  [1. 1. 1. ... 1. 1. 1.]]\n",
      "\n",
      " [[1. 1. 1. ... 1. 1. 1.]\n",
      "  [1. 1. 1. ... 1. 1. 1.]\n",
      "  [1. 1. 1. ... 1. 1. 1.]\n",
      "  ...\n",
      "  [1. 1. 1. ... 1. 1. 1.]\n",
      "  [1. 1. 1. ... 1. 1. 1.]\n",
      "  [1. 1. 1. ... 1. 1. 1.]]\n",
      "\n",
      " [[1. 1. 1. ... 1. 1. 1.]\n",
      "  [1. 1. 1. ... 1. 1. 1.]\n",
      "  [1. 1. 1. ... 1. 1. 1.]\n",
      "  ...\n",
      "  [1. 1. 1. ... 1. 1. 1.]\n",
      "  [1. 1. 1. ... 1. 1. 1.]\n",
      "  [1. 1. 1. ... 1. 1. 1.]]]\n",
      "[[[1.]\n",
      "  [1.]\n",
      "  [1.]\n",
      "  [1.]\n",
      "  [1.]\n",
      "  [1.]\n",
      "  [1.]\n",
      "  [1.]\n",
      "  [1.]\n",
      "  [1.]\n",
      "  [1.]\n",
      "  [1.]\n",
      "  [1.]\n",
      "  [1.]\n",
      "  [1.]\n",
      "  [1.]\n",
      "  [1.]\n",
      "  [1.]\n",
      "  [1.]\n",
      "  [1.]]\n",
      "\n",
      " [[1.]\n",
      "  [1.]\n",
      "  [1.]\n",
      "  [1.]\n",
      "  [1.]\n",
      "  [1.]\n",
      "  [1.]\n",
      "  [1.]\n",
      "  [1.]\n",
      "  [1.]\n",
      "  [1.]\n",
      "  [1.]\n",
      "  [1.]\n",
      "  [1.]\n",
      "  [1.]\n",
      "  [1.]\n",
      "  [1.]\n",
      "  [1.]\n",
      "  [1.]\n",
      "  [1.]]\n",
      "\n",
      " [[1.]\n",
      "  [1.]\n",
      "  [1.]\n",
      "  [1.]\n",
      "  [1.]\n",
      "  [1.]\n",
      "  [1.]\n",
      "  [1.]\n",
      "  [1.]\n",
      "  [1.]\n",
      "  [1.]\n",
      "  [1.]\n",
      "  [1.]\n",
      "  [1.]\n",
      "  [1.]\n",
      "  [1.]\n",
      "  [1.]\n",
      "  [1.]\n",
      "  [1.]\n",
      "  [1.]]\n",
      "\n",
      " [[1.]\n",
      "  [1.]\n",
      "  [1.]\n",
      "  [1.]\n",
      "  [1.]\n",
      "  [1.]\n",
      "  [1.]\n",
      "  [1.]\n",
      "  [1.]\n",
      "  [1.]\n",
      "  [1.]\n",
      "  [1.]\n",
      "  [1.]\n",
      "  [1.]\n",
      "  [1.]\n",
      "  [1.]\n",
      "  [1.]\n",
      "  [1.]\n",
      "  [1.]\n",
      "  [1.]]\n",
      "\n",
      " [[1.]\n",
      "  [1.]\n",
      "  [1.]\n",
      "  [1.]\n",
      "  [1.]\n",
      "  [1.]\n",
      "  [1.]\n",
      "  [1.]\n",
      "  [1.]\n",
      "  [1.]\n",
      "  [1.]\n",
      "  [1.]\n",
      "  [1.]\n",
      "  [1.]\n",
      "  [1.]\n",
      "  [1.]\n",
      "  [1.]\n",
      "  [1.]\n",
      "  [1.]\n",
      "  [1.]]\n",
      "\n",
      " [[1.]\n",
      "  [1.]\n",
      "  [1.]\n",
      "  [1.]\n",
      "  [1.]\n",
      "  [1.]\n",
      "  [1.]\n",
      "  [1.]\n",
      "  [1.]\n",
      "  [1.]\n",
      "  [1.]\n",
      "  [1.]\n",
      "  [1.]\n",
      "  [1.]\n",
      "  [1.]\n",
      "  [1.]\n",
      "  [1.]\n",
      "  [1.]\n",
      "  [1.]\n",
      "  [1.]]\n",
      "\n",
      " [[1.]\n",
      "  [1.]\n",
      "  [1.]\n",
      "  [1.]\n",
      "  [1.]\n",
      "  [1.]\n",
      "  [1.]\n",
      "  [1.]\n",
      "  [1.]\n",
      "  [1.]\n",
      "  [1.]\n",
      "  [1.]\n",
      "  [1.]\n",
      "  [1.]\n",
      "  [1.]\n",
      "  [1.]\n",
      "  [1.]\n",
      "  [1.]\n",
      "  [1.]\n",
      "  [1.]]\n",
      "\n",
      " [[1.]\n",
      "  [1.]\n",
      "  [1.]\n",
      "  [1.]\n",
      "  [1.]\n",
      "  [1.]\n",
      "  [1.]\n",
      "  [1.]\n",
      "  [1.]\n",
      "  [1.]\n",
      "  [1.]\n",
      "  [1.]\n",
      "  [1.]\n",
      "  [1.]\n",
      "  [1.]\n",
      "  [1.]\n",
      "  [1.]\n",
      "  [1.]\n",
      "  [1.]\n",
      "  [1.]]\n",
      "\n",
      " [[1.]\n",
      "  [1.]\n",
      "  [1.]\n",
      "  [1.]\n",
      "  [1.]\n",
      "  [1.]\n",
      "  [1.]\n",
      "  [1.]\n",
      "  [1.]\n",
      "  [1.]\n",
      "  [1.]\n",
      "  [1.]\n",
      "  [1.]\n",
      "  [1.]\n",
      "  [1.]\n",
      "  [1.]\n",
      "  [1.]\n",
      "  [1.]\n",
      "  [1.]\n",
      "  [1.]]\n",
      "\n",
      " [[1.]\n",
      "  [1.]\n",
      "  [1.]\n",
      "  [1.]\n",
      "  [1.]\n",
      "  [1.]\n",
      "  [1.]\n",
      "  [1.]\n",
      "  [1.]\n",
      "  [1.]\n",
      "  [1.]\n",
      "  [1.]\n",
      "  [1.]\n",
      "  [1.]\n",
      "  [1.]\n",
      "  [1.]\n",
      "  [1.]\n",
      "  [1.]\n",
      "  [1.]\n",
      "  [1.]]]\n",
      "[[200.]\n",
      " [200.]\n",
      " [200.]\n",
      " [200.]\n",
      " [200.]\n",
      " [200.]\n",
      " [200.]\n",
      " [200.]\n",
      " [200.]\n",
      " [200.]\n",
      " [200.]\n",
      " [200.]\n",
      " [200.]\n",
      " [200.]\n",
      " [200.]\n",
      " [200.]\n",
      " [200.]\n",
      " [200.]\n",
      " [200.]\n",
      " [200.]]\n"
     ]
    }
   ],
   "source": [
    "p, n = 10, 20\n",
    "M = np.ones((p,n,n))\n",
    "V = np.ones((p,n,1))\n",
    "S = np.tensordot(M, V, axes=[[0, 2], [0, 1]])\n",
    "print(M)\n",
    "print(V)\n",
    "print(S)"
   ]
  },
  {
   "cell_type": "markdown",
   "id": "bbe1dbbd",
   "metadata": {},
   "source": [
    "78. Consider a 16x16 array, how to get the blocksum\n",
    "(block size is 4x4)? "
   ]
  },
  {
   "cell_type": "code",
   "execution_count": 64,
   "id": "de187beb",
   "metadata": {},
   "outputs": [
    {
     "name": "stdout",
     "output_type": "stream",
     "text": [
      "[[16. 16. 16. 16.]\n",
      " [16. 16. 16. 16.]\n",
      " [16. 16. 16. 16.]\n",
      " [16. 16. 16. 16.]]\n"
     ]
    }
   ],
   "source": [
    "Z = np.ones((16,16))\n",
    "k = 4\n",
    "S = np.add.reduceat(np.add.reduceat(Z, np.arange(0, Z.shape[0], k), axis=0),\n",
    "np.arange(0, Z.shape[1], k), axis=1)\n",
    "print(S)"
   ]
  },
  {
   "cell_type": "markdown",
   "id": "09c21da0",
   "metadata": {},
   "source": [
    "80. How to get the n largest values of an array "
   ]
  },
  {
   "cell_type": "code",
   "execution_count": 70,
   "id": "40562929",
   "metadata": {},
   "outputs": [
    {
     "name": "stdout",
     "output_type": "stream",
     "text": [
      "[9995 9996 9997 9998 9999]\n",
      "[9999 9998 9997 9996 9995]\n"
     ]
    }
   ],
   "source": [
    "Z = np.arange(10000)\n",
    "np.random.shuffle(Z)\n",
    "n = 5\n",
    "# Slow\n",
    "print (Z[np.argsort(Z)[-n:]])\n",
    "# Fast\n",
    "print (Z[np.argpartition(-Z,n)[:n]])"
   ]
  },
  {
   "cell_type": "markdown",
   "id": "8ef1f085",
   "metadata": {},
   "source": [
    "82. How to create a record array from a regular array?"
   ]
  },
  {
   "cell_type": "code",
   "execution_count": 71,
   "id": "ff94aa9d",
   "metadata": {},
   "outputs": [
    {
     "name": "stderr",
     "output_type": "stream",
     "text": [
      "C:\\Users\\Arnob\\AppData\\Local\\Temp\\ipykernel_17936\\3040672489.py:3: DeprecationWarning: numpy.core is deprecated and has been renamed to numpy._core. The numpy._core namespace contains private NumPy internals and its use is discouraged, as NumPy internals can change without warning in any release. In practice, most real-world usage of numpy.core is to access functionality in the public NumPy API. If that is the case, use the public NumPy API. If not, you are using NumPy internals. If you would still like to access an internal attribute, use numpy._core.records.\n",
      "  R = np.core.records.fromarrays(Z.T,\n"
     ]
    }
   ],
   "source": [
    "Z = np.array([(\"Hello\", 2.5, 3),\n",
    "              (\"World\", 3.6, 2)])\n",
    "R = np.core.records.fromarrays(Z.T,\n",
    "names='col1, col2, col3',\n",
    "formats = 'S8, f8, i8')"
   ]
  },
  {
   "cell_type": "markdown",
   "id": "ca77d888",
   "metadata": {},
   "source": [
    "85. Considering a 10x3 matrix, extract rows with unequal values (e.g. [2,2,3])"
   ]
  },
  {
   "cell_type": "code",
   "execution_count": 72,
   "id": "a60fa6fb",
   "metadata": {},
   "outputs": [
    {
     "name": "stdout",
     "output_type": "stream",
     "text": [
      "[[1 1 2]\n",
      " [3 4 4]\n",
      " [4 3 4]\n",
      " [4 2 0]\n",
      " [2 0 1]\n",
      " [2 3 4]\n",
      " [3 1 3]\n",
      " [2 4 3]\n",
      " [2 2 0]\n",
      " [1 4 4]]\n",
      "[[1 1 2]\n",
      " [3 4 4]\n",
      " [4 3 4]\n",
      " [4 2 0]\n",
      " [2 0 1]\n",
      " [2 3 4]\n",
      " [3 1 3]\n",
      " [2 4 3]\n",
      " [2 2 0]\n",
      " [1 4 4]]\n"
     ]
    }
   ],
   "source": [
    "Z = np.random.randint(0,5,(10,3))\n",
    "E = np.logical_and.reduce(Z[:,1:] == Z[:,:-1], axis=1)\n",
    "U = Z[~E]\n",
    "print(Z)\n",
    "print(U)\n"
   ]
  },
  {
   "cell_type": "markdown",
   "id": "d398dd30",
   "metadata": {},
   "source": [
    "90. Given an integer n and a 2D array X, select from X the rows which can be\n",
    "interpreted as draws from a multinomial distribution with n degrees, i.e., the rows\n",
    "which only contain integers and which sum to n."
   ]
  },
  {
   "cell_type": "code",
   "execution_count": 73,
   "id": "bb1d8b10",
   "metadata": {},
   "outputs": [
    {
     "name": "stdout",
     "output_type": "stream",
     "text": [
      "[[2. 0. 1. 1.]]\n"
     ]
    }
   ],
   "source": [
    "X = np.asarray([[1.0, 0.0, 3.0, 8.0],\n",
    "                [2.0, 0.0, 1.0, 1.0],\n",
    "                [1.5, 2.5, 1.0, 0.0]])\n",
    "n = 4\n",
    "M = np.logical_and.reduce(np.mod(X, 1) == 0, axis=-1)\n",
    "M &= (X.sum(axis=-1) == n)\n",
    "print(X[M])"
   ]
  }
 ],
 "metadata": {
  "kernelspec": {
   "display_name": "arnob",
   "language": "python",
   "name": "python3"
  },
  "language_info": {
   "codemirror_mode": {
    "name": "ipython",
    "version": 3
   },
   "file_extension": ".py",
   "mimetype": "text/x-python",
   "name": "python",
   "nbconvert_exporter": "python",
   "pygments_lexer": "ipython3",
   "version": "3.12.10"
  }
 },
 "nbformat": 4,
 "nbformat_minor": 5
}
