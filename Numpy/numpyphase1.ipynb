{
 "cells": [
  {
   "cell_type": "markdown",
   "id": "1d466e2f",
   "metadata": {},
   "source": [
    "* What is NumPy?\n",
    "\n",
    "-> NumPy stands for (Numerical Python) is a Python library that is commonly used for numerical computing.\n",
    "                   It provides a powerful && dimensional array object, as a well as tools for working with these arrays.\n",
    "\n",
    "* History:-\n",
    "\n",
    "-> NumPy was created by Travis Oliphant in 2005,while he was a graduate Student at the Mayo Clinic.\n",
    "\n",
    "* Installation Method:-\n",
    "\n",
    "   NumPy Environment Setup:-\n",
    "\n",
    "  -> pip install numpy .\n",
    "\n",
    "    How we can use it :-\n",
    "    \n",
    "  -> import numpy as np .\n",
    "\n",
    "* NumPy with other liberaries:-\n",
    "\n",
    "1. NumPy with Pandas.\n",
    "\n",
    "2. NumPy with Matplotlib.\n",
    "\n",
    "3. NumPy with SciPy.\n",
    "\n"
   ]
  },
  {
   "cell_type": "markdown",
   "id": "54d84eed",
   "metadata": {},
   "source": [
    "Creating NumPy Arrays\n"
   ]
  },
  {
   "cell_type": "code",
   "execution_count": 6,
   "id": "b02716d5",
   "metadata": {},
   "outputs": [],
   "source": [
    "# %pip install numpy"
   ]
  },
  {
   "cell_type": "code",
   "execution_count": 3,
   "id": "c3453f5f",
   "metadata": {},
   "outputs": [],
   "source": [
    "import numpy as np"
   ]
  },
  {
   "cell_type": "code",
   "execution_count": 5,
   "id": "28299d09",
   "metadata": {},
   "outputs": [
    {
     "data": {
      "text/plain": [
       "array([1, 2, 3, 4, 5])"
      ]
     },
     "execution_count": 5,
     "metadata": {},
     "output_type": "execute_result"
    }
   ],
   "source": [
    "#creating an array.\n",
    "# 1D Array.\n",
    "arr = np.array([1,2,3,4,5])\n",
    "arr"
   ]
  },
  {
   "cell_type": "code",
   "execution_count": null,
   "id": "0d99acf2",
   "metadata": {},
   "outputs": [
    {
     "name": "stdout",
     "output_type": "stream",
     "text": [
      "[1 2 3 4 5 6 7 8]\n",
      "[[1 2 3]\n",
      " [4 5 6]]\n"
     ]
    }
   ],
   "source": [
    "#creating 1d and 2d array..\n",
    "arr_1d=np.array([1,2,3,4,5,6,7,8])\n",
    "print(arr_1d)\n",
    "\n",
    "arr_2d=np.array([[1,2,3],[4,5,6]])\n",
    "print(arr_2d)"
   ]
  },
  {
   "cell_type": "code",
   "execution_count": 34,
   "id": "154e5206",
   "metadata": {},
   "outputs": [
    {
     "name": "stdout",
     "output_type": "stream",
     "text": [
      "\n",
      " List operation time:  0.05834031105041504\n",
      "Python list multiplication  [1, 2, 3, 1, 2, 3]\n",
      "Python array multiplication  [2 4 6]\n"
     ]
    }
   ],
   "source": [
    "#List vs Numpy array...\n",
    "import time\n",
    "start=time.time()\n",
    "py_list=[i*2 for i in range(1000000)]\n",
    "print(\"\\n List operation time: \", time.time() - start)\n",
    "\n",
    "py_list=[1,2,3]\n",
    "print(\"Python list multiplication \", py_list * 2)   #list multiplication\n",
    "\n",
    "np_array=np.array([1,2,3])\n",
    "print(\"Python array multiplication \", np_array * 2) #array multiplication       element wise multiplication...\n",
    "\n"
   ]
  },
  {
   "cell_type": "code",
   "execution_count": null,
   "id": "e58a0f53",
   "metadata": {},
   "outputs": [
    {
     "name": "stdout",
     "output_type": "stream",
     "text": [
      "\n",
      " List operation time:  0.05100131034851074\n",
      "\n",
      " Numpy operation time:  0.004003763198852539\n"
     ]
    }
   ],
   "source": [
    "#List vs Numpy...\n",
    "import time\n",
    "start=time.time()\n",
    "py_list=[1,2,3]\n",
    "py_list=[i*2 for i in range(1000000)]\n",
    "print(\"\\n List operation time: \", time.time() - start)\n",
    "\n",
    "start=time.time()\n",
    "np_array=np.array([1,2,3])\n",
    "np_array=np.arange(1000000) * 2\n",
    "print(\"\\n Numpy operation time: \", time.time() - start)\n",
    "\n",
    "\n",
    "\n"
   ]
  },
  {
   "cell_type": "code",
   "execution_count": null,
   "id": "47e74c37",
   "metadata": {},
   "outputs": [
    {
     "name": "stdout",
     "output_type": "stream",
     "text": [
      "zeros array:\n",
      "  [[0. 0. 0. 0.]\n",
      " [0. 0. 0. 0.]\n",
      " [0. 0. 0. 0.]]\n",
      "ones array:\n",
      "  [[1. 1. 1.]\n",
      " [1. 1. 1.]]\n",
      "full : \n",
      "  [[9 9]\n",
      " [9 9]]\n",
      "random array : \n",
      " [[0.48161511 0.84119279 0.71656524]\n",
      " [0.90609149 0.15476261 0.91632952]]\n",
      "sequence array : \n",
      " [ 0  2  4  6  8 10]\n"
     ]
    }
   ],
   "source": [
    "#Creating Array from Scratch.....\n",
    "zeros=np.zeros([3,4])\n",
    "print(\"zeros array:\\n \", zeros)  #zeros  array\n",
    "\n",
    "\n",
    "ones=np.ones([2,3])\n",
    "print(\"ones array:\\n \", ones)   #ones array \n",
    "\n",
    "\n",
    "full = np.full((2,2),9)\n",
    "print(\"full : \\n \", full)       #full array\n",
    "\n",
    "\n",
    "random = np.random.random((2, 3))   #random  array\n",
    "print(\"random array : \\n\", random)\n",
    "\n",
    "\n",
    "\n",
    "sequence = np.arange(0,11,2)        #sequence array \n",
    "print(\"sequence array : \\n\", sequence)\n",
    "\n",
    "\n",
    "\n"
   ]
  },
  {
   "cell_type": "code",
   "execution_count": 13,
   "id": "cf16a8d2",
   "metadata": {},
   "outputs": [
    {
     "name": "stdout",
     "output_type": "stream",
     "text": [
      "80\n"
     ]
    }
   ],
   "source": [
    "#creating a 0-D Array.\n",
    "arrzero=np.array(80)\n",
    "print(arrzero)"
   ]
  },
  {
   "cell_type": "code",
   "execution_count": 14,
   "id": "b62b6d20",
   "metadata": {},
   "outputs": [
    {
     "name": "stdout",
     "output_type": "stream",
     "text": [
      "1\n"
     ]
    },
    {
     "data": {
      "text/plain": [
       "0"
      ]
     },
     "execution_count": 14,
     "metadata": {},
     "output_type": "execute_result"
    }
   ],
   "source": [
    "#checking the dimension of the array.        .ndim is use to find the dimension of array....\n",
    "print(arr.ndim)    # 1D\n",
    "arrzero.ndim       # 2D"
   ]
  },
  {
   "cell_type": "markdown",
   "id": "aaabfbf2",
   "metadata": {},
   "source": [
    "Vector , Matrix and Tensor"
   ]
  },
  {
   "cell_type": "code",
   "execution_count": 63,
   "id": "4c60eaef",
   "metadata": {},
   "outputs": [
    {
     "name": "stdout",
     "output_type": "stream",
     "text": [
      "vector:\n",
      "  [1 2 3]\n",
      "matrix: \n",
      " [[1 2 3]\n",
      " [4 5 6]]\n",
      "tensor: \n",
      " [[[1 2]\n",
      "  [3 4]]\n",
      "\n",
      " [[5 6]\n",
      "  [7 8]]]\n"
     ]
    }
   ],
   "source": [
    "vector = np.array([1,2,3])\n",
    "print(\"vector:\\n \", vector)\n",
    "\n",
    "matrix = np.array([[1,2,3],[4,5,6]])\n",
    "print(\"matrix: \\n\", matrix)\n",
    "\n",
    "tensor = np.array([[[1,2],[3,4]],[[5,6],[7,8]]])\n",
    "print(\"tensor: \\n\", tensor)\n",
    "\n",
    "\n",
    "\n"
   ]
  },
  {
   "cell_type": "code",
   "execution_count": 15,
   "id": "fb66ef23",
   "metadata": {},
   "outputs": [
    {
     "name": "stdout",
     "output_type": "stream",
     "text": [
      "[[ 1  2  3  4  5]\n",
      " [ 7  8  9 10 11]]\n"
     ]
    }
   ],
   "source": [
    "# 2D Array.     \\\\  In 2D  there will be two brackets... //\n",
    "arr2=np.array([[1,2,3,4,5],[7,8,9,10,11]])\n",
    "print(arr2)"
   ]
  },
  {
   "cell_type": "markdown",
   "id": "01e88c17",
   "metadata": {},
   "source": [
    "Array Properties..."
   ]
  },
  {
   "cell_type": "code",
   "execution_count": 72,
   "id": "5728931a",
   "metadata": {},
   "outputs": [
    {
     "name": "stdout",
     "output_type": "stream",
     "text": [
      "Shape (2, 3)\n",
      "Dimension 2\n",
      "Size 6\n",
      "Dtype int64\n"
     ]
    }
   ],
   "source": [
    "arr=np.array([[1,2,3],\n",
    "             [4,5,6]])\n",
    "print(\"Shape\",arr.shape)\n",
    "print(\"Dimension\",arr.ndim)\n",
    "print(\"Size\", arr.size)\n",
    "print(\"Dtype\", arr.dtype)"
   ]
  },
  {
   "cell_type": "code",
   "execution_count": 16,
   "id": "ba6303e8",
   "metadata": {},
   "outputs": [
    {
     "name": "stdout",
     "output_type": "stream",
     "text": [
      "5\n",
      "1\n",
      "10\n"
     ]
    }
   ],
   "source": [
    "#number of elements...\n",
    "print(arr.size)\n",
    "print(arrzero.size)\n",
    "print(arr2.size)"
   ]
  },
  {
   "cell_type": "code",
   "execution_count": 17,
   "id": "4082ba31",
   "metadata": {},
   "outputs": [
    {
     "name": "stdout",
     "output_type": "stream",
     "text": [
      "40\n",
      "8\n",
      "80\n"
     ]
    }
   ],
   "source": [
    "#Total memory taken by an Array...\n",
    "print(arr.nbytes)\n",
    "print(arrzero.nbytes)\n",
    "print(arr2.nbytes)"
   ]
  },
  {
   "cell_type": "code",
   "execution_count": 18,
   "id": "c40ad99f",
   "metadata": {},
   "outputs": [
    {
     "name": "stdout",
     "output_type": "stream",
     "text": [
      "8\n",
      "8\n",
      "8\n"
     ]
    }
   ],
   "source": [
    "#single element size\n",
    "print(arr.itemsize)\n",
    "print(arrzero.itemsize)\n",
    "print(arr2.itemsize)"
   ]
  },
  {
   "cell_type": "code",
   "execution_count": 19,
   "id": "e39dd875",
   "metadata": {},
   "outputs": [
    {
     "name": "stdout",
     "output_type": "stream",
     "text": [
      "int64\n",
      "int64\n"
     ]
    },
    {
     "data": {
      "text/plain": [
       "dtype('int64')"
      ]
     },
     "execution_count": 19,
     "metadata": {},
     "output_type": "execute_result"
    }
   ],
   "source": [
    "#for the data type of the array\n",
    "print(arr.dtype)\n",
    "print(arrzero.dtype)\n",
    "arr2.dtype\n"
   ]
  },
  {
   "cell_type": "markdown",
   "id": "f3c22ba6",
   "metadata": {},
   "source": [
    "Array Reshaping"
   ]
  },
  {
   "cell_type": "code",
   "execution_count": 82,
   "id": "e0554733",
   "metadata": {},
   "outputs": [
    {
     "name": "stdout",
     "output_type": "stream",
     "text": [
      "Original Array:  [ 0  1  2  3  4  5  6  7  8  9 10 11]\n",
      "\n",
      "Reshaped array:\n",
      " [[ 0  1  2  3]\n",
      " [ 4  5  6  7]\n",
      " [ 8  9 10 11]]\n",
      "\n",
      " Flattened array: \n",
      " [ 0  1  2  3  4  5  6  7  8  9 10 11]\n",
      "\n",
      " raveled array: \n",
      " [ 0  1  2  3  4  5  6  7  8  9 10 11]\n",
      "\n",
      " Transpose array:\n",
      " [[ 0  4  8]\n",
      " [ 1  5  9]\n",
      " [ 2  6 10]\n",
      " [ 3  7 11]]\n"
     ]
    }
   ],
   "source": [
    "arr= np.arange(12)\n",
    "print(\"Original Array: \", arr)\n",
    "\n",
    "reshaped= arr.reshape((3,4))\n",
    "print(\"\\nReshaped array:\\n\",reshaped)\n",
    "\n",
    "flattened = reshaped.flatten()\n",
    "print(\"\\n Flattened array: \\n\", flattened)\n",
    "\n",
    "raveled= reshaped.ravel()      # returns view , instead of copy....\n",
    "print(\"\\n raveled array: \\n\", raveled)\n",
    "\n",
    "transpose= reshaped.T               #transpose\n",
    "print(\"\\n Transpose array:\\n\",transpose)   "
   ]
  },
  {
   "cell_type": "code",
   "execution_count": 20,
   "id": "dfaee86d",
   "metadata": {},
   "outputs": [
    {
     "name": "stdout",
     "output_type": "stream",
     "text": [
      "[[ 1  2  3  4  5]\n",
      " [ 7  8  9 10 11]]\n"
     ]
    }
   ],
   "source": [
    "print(arr2)\n",
    "# [[1,2,3,4,5]     (0th row)\n",
    "#  7,8,9,10,11]    (1st row row)"
   ]
  },
  {
   "cell_type": "code",
   "execution_count": 21,
   "id": "d113ac97",
   "metadata": {},
   "outputs": [
    {
     "data": {
      "text/plain": [
       "np.int64(3)"
      ]
     },
     "execution_count": 21,
     "metadata": {},
     "output_type": "execute_result"
    }
   ],
   "source": [
    "#for the specific element of the Array().\n",
    "arr2[0,2]"
   ]
  },
  {
   "cell_type": "code",
   "execution_count": 22,
   "id": "926b7ac9",
   "metadata": {},
   "outputs": [
    {
     "name": "stdout",
     "output_type": "stream",
     "text": [
      "[1 2 3 4 5]\n"
     ]
    },
    {
     "data": {
      "text/plain": [
       "array([ 7,  8,  9, 10, 11])"
      ]
     },
     "execution_count": 22,
     "metadata": {},
     "output_type": "execute_result"
    }
   ],
   "source": [
    "#specific row of the Array().\n",
    "print(arr2[0,:]) \n",
    "arr2[1,:]     # colon (:) means saare elements ajayenge..."
   ]
  },
  {
   "cell_type": "code",
   "execution_count": 23,
   "id": "2a92c993",
   "metadata": {},
   "outputs": [
    {
     "name": "stdout",
     "output_type": "stream",
     "text": [
      "[ 1  2  3  4  5  6  7  8  9 10]\n"
     ]
    }
   ],
   "source": [
    "arr3 = np.array([1,2,3,4,5,6,7,8,9,10])\n",
    "print(arr3)"
   ]
  },
  {
   "cell_type": "code",
   "execution_count": 24,
   "id": "9664baba",
   "metadata": {},
   "outputs": [
    {
     "name": "stdout",
     "output_type": "stream",
     "text": [
      "[2 3 4 5]\n"
     ]
    }
   ],
   "source": [
    "# [Start Index : Ending Index] [inclusive : exclusive]\n",
    "print(arr3[1:5])    #1st index include     #2nd index exclude...."
   ]
  },
  {
   "cell_type": "code",
   "execution_count": 25,
   "id": "91e46f71",
   "metadata": {},
   "outputs": [
    {
     "name": "stdout",
     "output_type": "stream",
     "text": [
      "[ 6  7  8  9 10]\n"
     ]
    }
   ],
   "source": [
    "print(arr3[5:])     #starting pata h end nhi pata  #inclusive"
   ]
  },
  {
   "cell_type": "code",
   "execution_count": 26,
   "id": "29f25dba",
   "metadata": {},
   "outputs": [
    {
     "name": "stdout",
     "output_type": "stream",
     "text": [
      "[1 2 3 4 5]\n"
     ]
    }
   ],
   "source": [
    "print(arr3[:5])     #ending pata h starting nhi pata  #exclusive"
   ]
  },
  {
   "cell_type": "code",
   "execution_count": 27,
   "id": "d3c517f9",
   "metadata": {},
   "outputs": [
    {
     "name": "stdout",
     "output_type": "stream",
     "text": [
      "[[ 1  2  3  4  5]\n",
      " [ 7  8  9 10 11]]\n"
     ]
    }
   ],
   "source": [
    "print(arr2)"
   ]
  },
  {
   "cell_type": "code",
   "execution_count": 28,
   "id": "b415fcf0",
   "metadata": {},
   "outputs": [
    {
     "name": "stdout",
     "output_type": "stream",
     "text": [
      "[ 8  9 10]\n"
     ]
    }
   ],
   "source": [
    "print(arr2[1,1:4])"
   ]
  },
  {
   "cell_type": "code",
   "execution_count": 29,
   "id": "d2f6f35b",
   "metadata": {},
   "outputs": [
    {
     "name": "stdout",
     "output_type": "stream",
     "text": [
      "[[ 1  2  3  4  5]\n",
      " [ 7  8  9 10 11]]\n"
     ]
    }
   ],
   "source": [
    "#copy of an Array...\n",
    "arr4 = arr2.copy()\n",
    "print(arr4)"
   ]
  },
  {
   "cell_type": "code",
   "execution_count": 59,
   "id": "16ce0cc7",
   "metadata": {},
   "outputs": [
    {
     "data": {
      "text/plain": [
       "array([[ 1,  2,  3,  4,  5],\n",
       "       [ 7,  8,  9, 10, 11]])"
      ]
     },
     "execution_count": 59,
     "metadata": {},
     "output_type": "execute_result"
    }
   ],
   "source": [
    "arr4"
   ]
  },
  {
   "cell_type": "code",
   "execution_count": null,
   "id": "c5decaec",
   "metadata": {},
   "outputs": [
    {
     "data": {
      "text/plain": [
       "array([[0., 0., 0., 0., 0., 0.],\n",
       "       [0., 0., 0., 0., 0., 0.],\n",
       "       [0., 0., 0., 0., 0., 0.],\n",
       "       [0., 0., 0., 0., 0., 0.]])"
      ]
     },
     "execution_count": 60,
     "metadata": {},
     "output_type": "execute_result"
    }
   ],
   "source": [
    "#Zero matrix...\n",
    "np.zeros((4,6))       #1st row    #2nd column        (rows,cols)"
   ]
  },
  {
   "cell_type": "code",
   "execution_count": null,
   "id": "f405ca6c",
   "metadata": {},
   "outputs": [
    {
     "data": {
      "text/plain": [
       "array([[[1., 1., 1.],\n",
       "        [1., 1., 1.],\n",
       "        [1., 1., 1.]],\n",
       "\n",
       "       [[1., 1., 1.],\n",
       "        [1., 1., 1.],\n",
       "        [1., 1., 1.]],\n",
       "\n",
       "       [[1., 1., 1.],\n",
       "        [1., 1., 1.],\n",
       "        [1., 1., 1.]],\n",
       "\n",
       "       [[1., 1., 1.],\n",
       "        [1., 1., 1.],\n",
       "        [1., 1., 1.]],\n",
       "\n",
       "       [[1., 1., 1.],\n",
       "        [1., 1., 1.],\n",
       "        [1., 1., 1.]],\n",
       "\n",
       "       [[1., 1., 1.],\n",
       "        [1., 1., 1.],\n",
       "        [1., 1., 1.]]])"
      ]
     },
     "execution_count": 63,
     "metadata": {},
     "output_type": "execute_result"
    }
   ],
   "source": [
    "#All 1 matrix....  3D Array matrix\n",
    "np.ones((6,3,3))       #6 Array created     #3 rows   #3cols"
   ]
  },
  {
   "cell_type": "code",
   "execution_count": null,
   "id": "7f4b5300",
   "metadata": {},
   "outputs": [
    {
     "data": {
      "text/plain": [
       "array([[645, 645, 645, ..., 645, 645, 645],\n",
       "       [645, 645, 645, ..., 645, 645, 645],\n",
       "       [645, 645, 645, ..., 645, 645, 645],\n",
       "       ...,\n",
       "       [645, 645, 645, ..., 645, 645, 645],\n",
       "       [645, 645, 645, ..., 645, 645, 645],\n",
       "       [645, 645, 645, ..., 645, 645, 645]], shape=(40, 40))"
      ]
     },
     "execution_count": 65,
     "metadata": {},
     "output_type": "execute_result"
    }
   ],
   "source": [
    "#Other matrix.....\n",
    "np.full((40,40),645)     #645 no wala matrix created    #40 rows   #40 cols"
   ]
  },
  {
   "cell_type": "code",
   "execution_count": null,
   "id": "04e7325c",
   "metadata": {},
   "outputs": [
    {
     "data": {
      "text/plain": [
       "array([[[550, 550, 550, 550],\n",
       "        [550, 550, 550, 550],\n",
       "        [550, 550, 550, 550],\n",
       "        [550, 550, 550, 550]],\n",
       "\n",
       "       [[550, 550, 550, 550],\n",
       "        [550, 550, 550, 550],\n",
       "        [550, 550, 550, 550],\n",
       "        [550, 550, 550, 550]],\n",
       "\n",
       "       [[550, 550, 550, 550],\n",
       "        [550, 550, 550, 550],\n",
       "        [550, 550, 550, 550],\n",
       "        [550, 550, 550, 550]],\n",
       "\n",
       "       [[550, 550, 550, 550],\n",
       "        [550, 550, 550, 550],\n",
       "        [550, 550, 550, 550],\n",
       "        [550, 550, 550, 550]],\n",
       "\n",
       "       [[550, 550, 550, 550],\n",
       "        [550, 550, 550, 550],\n",
       "        [550, 550, 550, 550],\n",
       "        [550, 550, 550, 550]],\n",
       "\n",
       "       [[550, 550, 550, 550],\n",
       "        [550, 550, 550, 550],\n",
       "        [550, 550, 550, 550],\n",
       "        [550, 550, 550, 550]]])"
      ]
     },
     "execution_count": 75,
     "metadata": {},
     "output_type": "execute_result"
    }
   ],
   "source": [
    "#Other matrix....\n",
    "np.full((6,4,4),550)  # 6 Array/Matrix created     # 550 no wala matrix created  # 4 rows # 4 cols"
   ]
  },
  {
   "cell_type": "code",
   "execution_count": 66,
   "id": "d390377c",
   "metadata": {},
   "outputs": [],
   "source": [
    "#Importing random...\n",
    "from numpy import random"
   ]
  },
  {
   "cell_type": "code",
   "execution_count": null,
   "id": "7a3ab975",
   "metadata": {},
   "outputs": [
    {
     "name": "stdout",
     "output_type": "stream",
     "text": [
      "91\n"
     ]
    }
   ],
   "source": [
    "x= random.randint(100)    #random numbers...\n",
    "print(x)"
   ]
  },
  {
   "cell_type": "code",
   "execution_count": null,
   "id": "b143beb0",
   "metadata": {},
   "outputs": [
    {
     "data": {
      "text/plain": [
       "array([[0.27289152, 0.92163104, 0.5889337 , 0.74161089],\n",
       "       [0.73492062, 0.3949205 , 0.739593  , 0.22597081],\n",
       "       [0.64594304, 0.27479232, 0.84150818, 0.24034511],\n",
       "       [0.85711498, 0.73642166, 0.72537644, 0.47167405]])"
      ]
     },
     "execution_count": 73,
     "metadata": {},
     "output_type": "execute_result"
    }
   ],
   "source": [
    "#Decimal number matrix... using random numbers...\n",
    "np.random.rand(4,4)"
   ]
  },
  {
   "cell_type": "code",
   "execution_count": null,
   "id": "5a2b0e3d",
   "metadata": {},
   "outputs": [
    {
     "data": {
      "text/plain": [
       "array([[1., 0., 0., 0., 0., 0.],\n",
       "       [0., 1., 0., 0., 0., 0.],\n",
       "       [0., 0., 1., 0., 0., 0.],\n",
       "       [0., 0., 0., 1., 0., 0.],\n",
       "       [0., 0., 0., 0., 1., 0.],\n",
       "       [0., 0., 0., 0., 0., 1.]])"
      ]
     },
     "execution_count": 80,
     "metadata": {},
     "output_type": "execute_result"
    }
   ],
   "source": [
    "#Identity matrix...\n",
    "np.identity(6)     #Identity matrix starts with one and ends with one only in cross way \\...\n",
    "      "
   ]
  },
  {
   "cell_type": "code",
   "execution_count": 88,
   "id": "62a17887",
   "metadata": {},
   "outputs": [
    {
     "name": "stdout",
     "output_type": "stream",
     "text": [
      "[10 20 30 40]\n"
     ]
    }
   ],
   "source": [
    "#Mathematical Operations on matrix/array....\n",
    "arrm = np.array([10,20,30,40])\n",
    "print(arrm)\n"
   ]
  },
  {
   "cell_type": "code",
   "execution_count": 95,
   "id": "39fe96f0",
   "metadata": {},
   "outputs": [
    {
     "name": "stdout",
     "output_type": "stream",
     "text": [
      "[25 35 45 55]\n"
     ]
    }
   ],
   "source": [
    "#Addition operation...\n",
    "arrm= arrm+15\n",
    "print(arrm)\n"
   ]
  },
  {
   "cell_type": "code",
   "execution_count": null,
   "id": "791523a6",
   "metadata": {},
   "outputs": [
    {
     "name": "stdout",
     "output_type": "stream",
     "text": [
      "[-15  -5   5  15]\n"
     ]
    }
   ],
   "source": [
    "#Subtraction Operation...\n",
    "arrm= arrm-40\n",
    "print(arrm)\n"
   ]
  },
  {
   "cell_type": "code",
   "execution_count": 100,
   "id": "17827a3b",
   "metadata": {},
   "outputs": [
    {
     "data": {
      "text/plain": [
       "array([ 85,  95, 105, 115])"
      ]
     },
     "execution_count": 100,
     "metadata": {},
     "output_type": "execute_result"
    }
   ],
   "source": [
    "arrz=arrm+100\n",
    "arrz"
   ]
  },
  {
   "cell_type": "code",
   "execution_count": 104,
   "id": "dabe2293",
   "metadata": {},
   "outputs": [
    {
     "name": "stdout",
     "output_type": "stream",
     "text": [
      "[ 85  95 105 115]\n"
     ]
    },
    {
     "data": {
      "text/plain": [
       "array([ 850,  950, 1050, 1150])"
      ]
     },
     "execution_count": 104,
     "metadata": {},
     "output_type": "execute_result"
    }
   ],
   "source": [
    "#Multiplication Operation...\n",
    "print(arrz)\n",
    "arrz*10"
   ]
  },
  {
   "cell_type": "code",
   "execution_count": 107,
   "id": "a549ad21",
   "metadata": {},
   "outputs": [
    {
     "name": "stdout",
     "output_type": "stream",
     "text": [
      "[ 85  95 105 115]\n"
     ]
    },
    {
     "data": {
      "text/plain": [
       "array([17., 19., 21., 23.])"
      ]
     },
     "execution_count": 107,
     "metadata": {},
     "output_type": "execute_result"
    }
   ],
   "source": [
    "#Division Operation...\n",
    "print(arrz)\n",
    "arrz/5"
   ]
  },
  {
   "cell_type": "code",
   "execution_count": null,
   "id": "08403592",
   "metadata": {},
   "outputs": [
    {
     "name": "stdout",
     "output_type": "stream",
     "text": [
      "[11 17 23 29 35]\n"
     ]
    }
   ],
   "source": [
    "#Addition of Two different matrix/arrays...\n",
    "a1 =np.array([1,2,3,4,5])\n",
    "a2 =np.array([10,15,20,25,30])\n",
    "print(a1+a2)"
   ]
  },
  {
   "cell_type": "code",
   "execution_count": null,
   "id": "258335f4",
   "metadata": {},
   "outputs": [
    {
     "name": "stdout",
     "output_type": "stream",
     "text": [
      "[ -9 -13 -17 -21 -25]\n"
     ]
    }
   ],
   "source": [
    "#Subtraction of Two different matrix/arrays...\n",
    "a1 =np.array([1,2,3,4,5])\n",
    "a2 =np.array([10,15,20,25,30])\n",
    "print(a1-a2)"
   ]
  },
  {
   "cell_type": "code",
   "execution_count": 110,
   "id": "1481da9d",
   "metadata": {},
   "outputs": [
    {
     "name": "stdout",
     "output_type": "stream",
     "text": [
      "[ 10  30  60 100 150]\n"
     ]
    }
   ],
   "source": [
    "#Multiplication of Two different matrix/arrays...\n",
    "a1 =np.array([1,2,3,4,5])\n",
    "a2 =np.array([10,15,20,25,30])\n",
    "print(a1*a2)"
   ]
  },
  {
   "cell_type": "code",
   "execution_count": null,
   "id": "468ffac9",
   "metadata": {},
   "outputs": [
    {
     "name": "stdout",
     "output_type": "stream",
     "text": [
      "[10.          7.5         6.66666667  6.25        6.        ]\n"
     ]
    }
   ],
   "source": [
    "#Division of Two different matrix/arrays...\n",
    "a1 =np.array([1,2,3,4,5])\n",
    "a2 =np.array([10,15,20,25,30])\n",
    "print(a2/a1)"
   ]
  },
  {
   "cell_type": "code",
   "execution_count": 114,
   "id": "e3217929",
   "metadata": {},
   "outputs": [
    {
     "data": {
      "text/plain": [
       "array([ 0.54030231, -0.41614684, -0.9899925 , -0.65364362,  0.28366219])"
      ]
     },
     "execution_count": 114,
     "metadata": {},
     "output_type": "execute_result"
    }
   ],
   "source": [
    "# Cos function in an Array/Matrix....\n",
    "np.cos(a1)"
   ]
  },
  {
   "cell_type": "code",
   "execution_count": 115,
   "id": "1222505f",
   "metadata": {},
   "outputs": [
    {
     "name": "stdout",
     "output_type": "stream",
     "text": [
      "[[ 1  2  3  4  5]\n",
      " [ 7  8  9 10 11]]\n"
     ]
    }
   ],
   "source": [
    "print(arr2)"
   ]
  },
  {
   "cell_type": "code",
   "execution_count": null,
   "id": "5416ee1e",
   "metadata": {},
   "outputs": [
    {
     "name": "stdout",
     "output_type": "stream",
     "text": [
      "1\n",
      "11\n"
     ]
    }
   ],
   "source": [
    "#Creating Minimum And Maximum Value....\n",
    "print(np.min(arr2))    #minimum value\n",
    "print(np.max(arr2))    #maximum value"
   ]
  },
  {
   "cell_type": "code",
   "execution_count": 129,
   "id": "7ce4781f",
   "metadata": {},
   "outputs": [
    {
     "data": {
      "text/plain": [
       "np.int64(60)"
      ]
     },
     "execution_count": 129,
     "metadata": {},
     "output_type": "execute_result"
    }
   ],
   "source": [
    "#Finding the Sum of an Array...\n",
    "np.sum(arr2)     #Total Sum of matrix = 60"
   ]
  },
  {
   "cell_type": "code",
   "execution_count": null,
   "id": "365356fb",
   "metadata": {},
   "outputs": [
    {
     "name": "stdout",
     "output_type": "stream",
     "text": [
      "1\n",
      "2\n",
      "3\n",
      "4\n",
      "5\n"
     ]
    }
   ],
   "source": [
    "#Iterating in 1D Array...\n",
    "for x in a1:\n",
    "    print(x)"
   ]
  },
  {
   "cell_type": "code",
   "execution_count": 140,
   "id": "ac289b7e",
   "metadata": {},
   "outputs": [
    {
     "name": "stdout",
     "output_type": "stream",
     "text": [
      "[1 2 3 4 5]\n",
      "[ 7  8  9 10 11]\n"
     ]
    }
   ],
   "source": [
    "#Iterating in 2D Array...\n",
    "for z in arr2:\n",
    "    print(z)"
   ]
  },
  {
   "cell_type": "code",
   "execution_count": null,
   "id": "741b5f4e",
   "metadata": {},
   "outputs": [
    {
     "name": "stdout",
     "output_type": "stream",
     "text": [
      "1\n",
      "2\n",
      "3\n",
      "4\n",
      "5\n",
      "7\n",
      "8\n",
      "9\n",
      "10\n",
      "11\n"
     ]
    }
   ],
   "source": [
    "#Iterating in 2D Array...\n",
    "for a in arr2:\n",
    "    for b in a:\n",
    "        print(b)"
   ]
  }
 ],
 "metadata": {
  "kernelspec": {
   "display_name": "arnob",
   "language": "python",
   "name": "python3"
  },
  "language_info": {
   "codemirror_mode": {
    "name": "ipython",
    "version": 3
   },
   "file_extension": ".py",
   "mimetype": "text/x-python",
   "name": "python",
   "nbconvert_exporter": "python",
   "pygments_lexer": "ipython3",
   "version": "3.12.10"
  }
 },
 "nbformat": 4,
 "nbformat_minor": 5
}
