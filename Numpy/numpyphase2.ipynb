{
 "cells": [
  {
   "cell_type": "markdown",
   "id": "c76905b0",
   "metadata": {},
   "source": [
    "Numpy Array Operations"
   ]
  },
  {
   "cell_type": "code",
   "execution_count": 87,
   "id": "caacb091",
   "metadata": {},
   "outputs": [],
   "source": [
    "import numpy as np"
   ]
  },
  {
   "cell_type": "markdown",
   "id": "9ec3a2ee",
   "metadata": {},
   "source": [
    "Indexing And Slicing\n"
   ]
  },
  {
   "cell_type": "code",
   "execution_count": 88,
   "id": "1be1222e",
   "metadata": {},
   "outputs": [
    {
     "name": "stdout",
     "output_type": "stream",
     "text": [
      "Basic Slicing [3 4 5 6 7]\n",
      "With Step [2 4 6 8]\n",
      "Negative Indexing 8\n"
     ]
    }
   ],
   "source": [
    "#1D Array Indexing And Slicing\n",
    "arr = np.array([1,2,3,4,5,6,7,8,9,10])\n",
    "print(\"Basic Slicing\",arr[2:7])\n",
    "print(\"With Step\",arr[1:8:2])\n",
    "print(\"Negative Indexing\",arr[-3])"
   ]
  },
  {
   "cell_type": "code",
   "execution_count": 89,
   "id": "a07a6370",
   "metadata": {},
   "outputs": [
    {
     "name": "stdout",
     "output_type": "stream",
     "text": [
      "Specific element 6\n",
      "Entire row:  [4 5 6]\n",
      "Entire row:  [2 5 8]\n"
     ]
    }
   ],
   "source": [
    "#2D Array Indexing And Slicing\n",
    "arr_2d=np.array([[1,2,3],\n",
    "                 [4,5,6],\n",
    "                 [7,8,9]])\n",
    "print(\"Specific element\", arr_2d[1,2])\n",
    "print(\"Entire row: \",arr_2d[1])\n",
    "print(\"Entire row: \",arr_2d[:,1])   #[1,]row    #[,2]col"
   ]
  },
  {
   "cell_type": "markdown",
   "id": "5202e94b",
   "metadata": {},
   "source": [
    "Sorting\n"
   ]
  },
  {
   "cell_type": "code",
   "execution_count": 90,
   "id": "6104735a",
   "metadata": {},
   "outputs": [
    {
     "name": "stdout",
     "output_type": "stream",
     "text": [
      "Sorted Array [1 1 2 3 4 5 6 9]\n"
     ]
    }
   ],
   "source": [
    "unsorted =np.array([3,1,4,1,5,9,2,6])\n",
    "print(\"Sorted Array\",np.sort(unsorted))"
   ]
  },
  {
   "cell_type": "code",
   "execution_count": 91,
   "id": "39968c45",
   "metadata": {},
   "outputs": [
    {
     "name": "stdout",
     "output_type": "stream",
     "text": [
      "Sorted 2D Array by column :\n",
      " [[1 1]\n",
      " [2 2]\n",
      " [3 3]]\n",
      "Sorted 2D Array by row :\n",
      " [[1 3]\n",
      " [1 2]\n",
      " [2 3]]\n"
     ]
    }
   ],
   "source": [
    "arr_2d_unsorted= np.array([[3,1],\n",
    "                           [1,2],\n",
    "                           [2,3]])\n",
    "print(\"Sorted 2D Array by column :\\n\", np.sort(arr_2d_unsorted,axis=0))\n",
    "print(\"Sorted 2D Array by row :\\n\", np.sort(arr_2d_unsorted,axis=1))"
   ]
  },
  {
   "cell_type": "markdown",
   "id": "0e6eeaab",
   "metadata": {},
   "source": [
    "Filtering"
   ]
  },
  {
   "cell_type": "code",
   "execution_count": 92,
   "id": "5db5fe43",
   "metadata": {},
   "outputs": [
    {
     "name": "stdout",
     "output_type": "stream",
     "text": [
      "Even Numbers [ 2  4  6  8 10]\n"
     ]
    }
   ],
   "source": [
    "num = np.array([1,2,3,4,5,6,7,8,9,10])\n",
    "even_numbers = num[num %2==0]\n",
    "print(\"Even Numbers\", even_numbers)"
   ]
  },
  {
   "cell_type": "code",
   "execution_count": 93,
   "id": "2677b7de",
   "metadata": {},
   "outputs": [
    {
     "name": "stdout",
     "output_type": "stream",
     "text": [
      "Odd Numbers [1 3 5 7 9]\n"
     ]
    }
   ],
   "source": [
    "num = np.array([1,2,3,4,5,6,7,8,9,10])\n",
    "odd_numbers = num[num % 2==1]\n",
    "print(\"Odd Numbers\", odd_numbers)"
   ]
  },
  {
   "cell_type": "code",
   "execution_count": 94,
   "id": "0ebfe3ed",
   "metadata": {},
   "outputs": [
    {
     "name": "stdout",
     "output_type": "stream",
     "text": [
      "Even Numbers: [ 2  4  6  8 10]\n",
      "Odd Numbers: [1 3 5 7 9]\n"
     ]
    }
   ],
   "source": [
    "num = np.array([1, 2, 3, 4, 5, 6, 7, 8, 9, 10])\n",
    "\n",
    "even_numbers = num[num % 2 == 0]\n",
    "odd_numbers = num[num % 2 != 0]\n",
    "\n",
    "print(\"Even Numbers:\", even_numbers)\n",
    "print(\"Odd Numbers:\", odd_numbers)\n"
   ]
  },
  {
   "cell_type": "markdown",
   "id": "6b72bd4c",
   "metadata": {},
   "source": [
    "Filter With Mask"
   ]
  },
  {
   "cell_type": "code",
   "execution_count": 95,
   "id": "3c0a3199",
   "metadata": {},
   "outputs": [
    {
     "name": "stdout",
     "output_type": "stream",
     "text": [
      "Numbers greater than 5  [ 6  7  8  9 10]\n"
     ]
    }
   ],
   "source": [
    "mask =num > 5\n",
    "print(\"Numbers greater than 5 \", num[mask])"
   ]
  },
  {
   "cell_type": "code",
   "execution_count": 96,
   "id": "d779ca26",
   "metadata": {},
   "outputs": [
    {
     "name": "stdout",
     "output_type": "stream",
     "text": [
      "Numbers greater than 5  [1 2 3 4]\n"
     ]
    }
   ],
   "source": [
    "mask =num < 5\n",
    "print(\"Numbers greater than 5 \", num[mask])"
   ]
  },
  {
   "cell_type": "markdown",
   "id": "7eb553ce",
   "metadata": {},
   "source": [
    "Fancy Indexing vs np.where()"
   ]
  },
  {
   "cell_type": "code",
   "execution_count": 97,
   "id": "434f86b1",
   "metadata": {},
   "outputs": [
    {
     "name": "stdout",
     "output_type": "stream",
     "text": [
      "[1 3 5]\n"
     ]
    }
   ],
   "source": [
    "num = np.array([1, 2, 3, 4, 5, 6, 7, 8, 9, 10])  # Define num first\n",
    "indices = [0, 2, 4]\n",
    "print(num[indices])  # Now this works\n"
   ]
  },
  {
   "cell_type": "code",
   "execution_count": 98,
   "id": "f6d6f245",
   "metadata": {},
   "outputs": [
    {
     "name": "stdout",
     "output_type": "stream",
     "text": [
      "(array([5, 6, 7, 8, 9]),)\n",
      "NP where  [ 6  7  8  9 10]\n"
     ]
    }
   ],
   "source": [
    "num = np.array([1, 2, 3, 4, 5, 6, 7, 8, 9, 10])  # Define num first\n",
    "where_result = np.where(num > 5)\n",
    "print(where_result)\n",
    "print(\"NP where \", num[where_result])\n"
   ]
  },
  {
   "cell_type": "code",
   "execution_count": 99,
   "id": "3a8dd9bd",
   "metadata": {},
   "outputs": [
    {
     "name": "stdout",
     "output_type": "stream",
     "text": [
      "[ 1  2  3  4  5 24 28 32 36 40]\n"
     ]
    }
   ],
   "source": [
    "condition_array = np.where(num > 5, num*4, num)\n",
    "print(condition_array)"
   ]
  },
  {
   "cell_type": "code",
   "execution_count": 100,
   "id": "a01939ca",
   "metadata": {},
   "outputs": [
    {
     "name": "stdout",
     "output_type": "stream",
     "text": [
      "['false' 'false' 'false' 'false' 'false' 'true' 'true' 'true' 'true'\n",
      " 'true']\n"
     ]
    }
   ],
   "source": [
    "condition_array = np.where(num > 5,\"true\",\"false\")\n",
    "print(condition_array)"
   ]
  },
  {
   "cell_type": "markdown",
   "id": "0900056c",
   "metadata": {},
   "source": [
    "Adding And Removing Data"
   ]
  },
  {
   "cell_type": "code",
   "execution_count": 101,
   "id": "bd31b65c",
   "metadata": {},
   "outputs": [
    {
     "name": "stdout",
     "output_type": "stream",
     "text": [
      "[1 2 3 4 5 6]\n"
     ]
    }
   ],
   "source": [
    "arr1 = np.array([1,2,3])\n",
    "arr2 = np.array([4,5,6])\n",
    "combined = np.concatenate((arr1,arr2))\n",
    "print(combined)\n"
   ]
  },
  {
   "cell_type": "code",
   "execution_count": 102,
   "id": "35dc8fd9",
   "metadata": {},
   "outputs": [
    {
     "name": "stdout",
     "output_type": "stream",
     "text": [
      "Array after deletion: [1 2 4 5]\n"
     ]
    }
   ],
   "source": [
    "arr = np.array([1,2,3,4,5])\n",
    "deleted= np.delete(arr,2)\n",
    "print(\"Array after deletion:\",deleted)\n"
   ]
  },
  {
   "cell_type": "markdown",
   "id": "58ff3365",
   "metadata": {},
   "source": [
    "Array Compatibility"
   ]
  },
  {
   "cell_type": "code",
   "execution_count": 69,
   "id": "081dde2b",
   "metadata": {},
   "outputs": [
    {
     "name": "stdout",
     "output_type": "stream",
     "text": [
      "Compatibility Shapes  True\n"
     ]
    }
   ],
   "source": [
    "a = np.array([1,2,3])\n",
    "b = np.array([4,5,6])\n",
    "c = np.array([7,8,9])\n",
    "\n",
    "print(\"Compatibility Shapes \", a.shape == b.shape == c.shape)"
   ]
  },
  {
   "cell_type": "code",
   "execution_count": 72,
   "id": "c5241bf7",
   "metadata": {},
   "outputs": [
    {
     "name": "stdout",
     "output_type": "stream",
     "text": [
      "Compatibility Shapes  False\n"
     ]
    }
   ],
   "source": [
    "a = np.array([1,2,3])\n",
    "b = np.array([4,5,6,7])\n",
    "c = np.array([7,8,9])\n",
    "\n",
    "print(\"Compatibility Shapes \", a.shape == b.shape == c.shape)"
   ]
  },
  {
   "cell_type": "code",
   "execution_count": 76,
   "id": "a86e7d3c",
   "metadata": {},
   "outputs": [
    {
     "name": "stdout",
     "output_type": "stream",
     "text": [
      "[[1 2]\n",
      " [3 4]]\n",
      "\n",
      " [[1 2]\n",
      " [3 4]\n",
      " [5 6]]\n",
      "\n",
      " [[1 2 7]\n",
      " [3 4 8]]\n"
     ]
    }
   ],
   "source": [
    "original =np.array([[1,2],[3,4]])\n",
    "new_row =np.array([[5,6]])\n",
    "\n",
    "with_new_row = np.vstack((original,new_row))\n",
    "print(original)\n",
    "print(\"\\n\",with_new_row)\n",
    "\n",
    "new_col = np.array([[7],[8]])\n",
    "with_new_col = np.hstack((original,new_col))\n",
    "print(\"\\n\",with_new_col)\n"
   ]
  },
  {
   "cell_type": "code",
   "execution_count": null,
   "id": "dfee3224",
   "metadata": {},
   "outputs": [],
   "source": []
  }
 ],
 "metadata": {
  "kernelspec": {
   "display_name": "arnob",
   "language": "python",
   "name": "python3"
  },
  "language_info": {
   "codemirror_mode": {
    "name": "ipython",
    "version": 3
   },
   "file_extension": ".py",
   "mimetype": "text/x-python",
   "name": "python",
   "nbconvert_exporter": "python",
   "pygments_lexer": "ipython3",
   "version": "3.12.10"
  }
 },
 "nbformat": 4,
 "nbformat_minor": 5
}
